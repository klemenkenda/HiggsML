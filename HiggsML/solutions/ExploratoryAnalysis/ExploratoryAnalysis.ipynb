{
 "cells": [
  {
   "cell_type": "markdown",
   "metadata": {},
   "source": [
    "# Raziskovalna analiza podatkov\n",
    "## HiggsML Challenge\n",
    "Klemen Kenda, april 2016"
   ]
  },
  {
   "cell_type": "code",
   "execution_count": 283,
   "metadata": {
    "collapsed": false
   },
   "outputs": [],
   "source": [
    "%matplotlib inline\n",
    "import numpy as np\n",
    "import pandas as pd\n",
    "import matplotlib.pyplot as plt"
   ]
  },
  {
   "cell_type": "markdown",
   "metadata": {},
   "source": [
    "### Importing data"
   ]
  },
  {
   "cell_type": "code",
   "execution_count": 2,
   "metadata": {
    "collapsed": false
   },
   "outputs": [],
   "source": [
    "dirName = '../../data/'\n",
    "fileName = dirName + 'training.csv'\n",
    "data = pd.read_csv(fileName)\n",
    "\n",
    "# replace missing values with NaN\n",
    "data = data.replace(-999.0, np.nan)"
   ]
  },
  {
   "cell_type": "markdown",
   "metadata": {},
   "source": [
    "#### Initial data analysis"
   ]
  },
  {
   "cell_type": "code",
   "execution_count": 3,
   "metadata": {
    "collapsed": false,
    "scrolled": true
   },
   "outputs": [],
   "source": [
    "# number of rows\n",
    "rows = data.shape[0]\n",
    "\n",
    "# make separate variables for signal and background\n",
    "signal = data.query('Label == \"s\"')\n",
    "background = data.query('Label == \"b\"')\n",
    "\n",
    "# number of signal rows\n",
    "signalRows = signal.shape[0]\n",
    "# number of background rows\n",
    "backgroundRows = background.shape[0]"
   ]
  },
  {
   "cell_type": "code",
   "execution_count": 4,
   "metadata": {
    "collapsed": false
   },
   "outputs": [
    {
     "data": {
      "text/plain": [
       "{85667, 164333, 250000}"
      ]
     },
     "execution_count": 4,
     "metadata": {},
     "output_type": "execute_result"
    }
   ],
   "source": [
    "{rows, signalRows, backgroundRows}"
   ]
  },
  {
   "cell_type": "code",
   "execution_count": 5,
   "metadata": {
    "collapsed": false
   },
   "outputs": [],
   "source": [
    "# by label\n",
    "byLabel = data.groupby('Label')\n",
    "\n",
    "# write to file\n",
    "# TODO \n",
    "#   - smaller fonts\n",
    "#   - different arrangement\n",
    "fo = open(\"byLabelDescriptionStats.tex\", \"w\")\n",
    "fo.write(byLabel.describe().transpose().to_latex())\n",
    "fo.close()\n",
    "\n",
    "fo = open(\"dataDescriptionStats.html\", \"w\")\n",
    "fo.write(data.describe().transpose().to_html())\n",
    "fo.close()"
   ]
  },
  {
   "cell_type": "markdown",
   "metadata": {},
   "source": [
    "## Histograms"
   ]
  },
  {
   "cell_type": "code",
   "execution_count": 6,
   "metadata": {
    "collapsed": false
   },
   "outputs": [],
   "source": [
    "def DoubleHist(var, rMin, rMax):\n",
    "    plt.figure(var);\n",
    "    num_bins = 30;\n",
    "    x = background[var]\n",
    "    y = signal[var]\n",
    "    common_params = dict(bins = 50, range=(rMin, rMax), normed=1)\n",
    "    n, bins, patches = plt.hist(x, facecolor='green', alpha=0.5, **common_params)\n",
    "    n, bins, patches = plt.hist(y, facecolor='orange', alpha=0.5, **common_params)\n",
    "    plt.title(var)\n",
    "    plt.savefig('ea_hist_' + var.lower() + '.pdf')"
   ]
  },
  {
   "cell_type": "code",
   "execution_count": null,
   "metadata": {
    "collapsed": false,
    "scrolled": true
   },
   "outputs": [],
   "source": [
    "# histograms\n",
    "DoubleHist('Weight', 0, 8)\n",
    "DoubleHist('DER_mass_MMC', 0, 400)\n",
    "DoubleHist('DER_mass_transverse_met_lep', 0, 200)\n",
    "DoubleHist('DER_mass_vis', 0, 300)\n",
    "DoubleHist('DER_pt_h', 0, 400)\n",
    "DoubleHist('DER_deltaeta_jet_jet', 0, 9)\n",
    "DoubleHist('DER_mass_jet_jet', 0, 2500)\n",
    "DoubleHist('DER_prodeta_jet_jet', -20, 15)\n",
    "DoubleHist('DER_deltar_tau_lep', 0, 6)\n",
    "DoubleHist('DER_pt_tot', 0, 100)\n",
    "DoubleHist('DER_sum_pt', 0, 1000)\n",
    "DoubleHist('DER_pt_ratio_lep_tau', 0, 7)\n",
    "DoubleHist('DER_met_phi_centrality', -1.5, 1.5)\n",
    "DoubleHist('DER_lep_eta_centrality', 0, 1)\n",
    "\n",
    "DoubleHist('PRI_tau_pt', 0, 180)\n",
    "DoubleHist('PRI_tau_eta', -2.5, 2.5)\n",
    "DoubleHist('PRI_tau_phi', -3.2, 3.2)\n",
    "\n",
    "DoubleHist('PRI_lep_pt', 0, 200)\n",
    "DoubleHist('PRI_lep_eta', -2.5, 2.5)\n",
    "DoubleHist('PRI_lep_phi', -3.2, 3.2)\n",
    "\n",
    "DoubleHist('PRI_met', 0, 300)\n",
    "DoubleHist('PRI_met_phi', -3.2, 3.2)\n",
    "DoubleHist('PRI_met_sumet', 0, 1000)\n",
    "\n",
    "DoubleHist('PRI_jet_num', 0, 3)\n",
    "\n",
    "DoubleHist('PRI_jet_leading_pt', 0, 500)\n",
    "DoubleHist('PRI_jet_leading_eta', -4.5, 4.5)\n",
    "DoubleHist('PRI_jet_leading_phi', -3.2, 3.2)\n",
    "\n",
    "DoubleHist('PRI_jet_subleading_pt', 0, 300)\n",
    "DoubleHist('PRI_jet_subleading_eta', -4.5, 4.5)\n",
    "DoubleHist('PRI_jet_subleading_phi', -3.2, 3.2)\n",
    "\n",
    "DoubleHist('PRI_jet_all_pt', 0, 400)"
   ]
  },
  {
   "cell_type": "markdown",
   "metadata": {},
   "source": [
    "## Correlation Matrix"
   ]
  },
  {
   "cell_type": "code",
   "execution_count": 81,
   "metadata": {
    "collapsed": false
   },
   "outputs": [],
   "source": [
    "import seaborn as sns\n",
    "from sklearn.cluster import KMeans"
   ]
  },
  {
   "cell_type": "code",
   "execution_count": 43,
   "metadata": {
    "collapsed": false
   },
   "outputs": [],
   "source": [
    "corrData = data.copy()\n",
    "del corrData['EventId']\n",
    "del corrData['Weight']\n",
    "cm = corrData.corr()\n",
    "f, ax =  plt.subplots(figsize=(12, 9))\n",
    "plt.setp(ax.xaxis.get_majorticklabels(), rotation=90)\n",
    "plt.setp(ax.yaxis.get_majorticklabels(), rotation=90)\n",
    "sns.heatmap(cm, vmax=.8,square=1)\n",
    "f.savefig('ea_corr_data.pdf')"
   ]
  },
  {
   "cell_type": "code",
   "execution_count": 44,
   "metadata": {
    "collapsed": false
   },
   "outputs": [],
   "source": [
    "cg = sns.clustermap(cm, vmax = .8, square=1)\n",
    "plt.setp(cg.ax_heatmap.yaxis.get_majorticklabels(), rotation=0)\n",
    "plt.setp(cg.ax_heatmap.xaxis.get_majorticklabels(), rotation=90)\n",
    "cg.savefig('ea_corr_clustermap.pdf')"
   ]
  },
  {
   "cell_type": "markdown",
   "metadata": {},
   "source": [
    "## Scatter Plots"
   ]
  },
  {
   "cell_type": "code",
   "execution_count": 78,
   "metadata": {
    "collapsed": false
   },
   "outputs": [],
   "source": [
    "# for correlated\n",
    "df = data[['DER_mass_jet_jet', 'DER_lep_eta_centrality', 'DER_deltaeta_jet_jet', 'DER_prodeta_jet_jet', 'Label']].sample(n = 2000)"
   ]
  },
  {
   "cell_type": "code",
   "execution_count": 24,
   "metadata": {
    "collapsed": true
   },
   "outputs": [],
   "source": []
  },
  {
   "cell_type": "code",
   "execution_count": 86,
   "metadata": {
    "collapsed": false
   },
   "outputs": [],
   "source": [
    "color_wheel = {\"s\": \"#ff0000\", \"b\": \"#99ff99\"}\n",
    "colors = df[\"Label\"].map(lambda x: color_wheel.get(x))\n",
    "ax = scatter_matrix(df, color=colors, alpha=0.5, figsize=(15, 15), diagonal='kde')"
   ]
  },
  {
   "cell_type": "code",
   "execution_count": 85,
   "metadata": {
    "collapsed": false
   },
   "outputs": [],
   "source": [
    "plt.show()"
   ]
  },
  {
   "cell_type": "code",
   "execution_count": 88,
   "metadata": {
    "collapsed": true
   },
   "outputs": [],
   "source": [
    "# for correlated - top\n",
    "df = data[['DER_sum_pt', 'PRI_jet_all_pt', 'PRI_met_sumet', 'DER_pt_h', 'Label']].sample(n = 2000)"
   ]
  },
  {
   "cell_type": "code",
   "execution_count": 89,
   "metadata": {
    "collapsed": true
   },
   "outputs": [],
   "source": [
    "color_wheel = {\"s\": \"#ff0000\", \"b\": \"#99ff99\"}\n",
    "colors = df[\"Label\"].map(lambda x: color_wheel.get(x))\n",
    "ax = scatter_matrix(df, color=colors, alpha=0.5, figsize=(15, 15), diagonal='kde')"
   ]
  },
  {
   "cell_type": "code",
   "execution_count": 90,
   "metadata": {
    "collapsed": true
   },
   "outputs": [],
   "source": [
    "plt.show()"
   ]
  },
  {
   "cell_type": "code",
   "execution_count": 91,
   "metadata": {
    "collapsed": true
   },
   "outputs": [],
   "source": [
    "# for non correlated\n",
    "df = data[['DER_sum_pt', 'DER_lep_eta_centrality', 'DER_pt_ratio_lep_tau', 'PRI_lep_eta', 'Label']].sample(n = 2000)"
   ]
  },
  {
   "cell_type": "code",
   "execution_count": 92,
   "metadata": {
    "collapsed": true
   },
   "outputs": [],
   "source": [
    "color_wheel = {\"s\": \"#ff0000\", \"b\": \"#99ff99\"}\n",
    "colors = df[\"Label\"].map(lambda x: color_wheel.get(x))\n",
    "ax = scatter_matrix(df, color=colors, alpha=0.5, figsize=(15, 15), diagonal='kde')"
   ]
  },
  {
   "cell_type": "code",
   "execution_count": 93,
   "metadata": {
    "collapsed": true
   },
   "outputs": [],
   "source": [
    "plt.show()"
   ]
  },
  {
   "cell_type": "markdown",
   "metadata": {},
   "source": [
    "## No Value"
   ]
  },
  {
   "cell_type": "code",
   "execution_count": 126,
   "metadata": {
    "collapsed": false
   },
   "outputs": [],
   "source": [
    "# generate table with missing value data\n",
    "numS = signal.shape[0]\n",
    "signalC = signal.isnull().sum()/numS\n",
    "numB = background.shape[0]\n",
    "backgroundC = background.isnull().sum()/numB\n",
    "result = pd.concat([signalC, backgroundC], axis=1)\n",
    "resultF = result[(result[1] != 0)]\n",
    "fo = open('exploratoryNaNValues.tex', 'w')\n",
    "fo.write(resultF.to_latex())\n",
    "fo.close()"
   ]
  },
  {
   "cell_type": "code",
   "execution_count": 127,
   "metadata": {
    "collapsed": false
   },
   "outputs": [
    {
     "data": {
      "text/plain": [
       "0    0.479367\n",
       "1    0.624191\n",
       "dtype: float64"
      ]
     },
     "execution_count": 127,
     "metadata": {},
     "output_type": "execute_result"
    }
   ],
   "source": [
    "# mean for missing values per type\n",
    "resultF.mean()"
   ]
  },
  {
   "cell_type": "markdown",
   "metadata": {},
   "source": [
    "## PCA"
   ]
  },
  {
   "cell_type": "code",
   "execution_count": 128,
   "metadata": {
    "collapsed": true
   },
   "outputs": [],
   "source": [
    "from sklearn.decomposition import PCA"
   ]
  },
  {
   "cell_type": "code",
   "execution_count": 135,
   "metadata": {
    "collapsed": false
   },
   "outputs": [],
   "source": [
    "# prepare the np.array\n",
    "pcaData = data.copy()\n",
    "del pcaData['EventId']\n",
    "del pcaData['Weight']\n",
    "del pcaData['Label']\n",
    "pcaNpData = pcaData.as_matrix()"
   ]
  },
  {
   "cell_type": "code",
   "execution_count": 142,
   "metadata": {
    "collapsed": false
   },
   "outputs": [],
   "source": [
    "# preprocesing \n",
    "from sklearn.preprocessing import Imputer\n",
    "imp = Imputer(missing_values='NaN', strategy='mean', axis=0)\n",
    "imp.fit(pcaNpData)\n",
    "pcaNpDataClean = imp.transform(pcaNpData)"
   ]
  },
  {
   "cell_type": "code",
   "execution_count": 145,
   "metadata": {
    "collapsed": false
   },
   "outputs": [
    {
     "data": {
      "text/plain": [
       "PCA(copy=True, n_components=None, whiten=False)"
      ]
     },
     "execution_count": 145,
     "metadata": {},
     "output_type": "execute_result"
    }
   ],
   "source": [
    "# run PCA\n",
    "pca = PCA()\n",
    "pca.fit(pcaNpDataClean)"
   ]
  },
  {
   "cell_type": "code",
   "execution_count": 146,
   "metadata": {
    "collapsed": false
   },
   "outputs": [
    {
     "data": {
      "text/plain": [
       "array([  5.00850597e-01,   3.76427346e-01,   4.35767131e-02,\n",
       "         2.04534664e-02,   1.45040641e-02,   1.35373240e-02,\n",
       "         9.09300842e-03,   7.42198063e-03,   4.09930585e-03,\n",
       "         3.68345958e-03,   2.82605268e-03,   1.81688038e-03,\n",
       "         1.49152542e-03,   4.00773332e-05,   3.65686336e-05,\n",
       "         2.77548345e-05,   2.63923830e-05,   1.81175521e-05,\n",
       "         1.50099603e-05,   1.47563870e-05,   1.06636495e-05,\n",
       "         9.07923781e-06,   7.44888037e-06,   6.80656969e-06,\n",
       "         2.04017129e-06,   1.71112343e-06,   1.21687453e-06,\n",
       "         3.78135310e-07,   2.54626624e-07,   7.50618922e-13])"
      ]
     },
     "execution_count": 146,
     "metadata": {},
     "output_type": "execute_result"
    }
   ],
   "source": [
    "pca.explained_variance_ratio_"
   ]
  },
  {
   "cell_type": "code",
   "execution_count": 148,
   "metadata": {
    "collapsed": false
   },
   "outputs": [
    {
     "data": {
      "text/plain": [
       "30"
      ]
     },
     "execution_count": 148,
     "metadata": {},
     "output_type": "execute_result"
    }
   ],
   "source": [
    "pca.n_components_"
   ]
  },
  {
   "cell_type": "code",
   "execution_count": 151,
   "metadata": {
    "collapsed": false
   },
   "outputs": [
    {
     "data": {
      "text/plain": [
       "(250000, 30)"
      ]
     },
     "execution_count": 151,
     "metadata": {},
     "output_type": "execute_result"
    }
   ],
   "source": [
    "pca.transform(pcaNpDataClean).shape"
   ]
  },
  {
   "cell_type": "code",
   "execution_count": 152,
   "metadata": {
    "collapsed": false
   },
   "outputs": [
    {
     "data": {
      "text/plain": [
       "(250000, 30)"
      ]
     },
     "execution_count": 152,
     "metadata": {},
     "output_type": "execute_result"
    }
   ],
   "source": [
    "pcaNpDataClean.shape"
   ]
  },
  {
   "cell_type": "code",
   "execution_count": 154,
   "metadata": {
    "collapsed": false
   },
   "outputs": [
    {
     "data": {
      "text/plain": [
       "0.99999999999999967"
      ]
     },
     "execution_count": 154,
     "metadata": {},
     "output_type": "execute_result"
    }
   ],
   "source": [
    "sum(pca.explained_variance_ratio_)"
   ]
  },
  {
   "cell_type": "markdown",
   "metadata": {},
   "source": [
    "### PCA vizualizacija v 2D"
   ]
  },
  {
   "cell_type": "code",
   "execution_count": 270,
   "metadata": {
    "collapsed": false
   },
   "outputs": [],
   "source": [
    "# sampling\n",
    "pca2DData = data.copy().sample(100000);\n",
    "pca2DLabels = data['Label']\n",
    "\n",
    "del pca2DData['EventId']\n",
    "del pca2DData['Weight']\n",
    "del pca2DData['Label']\n",
    "pca2DNpData = pca2DData.as_matrix()\n",
    "imp = Imputer(missing_values='NaN', strategy='mean', axis=0)\n",
    "imp.fit(pcaNpData)\n",
    "pca2DNpDataClean = imp.transform(pca2DNpData)\n",
    "\n",
    "pca2D = PCA(n_components=2)\n",
    "pca2D.fit(pca2DNpDataClean)\n",
    "pcaData = pca2D.transform(pca2DNpDataClean)"
   ]
  },
  {
   "cell_type": "code",
   "execution_count": 271,
   "metadata": {
    "collapsed": true
   },
   "outputs": [],
   "source": [
    "def colorMap(x):\n",
    "    if x == \"s\": \n",
    "        rVal = \"red\"\n",
    "    else:\n",
    "        rVal = \"green\"\n",
    "    return rVal\n",
    "colors = [colorMap(x) for x in pca2DLabels]"
   ]
  },
  {
   "cell_type": "code",
   "execution_count": 272,
   "metadata": {
    "collapsed": false
   },
   "outputs": [
    {
     "data": {
      "text/plain": [
       "<matplotlib.collections.PathCollection at 0x8716b8e2e8>"
      ]
     },
     "execution_count": 272,
     "metadata": {},
     "output_type": "execute_result"
    }
   ],
   "source": [
    "colors = [colorMap(x) for x in data['Label']]\n",
    "plt.figure()\n",
    "plt.scatter(pcaData[:,0], pcaData[:,1],c=colors, alpha=0.2)"
   ]
  },
  {
   "cell_type": "code",
   "execution_count": 224,
   "metadata": {
    "collapsed": false
   },
   "outputs": [],
   "source": [
    "plt.savefig('ex_pca_2d.pdf')"
   ]
  },
  {
   "cell_type": "code",
   "execution_count": 273,
   "metadata": {
    "collapsed": true
   },
   "outputs": [],
   "source": [
    "plt.show()"
   ]
  },
  {
   "cell_type": "markdown",
   "metadata": {},
   "source": [
    "## Vizualizacija zaporedij"
   ]
  },
  {
   "cell_type": "markdown",
   "metadata": {},
   "source": [
    "### Oznaka / labela"
   ]
  },
  {
   "cell_type": "code",
   "execution_count": 243,
   "metadata": {
    "collapsed": false
   },
   "outputs": [],
   "source": [
    "def valueMap(x):\n",
    "    if x == \"s\": \n",
    "        rVal = 1\n",
    "    else:\n",
    "        rVal = 0\n",
    "    return rVal\n",
    "labelValue = [valueMap(x) for x in data['Label']]"
   ]
  },
  {
   "cell_type": "code",
   "execution_count": 247,
   "metadata": {
    "collapsed": false
   },
   "outputs": [],
   "source": [
    "ts = pd.Series(labelValue)"
   ]
  },
  {
   "cell_type": "code",
   "execution_count": 266,
   "metadata": {
    "collapsed": false
   },
   "outputs": [
    {
     "data": {
      "text/plain": [
       "<matplotlib.axes._subplots.AxesSubplot at 0x871604d860>"
      ]
     },
     "execution_count": 266,
     "metadata": {},
     "output_type": "execute_result"
    }
   ],
   "source": [
    "ts.ewm(span=10000).mean().plot()"
   ]
  },
  {
   "cell_type": "code",
   "execution_count": 267,
   "metadata": {
    "collapsed": true
   },
   "outputs": [],
   "source": [
    "plt.show()\n"
   ]
  },
  {
   "cell_type": "markdown",
   "metadata": {},
   "source": [
    "### Poljuben feature"
   ]
  },
  {
   "cell_type": "code",
   "execution_count": 274,
   "metadata": {
    "collapsed": true
   },
   "outputs": [],
   "source": [
    "def visualizeFeature(name):\n",
    "    series = data[name]\n",
    "    ts = pd.Series(series)\n",
    "    ts.ewm(span=10000).mean().plot()\n",
    "    plt.show()"
   ]
  },
  {
   "cell_type": "code",
   "execution_count": 284,
   "metadata": {
    "collapsed": false
   },
   "outputs": [
    {
     "data": {
      "image/png": "[encoded data removed]",
      "text/plain": [
       "<matplotlib.figure.Figure at 0x8756f9d5f8>"
      ]
     },
     "metadata": {},
     "output_type": "display_data"
    }
   ],
   "source": [
    "visualizeFeature('DER_pt_tot')"
   ]
  },
  {
   "cell_type": "code",
   "execution_count": null,
   "metadata": {
    "collapsed": true
   },
   "outputs": [],
   "source": []
  }
 ],
 "metadata": {
  "kernelspec": {
   "display_name": "Python 3",
   "language": "python",
   "name": "python3"
  },
  "language_info": {
   "codemirror_mode": {
    "name": "ipython",
    "version": 3
   },
   "file_extension": ".py",
   "mimetype": "text/x-python",
   "name": "python",
   "nbconvert_exporter": "python",
   "pygments_lexer": "ipython3",
   "version": "3.5.1"
  }
 },
 "nbformat": 4,
 "nbformat_minor": 0
}
