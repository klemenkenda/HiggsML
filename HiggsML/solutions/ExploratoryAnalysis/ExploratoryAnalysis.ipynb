{
 "cells": [
  {
   "cell_type": "markdown",
   "metadata": {},
   "source": [
    "# Raziskovalna analiza podatkov\n",
    "## HiggsML Challenge\n",
    "Klemen Kenda, april 2016"
   ]
  },
  {
   "cell_type": "code",
   "execution_count": 1,
   "metadata": {
    "collapsed": false
   },
   "outputs": [],
   "source": [
    "import numpy as np\n",
    "import pandas as pd\n",
    "import matplotlib.pyplot as plt"
   ]
  },
  {
   "cell_type": "markdown",
   "metadata": {},
   "source": [
    "### Importing data"
   ]
  },
  {
   "cell_type": "code",
   "execution_count": 2,
   "metadata": {
    "collapsed": false
   },
   "outputs": [],
   "source": [
    "dirName = '../../data/'\n",
    "fileName = dirName + 'training.csv'\n",
    "data = pd.read_csv(fileName)\n",
    "\n",
    "# replace missing values with NaN\n",
    "data = data.replace(-999.0, np.nan)"
   ]
  },
  {
   "cell_type": "markdown",
   "metadata": {},
   "source": [
    "#### Initial data analysis"
   ]
  },
  {
   "cell_type": "code",
   "execution_count": 3,
   "metadata": {
    "collapsed": false,
    "scrolled": true
   },
   "outputs": [],
   "source": [
    "# number of rows\n",
    "rows = data.shape[0]\n",
    "\n",
    "# make separate variables for signal and background\n",
    "signal = data.query('Label == \"s\"')\n",
    "background = data.query('Label == \"b\"')\n",
    "\n",
    "# number of signal rows\n",
    "signalRows = signal.shape[0]\n",
    "# number of background rows\n",
    "backgroundRows = background.shape[0]"
   ]
  },
  {
   "cell_type": "code",
   "execution_count": 4,
   "metadata": {
    "collapsed": false
   },
   "outputs": [
    {
     "data": {
      "text/plain": [
       "{85667, 164333, 250000}"
      ]
     },
     "execution_count": 4,
     "metadata": {},
     "output_type": "execute_result"
    }
   ],
   "source": [
    "{rows, signalRows, backgroundRows}"
   ]
  },
  {
   "cell_type": "code",
   "execution_count": 5,
   "metadata": {
    "collapsed": false
   },
   "outputs": [],
   "source": [
    "# by label\n",
    "byLabel = data.groupby('Label')\n",
    "\n",
    "# write to file\n",
    "# TODO \n",
    "#   - smaller fonts\n",
    "#   - different arrangement\n",
    "fo = open(\"byLabelDescriptionStats.tex\", \"w\")\n",
    "fo.write(byLabel.describe().transpose().to_latex())\n",
    "fo.close()\n",
    "\n",
    "fo = open(\"dataDescriptionStats.html\", \"w\")\n",
    "fo.write(data.describe().transpose().to_html())\n",
    "fo.close()"
   ]
  },
  {
   "cell_type": "markdown",
   "metadata": {},
   "source": [
    "## Histograms"
   ]
  },
  {
   "cell_type": "code",
   "execution_count": 6,
   "metadata": {
    "collapsed": false
   },
   "outputs": [],
   "source": [
    "def DoubleHist(var, rMin, rMax):\n",
    "    plt.figure(var);\n",
    "    num_bins = 30;\n",
    "    x = background[var]\n",
    "    y = signal[var]\n",
    "    common_params = dict(bins = 50, range=(rMin, rMax), normed=1)\n",
    "    n, bins, patches = plt.hist(x, facecolor='green', alpha=0.5, **common_params)\n",
    "    n, bins, patches = plt.hist(y, facecolor='orange', alpha=0.5, **common_params)\n",
    "    plt.title(var)\n",
    "    plt.savefig('ea_hist_' + var.lower() + '.pdf')"
   ]
  },
  {
   "cell_type": "code",
   "execution_count": null,
   "metadata": {
    "collapsed": false,
    "scrolled": true
   },
   "outputs": [],
   "source": [
    "# histograms\n",
    "DoubleHist('Weight', 0, 8)\n",
    "DoubleHist('DER_mass_MMC', 0, 400)\n",
    "DoubleHist('DER_mass_transverse_met_lep', 0, 200)\n",
    "DoubleHist('DER_mass_vis', 0, 300)\n",
    "DoubleHist('DER_pt_h', 0, 400)\n",
    "DoubleHist('DER_deltaeta_jet_jet', 0, 9)\n",
    "DoubleHist('DER_mass_jet_jet', 0, 2500)\n",
    "DoubleHist('DER_prodeta_jet_jet', -20, 15)\n",
    "DoubleHist('DER_deltar_tau_lep', 0, 6)\n",
    "DoubleHist('DER_pt_tot', 0, 100)\n",
    "DoubleHist('DER_sum_pt', 0, 1000)\n",
    "DoubleHist('DER_pt_ratio_lep_tau', 0, 7)\n",
    "DoubleHist('DER_met_phi_centrality', -1.5, 1.5)\n",
    "DoubleHist('DER_lep_eta_centrality', 0, 1)\n",
    "\n",
    "DoubleHist('PRI_tau_pt', 0, 180)\n",
    "DoubleHist('PRI_tau_eta', -2.5, 2.5)\n",
    "DoubleHist('PRI_tau_phi', -3.2, 3.2)\n",
    "\n",
    "DoubleHist('PRI_lep_pt', 0, 200)\n",
    "DoubleHist('PRI_lep_eta', -2.5, 2.5)\n",
    "DoubleHist('PRI_lep_phi', -3.2, 3.2)\n",
    "\n",
    "DoubleHist('PRI_met', 0, 300)\n",
    "DoubleHist('PRI_met_phi', -3.2, 3.2)\n",
    "DoubleHist('PRI_met_sumet', 0, 1000)\n",
    "\n",
    "DoubleHist('PRI_jet_num', 0, 3)\n",
    "\n",
    "DoubleHist('PRI_jet_leading_pt', 0, 500)\n",
    "DoubleHist('PRI_jet_leading_eta', -4.5, 4.5)\n",
    "DoubleHist('PRI_jet_leading_phi', -3.2, 3.2)\n",
    "\n",
    "DoubleHist('PRI_jet_subleading_pt', 0, 300)\n",
    "DoubleHist('PRI_jet_subleading_eta', -4.5, 4.5)\n",
    "DoubleHist('PRI_jet_subleading_phi', -3.2, 3.2)\n",
    "\n",
    "DoubleHist('PRI_jet_all_pt', 0, 400)"
   ]
  },
  {
   "cell_type": "markdown",
   "metadata": {},
   "source": [
    "## Correlation Matrix"
   ]
  },
  {
   "cell_type": "code",
   "execution_count": 81,
   "metadata": {
    "collapsed": false
   },
   "outputs": [],
   "source": [
    "import seaborn as sns\n",
    "from sklearn.cluster import KMeans"
   ]
  },
  {
   "cell_type": "code",
   "execution_count": 43,
   "metadata": {
    "collapsed": false
   },
   "outputs": [],
   "source": [
    "corrData = data.copy()\n",
    "del corrData['EventId']\n",
    "del corrData['Weight']\n",
    "cm = corrData.corr()\n",
    "f, ax =  plt.subplots(figsize=(12, 9))\n",
    "plt.setp(ax.xaxis.get_majorticklabels(), rotation=90)\n",
    "plt.setp(ax.yaxis.get_majorticklabels(), rotation=90)\n",
    "sns.heatmap(cm, vmax=.8,square=1)\n",
    "f.savefig('ea_corr_data.pdf')"
   ]
  },
  {
   "cell_type": "code",
   "execution_count": 44,
   "metadata": {
    "collapsed": false
   },
   "outputs": [],
   "source": [
    "cg = sns.clustermap(cm, vmax = .8, square=1)\n",
    "plt.setp(cg.ax_heatmap.yaxis.get_majorticklabels(), rotation=0)\n",
    "plt.setp(cg.ax_heatmap.xaxis.get_majorticklabels(), rotation=90)\n",
    "cg.savefig('ea_corr_clustermap.pdf')"
   ]
  },
  {
   "cell_type": "markdown",
   "metadata": {},
   "source": [
    "## Scatter Plots"
   ]
  },
  {
   "cell_type": "code",
   "execution_count": 78,
   "metadata": {
    "collapsed": false
   },
   "outputs": [],
   "source": [
    "# for correlated\n",
    "df = data[['DER_mass_jet_jet', 'DER_lep_eta_centrality', 'DER_deltaeta_jet_jet', 'DER_prodeta_jet_jet', 'Label']].sample(n = 2000)"
   ]
  },
  {
   "cell_type": "code",
   "execution_count": 24,
   "metadata": {
    "collapsed": true
   },
   "outputs": [],
   "source": []
  },
  {
   "cell_type": "code",
   "execution_count": 86,
   "metadata": {
    "collapsed": false
   },
   "outputs": [],
   "source": [
    "color_wheel = {\"s\": \"#ff0000\", \"b\": \"#99ff99\"}\n",
    "colors = df[\"Label\"].map(lambda x: color_wheel.get(x))\n",
    "ax = scatter_matrix(df, color=colors, alpha=0.5, figsize=(15, 15), diagonal='kde')"
   ]
  },
  {
   "cell_type": "code",
   "execution_count": 85,
   "metadata": {
    "collapsed": false
   },
   "outputs": [],
   "source": [
    "plt.show()"
   ]
  },
  {
   "cell_type": "code",
   "execution_count": 88,
   "metadata": {
    "collapsed": true
   },
   "outputs": [],
   "source": [
    "# for correlated - top\n",
    "df = data[['DER_sum_pt', 'PRI_jet_all_pt', 'PRI_met_sumet', 'DER_pt_h', 'Label']].sample(n = 2000)"
   ]
  },
  {
   "cell_type": "code",
   "execution_count": 89,
   "metadata": {
    "collapsed": true
   },
   "outputs": [],
   "source": [
    "color_wheel = {\"s\": \"#ff0000\", \"b\": \"#99ff99\"}\n",
    "colors = df[\"Label\"].map(lambda x: color_wheel.get(x))\n",
    "ax = scatter_matrix(df, color=colors, alpha=0.5, figsize=(15, 15), diagonal='kde')"
   ]
  },
  {
   "cell_type": "code",
   "execution_count": 90,
   "metadata": {
    "collapsed": true
   },
   "outputs": [],
   "source": [
    "plt.show()"
   ]
  },
  {
   "cell_type": "code",
   "execution_count": 91,
   "metadata": {
    "collapsed": true
   },
   "outputs": [],
   "source": [
    "# for non correlated\n",
    "df = data[['DER_sum_pt', 'DER_lep_eta_centrality', 'DER_pt_ratio_lep_tau', 'PRI_lep_eta', 'Label']].sample(n = 2000)"
   ]
  },
  {
   "cell_type": "code",
   "execution_count": 92,
   "metadata": {
    "collapsed": true
   },
   "outputs": [],
   "source": [
    "color_wheel = {\"s\": \"#ff0000\", \"b\": \"#99ff99\"}\n",
    "colors = df[\"Label\"].map(lambda x: color_wheel.get(x))\n",
    "ax = scatter_matrix(df, color=colors, alpha=0.5, figsize=(15, 15), diagonal='kde')"
   ]
  },
  {
   "cell_type": "code",
   "execution_count": 93,
   "metadata": {
    "collapsed": true
   },
   "outputs": [],
   "source": [
    "plt.show()"
   ]
  },
  {
   "cell_type": "markdown",
   "metadata": {},
   "source": [
    "## No Value"
   ]
  },
  {
   "cell_type": "code",
   "execution_count": 126,
   "metadata": {
    "collapsed": false
   },
   "outputs": [],
   "source": [
    "# generate table with missing value data\n",
    "numS = signal.shape[0]\n",
    "signalC = signal.isnull().sum()/numS\n",
    "numB = background.shape[0]\n",
    "backgroundC = background.isnull().sum()/numB\n",
    "result = pd.concat([signalC, backgroundC], axis=1)\n",
    "resultF = result[(result[1] != 0)]\n",
    "fo = open('exploratoryNaNValues.tex', 'w')\n",
    "fo.write(resultF.to_latex())\n",
    "fo.close()"
   ]
  },
  {
   "cell_type": "code",
   "execution_count": 127,
   "metadata": {
    "collapsed": false
   },
   "outputs": [
    {
     "data": {
      "text/plain": [
       "0    0.479367\n",
       "1    0.624191\n",
       "dtype: float64"
      ]
     },
     "execution_count": 127,
     "metadata": {},
     "output_type": "execute_result"
    }
   ],
   "source": [
    "# mean for missing values per type\n",
    "resultF.mean()"
   ]
  },
  {
   "cell_type": "code",
   "execution_count": null,
   "metadata": {
    "collapsed": true
   },
   "outputs": [],
   "source": []
  }
 ],
 "metadata": {
  "kernelspec": {
   "display_name": "Python 3",
   "language": "python",
   "name": "python3"
  },
  "language_info": {
   "codemirror_mode": {
    "name": "ipython",
    "version": 3
   },
   "file_extension": ".py",
   "mimetype": "text/x-python",
   "name": "python",
   "nbconvert_exporter": "python",
   "pygments_lexer": "ipython3",
   "version": "3.5.1"
  }
 },
 "nbformat": 4,
 "nbformat_minor": 0
}
