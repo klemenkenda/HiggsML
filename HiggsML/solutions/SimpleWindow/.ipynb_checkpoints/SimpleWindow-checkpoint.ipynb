{
 "cells": [
  {
   "cell_type": "markdown",
   "metadata": {},
   "source": [
    "# Preprosto okno"
   ]
  },
  {
   "cell_type": "code",
   "execution_count": 1,
   "metadata": {
    "collapsed": true
   },
   "outputs": [],
   "source": [
    "# importing the libraries\n",
    "import csv"
   ]
  },
  {
   "cell_type": "markdown",
   "metadata": {},
   "source": [
    "## Loading the data"
   ]
  },
  {
   "cell_type": "code",
   "execution_count": 165,
   "metadata": {
    "collapsed": false
   },
   "outputs": [],
   "source": [
    "# load training data\n",
    "alltraining = list(csv.reader(open(\"../../data/training.csv\",\"r\"), delimiter=','))\n",
    "\n",
    "# first line is the list of variables\n",
    "headertraining = alltraining[0]\n",
    "# cut off first line\n",
    "alltraining = alltraining[1:]\n",
    "\n",
    "# load testing data\n",
    "alltest = list(csv.reader(open(\"../../data/test.csv\",\"r\"), delimiter=','))\n",
    "headertest = alltest[0]\n",
    "alltest = alltest[1:]"
   ]
  },
  {
   "cell_type": "markdown",
   "metadata": {},
   "source": [
    "## Data Preprocessing"
   ]
  },
  {
   "cell_type": "code",
   "execution_count": 166,
   "metadata": {
    "collapsed": true
   },
   "outputs": [],
   "source": [
    "# get the index of a few variables\n",
    "immc = headertraining.index(\"DER_mass_MMC\")\n",
    "injet = headertraining.index(\"PRI_jet_num\")\n",
    "iweight = headertraining.index(\"Weight\")\n",
    "ilabel = headertraining.index(\"Label\")\n",
    "iid = headertraining.index(\"EventId\")"
   ]
  },
  {
   "cell_type": "code",
   "execution_count": 167,
   "metadata": {
    "collapsed": true
   },
   "outputs": [],
   "source": [
    "# adding a new score field\n",
    "headertraining += [\"myscore\"]\n",
    "\n",
    "# this is a simple discriminating variable. Signal should be closer to zero.\n",
    "# minus sign so that signal has the highest values\n",
    "# so we will be making a simple window cut on the Higgs mass estimator\n",
    "# 125 GeV is the middle of the window\n",
    "\n",
    "for entry in alltraining:\n",
    "    # turn all entries from string to float, except EventId and PRI_jet_num to int, except label remains string\n",
    "    for i in range(len(entry)):\n",
    "        if not i in [ilabel, iid, injet]:\n",
    "            entry[i] = float(entry[i])\n",
    "        if i in [iid, injet]:\n",
    "            entry[i] = int(entry[i])                        \n",
    "    myscore=-abs(entry[immc]-125.) \n",
    "    entry+=[myscore]"
   ]
  },
  {
   "cell_type": "code",
   "execution_count": 133,
   "metadata": {
    "collapsed": true
   },
   "outputs": [],
   "source": [
    "# only used for testing\n",
    "threshold = -22\n",
    "# optimized threshold\n",
    "threshold = -31"
   ]
  },
  {
   "cell_type": "code",
   "execution_count": 134,
   "metadata": {
    "collapsed": true
   },
   "outputs": [],
   "source": [
    "# Loop again to determine the AMS, using threshold\n",
    "sumsig = 0.\n",
    "sumbkg = 0.\n",
    "tp = 0.\n",
    "tn = 0.\n",
    "fp = 0.\n",
    "fn = 0.\n",
    "precision = 0.\n",
    "recall = 0.\n",
    "acc = 0.\n",
    "\n",
    "# id for myscore column\n",
    "iscore = headertraining.index(\"myscore\")\n",
    "\n",
    "# only use 10% of training set to calculate metrics\n",
    "for entry in alltraining[-25000:]:\n",
    "    myscore = entry[iscore]\n",
    "    entry += [myscore]\n",
    "    weight = entry[iweight]\n",
    "    # sum event weight passing the selection. Of course in real life the threshold should be optimised\n",
    "    # test for positive\n",
    "    if myscore > threshold:\n",
    "        if entry[ilabel] == \"s\":\n",
    "            sumsig += weight\n",
    "            tp += 1\n",
    "        else:\n",
    "            sumbkg += weight    \n",
    "            fp += 1\n",
    "    else:\n",
    "        if entry[ilabel] == \"s\":\n",
    "            fn += 1\n",
    "        else:\n",
    "            tn += 1"
   ]
  },
  {
   "cell_type": "code",
   "execution_count": 135,
   "metadata": {
    "collapsed": true
   },
   "outputs": [],
   "source": [
    "# compute AMS\n",
    "def ams(s, b):\n",
    "    from math import sqrt,log\n",
    "    if b==0:\n",
    "        return 0\n",
    "\n",
    "    return sqrt(2*((s+b+10)*log(1+float(s)/(b+10))-s))"
   ]
  },
  {
   "cell_type": "code",
   "execution_count": 136,
   "metadata": {
    "collapsed": false
   },
   "outputs": [],
   "source": [
    "# hum, what kind of metrics is not invariant to the number of samples\n",
    "amsscore = ams(sumsig * 10, sumbkg * 10)"
   ]
  },
  {
   "cell_type": "code",
   "execution_count": 137,
   "metadata": {
    "collapsed": true
   },
   "outputs": [],
   "source": [
    "precision = tp / (tp + fp)\n",
    "recall = tp / (tp + fn)\n",
    "acc = (tp + tn) / (tp + fp + tn + fn)\n",
    "f1score = (2 * precision * recall)/(precision + recall)"
   ]
  },
  {
   "cell_type": "code",
   "execution_count": 138,
   "metadata": {
    "collapsed": false
   },
   "outputs": [],
   "source": [
    "def printScores(tp, tn, fp, fn, precision, recall, acc, f1score, amsscore):\n",
    "    all = tp + tn + fp + fn\n",
    "    print(\"TP: \", tp/all)\n",
    "    print(\"TN: \", tn/all)\n",
    "    print(\"FP: \", fp/all)\n",
    "    print(\"FN: \", fn/all)\n",
    "    print(\"Precision: \", precision)\n",
    "    print(\"Recall: \", recall)\n",
    "    print(\"Acc: \", acc)\n",
    "    print(\"F1: \", f1score)\n",
    "    print(\"AMS: \", amsscore)"
   ]
  },
  {
   "cell_type": "code",
   "execution_count": 139,
   "metadata": {
    "collapsed": false
   },
   "outputs": [
    {
     "name": "stdout",
     "output_type": "stream",
     "text": [
      "TP:  0.28196\n",
      "TN:  0.43024\n",
      "FP:  0.2254\n",
      "FN:  0.0624\n",
      "Precision:  0.5557395143487859\n",
      "Recall:  0.8187942850505285\n",
      "Acc:  0.7122\n",
      "F1:  0.6620955243507256\n",
      "AMS:  1.5730114041168854\n"
     ]
    }
   ],
   "source": [
    "printScores(tp, tn, fp, fn, precision, recall, acc, f1score, amsscore)"
   ]
  },
  {
   "cell_type": "markdown",
   "metadata": {},
   "source": [
    "## Export the data for Kaggle"
   ]
  },
  {
   "cell_type": "code",
   "execution_count": 144,
   "metadata": {
    "collapsed": false
   },
   "outputs": [
    {
     "name": "stdout",
     "output_type": "stream",
     "text": [
      "Sort on the score \n",
      "Final loop to write the submission file submission_simplest.csv\n",
      " You can now submit  submission_simplest.csv  to kaggle site\n"
     ]
    }
   ],
   "source": [
    "#recompute variable indices for safety \n",
    "immc = headertest.index(\"DER_mass_MMC\")\n",
    "injet = headertest.index(\"PRI_jet_num\")\n",
    "iid = headertest.index(\"EventId\")\n",
    "headertest += [\"myscore\"]\n",
    "\n",
    "for entry in alltest:\n",
    "    # turn all entries from string to float, except EventId and PRI_jet_num to int (there is no label)\n",
    "    for i in range(len(entry)):\n",
    "        if not i in [iid,injet]:\n",
    "            entry[i]=float(entry[i])\n",
    "        else:    \n",
    "            entry[i]=int(entry[i])\n",
    "    # add my score\n",
    "    myscore=-abs(entry[immc]-125.)                                    \n",
    "    entry+=[myscore]\n",
    "\n",
    "iscore=headertest.index(\"myscore\")\n",
    "if iscore<0:\n",
    "    print(\"ERROR could not find variable myscore\")\n",
    "    raise Exception # should not happen\n",
    "\n",
    "print(\"Sort on the score \") \n",
    "# in the first version of the file, an auxilliary map was used, but this was useless\n",
    "alltestsorted=sorted(alltest,key=lambda entry: entry[iscore])\n",
    "# the RankOrder we want is now simply the entry number\n",
    "\n",
    "submissionfilename=\"submission_simplest.csv\"\n",
    "print(\"Final loop to write the submission file\",submissionfilename)\n",
    "outputfile=open(submissionfilename,\"w\")\n",
    "outputfile.write(\"EventId,RankOrder,Class\\n\")\n",
    "iid=headertest.index(\"EventId\")\n",
    "if iid<0:\n",
    "    print(\"ERROR could not find variable EventId in test file\")\n",
    "    raise Exception # should not happen\n",
    "\n",
    "rank=1 # kaggle wants to start at 1\n",
    "for entry in alltestsorted:\n",
    "    # compute label \n",
    "    slabel=\"b\"\n",
    "    if entry[iscore]>threshold: # arbitrary threshold\n",
    "        slabel=\"s\"\n",
    "\n",
    "    outputfile.write(str(entry[iid])+\",\")\n",
    "    outputfile.write(str(rank)+\",\")\n",
    "    outputfile.write(slabel)            \n",
    "    outputfile.write(\"\\n\")\n",
    "    rank+=1\n",
    "\n",
    "\n",
    "outputfile.close()\n",
    "print(\" You can now submit \",submissionfilename,\" to kaggle site\")\n"
   ]
  },
  {
   "cell_type": "markdown",
   "metadata": {},
   "source": [
    "## Threshold optimization "
   ]
  },
  {
   "cell_type": "code",
   "execution_count": 87,
   "metadata": {
    "collapsed": false
   },
   "outputs": [],
   "source": [
    "# complete AMS calculation for a threshold\n",
    "def thresholdAMS(threshold):\n",
    "    # Loop again to determine the AMS, using threshold\n",
    "    sumsig = 0.\n",
    "    sumbkg = 0.\n",
    "    tp = 0.\n",
    "    tn = 0.\n",
    "    fp = 0.\n",
    "    fn = 0.\n",
    "    precision = 0.\n",
    "    recall = 0.\n",
    "    acc = 0.\n",
    "\n",
    "    # id for myscore column\n",
    "    iscore = headertraining.index(\"myscore\")\n",
    "    \n",
    "    # only use 10% of training set to calculate metrics\n",
    "    for entry in alltraining[-25000:]:\n",
    "        myscore = entry[iscore]\n",
    "        entry += [myscore]\n",
    "        weight = entry[iweight]\n",
    "        # sum event weight passing the selection. Of course in real life the threshold should be optimised\n",
    "        # test for positive\n",
    "        if myscore > threshold:\n",
    "            if entry[ilabel] == \"s\":\n",
    "                sumsig += weight\n",
    "                tp += 1\n",
    "            else:\n",
    "                sumbkg += weight    \n",
    "                fp += 1\n",
    "        else:\n",
    "            if entry[ilabel] == \"s\":\n",
    "                fn += 1\n",
    "            else:\n",
    "                tn += 1\n",
    "                \n",
    "    # calculate scores\n",
    "    amsscore = ams(sumsig * 10, sumbkg * 10)\n",
    "    precision = tp / (tp + fp)\n",
    "    recall = tp / (tp + fn)\n",
    "    acc = (tp + tn) / (tp + fp + tn + fn)\n",
    "    f1score = (2 * precision * recall)/(precision + recall)\n",
    "\n",
    "    # printScores(tp, tn, fp, fn, precision, recall, acc, f1score, amsscore)\n",
    "    \n",
    "    return amsscore"
   ]
  },
  {
   "cell_type": "code",
   "execution_count": 88,
   "metadata": {
    "collapsed": false
   },
   "outputs": [
    {
     "data": {
      "text/plain": [
       "1.1841351593597689"
      ]
     },
     "execution_count": 88,
     "metadata": {},
     "output_type": "execute_result"
    }
   ],
   "source": [
    "thresholdAMS(-10)"
   ]
  },
  {
   "cell_type": "markdown",
   "metadata": {},
   "source": [
    "### Create AMS(threshold) chart"
   ]
  },
  {
   "cell_type": "code",
   "execution_count": 116,
   "metadata": {
    "collapsed": false
   },
   "outputs": [],
   "source": [
    "amsgraphX = []\n",
    "amsgraphY = []\n",
    "for i in range(-500, -100, 1):\n",
    "    amsgraphX.append(i/10.)\n",
    "    amsgraphY.append(thresholdAMS(i/10.))\n"
   ]
  },
  {
   "cell_type": "code",
   "execution_count": 117,
   "metadata": {
    "collapsed": false
   },
   "outputs": [],
   "source": [
    "# import\n",
    "%matplotlib inline\n",
    "import matplotlib.pyplot as plt"
   ]
  },
  {
   "cell_type": "code",
   "execution_count": 118,
   "metadata": {
    "collapsed": false
   },
   "outputs": [
    {
     "data": {
      "image/png": "[encoded data removed]",
      "text/plain": [
       "<matplotlib.figure.Figure at 0x4e117c8208>"
      ]
     },
     "metadata": {},
     "output_type": "display_data"
    }
   ],
   "source": [
    "plt.plot(amsgraphX, amsgraphY, 'b-')\n",
    "plt.xlabel('Prag')\n",
    "plt.ylabel('$AMS_2$')\n",
    "plt.savefig('sw_amslearn.pdf')"
   ]
  },
  {
   "cell_type": "code",
   "execution_count": 122,
   "metadata": {
    "collapsed": true
   },
   "outputs": [],
   "source": [
    "# more detail\n",
    "amsgraphX = []\n",
    "amsgraphY = []\n",
    "for i in range(-400, -290, 1):\n",
    "    amsgraphX.append(i/10.)\n",
    "    amsgraphY.append(thresholdAMS(i/10.))\n"
   ]
  },
  {
   "cell_type": "code",
   "execution_count": 123,
   "metadata": {
    "collapsed": false
   },
   "outputs": [
    {
     "data": {
      "image/png": "[encoded data removed]",
      "text/plain": [
       "<matplotlib.figure.Figure at 0x4e123f7860>"
      ]
     },
     "metadata": {},
     "output_type": "display_data"
    }
   ],
   "source": [
    "plt.plot(amsgraphX, amsgraphY, 'b-')\n",
    "plt.xlabel('Prag')\n",
    "plt.ylabel('$AMS_2$')\n",
    "plt.savefig('sw_amslearn_detail.pdf')"
   ]
  },
  {
   "cell_type": "markdown",
   "metadata": {},
   "source": [
    "## 2D optimization on threshold and $m_H$"
   ]
  },
  {
   "cell_type": "code",
   "execution_count": 312,
   "metadata": {
    "collapsed": true
   },
   "outputs": [],
   "source": [
    "def thresholdMassAMS(threshold, mass):\n",
    "    # id for myscore column\n",
    "    iscore = headertraining.index(\"myscore\")\n",
    "    \n",
    "    for entry in alltraining:                              \n",
    "        myscore=-abs(entry[immc]-mass) \n",
    "        entry[iscore] = myscore\n",
    "    \n",
    "    # Loop again to determine the AMS, using threshold\n",
    "    sumsig = 0.\n",
    "    sumbkg = 0.\n",
    "    tp = 0.\n",
    "    tn = 0.\n",
    "    fp = 0.\n",
    "    fn = 0.\n",
    "    precision = 0.\n",
    "    recall = 0.\n",
    "    acc = 0.   \n",
    "    \n",
    "    # only use 10% of training set to calculate metrics\n",
    "    for entry in alltraining[-25000:]:\n",
    "        myscore = entry[iscore]\n",
    "        entry += [myscore]\n",
    "        weight = entry[iweight]\n",
    "        # sum event weight passing the selection. Of course in real life the threshold should be optimised\n",
    "        # test for positive\n",
    "        if myscore > threshold:\n",
    "            if entry[ilabel] == \"s\":\n",
    "                sumsig += weight\n",
    "                tp += 1\n",
    "            else:\n",
    "                sumbkg += weight    \n",
    "                fp += 1\n",
    "        else:\n",
    "            if entry[ilabel] == \"s\":\n",
    "                fn += 1\n",
    "            else:\n",
    "                tn += 1\n",
    "                \n",
    "    # calculate scores\n",
    "    # print(sumsig, sumbkg)\n",
    "    amsscore = ams(sumsig * 10, sumbkg * 10)\n",
    "    precision = tp / (tp + fp)\n",
    "    recall = tp / (tp + fn)\n",
    "    acc = (tp + tn) / (tp + fp + tn + fn)\n",
    "    f1score = (2 * precision * recall)/(precision + recall)\n",
    "\n",
    "    printScores(tp, tn, fp, fn, precision, recall, acc, f1score, amsscore)\n",
    "    \n",
    "    return amsscore"
   ]
  },
  {
   "cell_type": "code",
   "execution_count": 232,
   "metadata": {
    "collapsed": false
   },
   "outputs": [
    {
     "data": {
      "text/plain": [
       "1.5730114041168854"
      ]
     },
     "execution_count": 232,
     "metadata": {},
     "output_type": "execute_result"
    }
   ],
   "source": [
    "thresholdMassAMS(-31., 125.)"
   ]
  },
  {
   "cell_type": "markdown",
   "metadata": {},
   "source": [
    "### Plotting"
   ]
  },
  {
   "cell_type": "code",
   "execution_count": 171,
   "metadata": {
    "collapsed": true
   },
   "outputs": [],
   "source": [
    "from mpl_toolkits.mplot3d import Axes3D\n",
    "from matplotlib import cm\n",
    "from matplotlib.ticker import LinearLocator, FormatStrFormatter\n",
    "import matplotlib.pyplot as plt\n",
    "import numpy as np"
   ]
  },
  {
   "cell_type": "code",
   "execution_count": 277,
   "metadata": {
    "collapsed": false
   },
   "outputs": [
    {
     "name": "stdout",
     "output_type": "stream",
     "text": [
      "1.4756172244\n",
      "1.48435901283\n",
      "1.49555266003\n",
      "1.50688391184\n",
      "1.51446865058\n",
      "1.52615602501\n",
      "1.531444988\n",
      "1.54674141678\n",
      "1.55708328755\n",
      "1.55560651507\n",
      "1.54271084907\n",
      "1.53830377484\n",
      "1.51895767552\n",
      "1.49082277941\n",
      "1.46793805871\n",
      "1.48348275167\n",
      "1.4970776715\n",
      "1.50767064214\n",
      "1.51475206198\n",
      "1.52523875149\n",
      "1.5361312336\n",
      "1.55301243213\n",
      "1.56389950014\n",
      "1.56576188461\n",
      "1.55715588079\n",
      "1.56038019586\n",
      "1.55300959807\n",
      "1.5369314812\n",
      "1.51337858151\n",
      "1.48395889594\n",
      "1.49240131106\n",
      "1.50639894909\n",
      "1.51588876807\n",
      "1.52552576815\n",
      "1.53572262671\n",
      "1.55105967234\n",
      "1.56762585731\n",
      "1.57106062586\n",
      "1.56321075056\n",
      "1.56993688129\n",
      "1.5668783318\n",
      "1.55858784874\n",
      "1.54755345261\n",
      "1.53092498306\n",
      "1.50427599056\n",
      "1.49805625429\n",
      "1.5107311539\n",
      "1.52379584307\n",
      "1.53634344507\n",
      "1.55062234179\n",
      "1.56621391959\n",
      "1.56801072059\n",
      "1.56633136418\n",
      "1.57432398611\n",
      "1.5716446973\n",
      "1.56742070783\n",
      "1.56089877697\n",
      "1.55196461439\n",
      "1.53840778512\n",
      "1.51023957867\n",
      "1.49978230433\n",
      "1.51477243246\n",
      "1.53055016848\n",
      "1.54823760921\n",
      "1.5660842631\n",
      "1.56681331384\n",
      "1.56423679644\n",
      "1.57021432222\n",
      "1.57376600132\n",
      "1.57071843032\n",
      "1.56438663439\n",
      "1.55984969218\n",
      "1.55094387283\n",
      "1.53068951112\n",
      "1.52102241993\n",
      "1.5053109845\n",
      "1.51865929155\n",
      "1.53826731874\n",
      "1.55940363142\n",
      "1.56374138262\n",
      "1.56361330115\n",
      "1.56829533315\n",
      "1.57060838987\n",
      "1.56535218295\n",
      "1.5655265709\n",
      "1.5617702366\n",
      "1.55264792765\n",
      "1.53760485464\n",
      "1.53262068135\n",
      "1.51079495298\n",
      "1.51065188466\n",
      "1.52779607766\n",
      "1.54621730771\n",
      "1.5527689056\n",
      "1.55628288255\n",
      "1.56456605622\n",
      "1.56920897041\n",
      "1.56258721989\n",
      "1.56130951142\n",
      "1.55485533733\n",
      "1.55244894613\n",
      "1.53811016985\n",
      "1.53235335624\n",
      "1.51616902294\n",
      "1.4881862681\n",
      "1.51983513058\n",
      "1.53724140607\n",
      "1.54123568687\n",
      "1.54212218205\n",
      "1.55260783595\n",
      "1.56092329451\n",
      "1.55809064099\n",
      "1.5591522831\n",
      "1.5510584508\n",
      "1.54682384788\n",
      "1.52959376277\n",
      "1.53071176748\n",
      "1.51459717016\n",
      "1.4861356901\n",
      "1.45863086469\n",
      "1.52955460108\n",
      "1.53244142681\n",
      "1.5324381179\n",
      "1.54004037671\n",
      "1.54536095627\n",
      "1.54497989664\n",
      "1.54990195871\n",
      "1.54563558174\n",
      "1.54366743058\n",
      "1.52475639705\n",
      "1.52359436392\n",
      "1.50387253132\n",
      "1.48323413072\n",
      "1.45598508256\n",
      "1.43137027608\n",
      "1.52425673037\n",
      "1.52416591446\n",
      "1.53044355077\n",
      "1.53465207102\n",
      "1.53121269848\n",
      "1.53291826872\n",
      "1.53114687355\n",
      "1.53317087557\n",
      "1.51840047588\n",
      "1.51939709737\n",
      "1.49760948798\n",
      "1.47477496782\n",
      "1.44395133948\n",
      "1.42727533691\n",
      "1.37705991666\n"
     ]
    }
   ],
   "source": [
    "# general        \n",
    "X = np.arange(-50, -20, 2)\n",
    "Y = np.arange(120, 140, 2)\n",
    "X, Y = np.meshgrid(X, Y)\n",
    "Z = np.sqrt(abs(X))\n",
    "for i in range(len(X[:,1])):\n",
    "    for j in range(len(Y[1])):\n",
    "        Z[i, j] = thresholdMassAMS(X[i, j], Y[i, j])\n",
    "        print(Z[i, j])\n"
   ]
  },
  {
   "cell_type": "code",
   "execution_count": 290,
   "metadata": {
    "collapsed": false
   },
   "outputs": [
    {
     "name": "stdout",
     "output_type": "stream",
     "text": [
      "1.57106062586\n",
      "1.57009475126\n",
      "1.56969300905\n",
      "1.56916102124\n",
      "1.56921957963\n",
      "1.5671512563\n",
      "1.56729506887\n",
      "1.56561454917\n",
      "1.56321075056\n",
      "1.56328546128\n",
      "1.56633767555\n",
      "1.56874341362\n",
      "1.57019616753\n",
      "1.56799394463\n",
      "1.56530236475\n",
      "1.56669376616\n",
      "1.56993688129\n",
      "1.57096101666\n",
      "1.57206468332\n",
      "1.57249809273\n",
      "1.56868842123\n",
      "1.5694169124\n",
      "1.56947022823\n",
      "1.57073309026\n",
      "1.5685939613\n",
      "1.56878671194\n",
      "1.5681416154\n",
      "1.56596846412\n",
      "1.56390468469\n",
      "1.56585475516\n",
      "1.56775800122\n",
      "1.56977117366\n",
      "1.56839449258\n",
      "1.56777632559\n",
      "1.56802406962\n",
      "1.56757770669\n",
      "1.57029695387\n",
      "1.57326840401\n",
      "1.57361001418\n",
      "1.57139167416\n",
      "1.56749841042\n",
      "1.56804697788\n",
      "1.57044147505\n",
      "1.56889418416\n",
      "1.57030048083\n",
      "1.56958222055\n",
      "1.56745698728\n",
      "1.56643563899\n",
      "1.56860627797\n",
      "1.56834029745\n",
      "1.56926295953\n",
      "1.56739045046\n",
      "1.56733538523\n",
      "1.56839979129\n",
      "1.57003422649\n",
      "1.57159981836\n",
      "1.57085188802\n",
      "1.57290222138\n",
      "1.5725823844\n",
      "1.57168334138\n",
      "1.5680499009\n",
      "1.56849236498\n",
      "1.56745056335\n",
      "1.56999760061\n",
      "1.56987198103\n",
      "1.56897186156\n",
      "1.56787680851\n",
      "1.57008182313\n",
      "1.57086654158\n",
      "1.5720067103\n",
      "1.56795448686\n",
      "1.56681394051\n",
      "1.56737151205\n",
      "1.56956241337\n",
      "1.57194583023\n",
      "1.5732877267\n",
      "1.57417789281\n",
      "1.57012444672\n",
      "1.570953587\n",
      "1.57280891646\n",
      "1.56852842799\n",
      "1.56744379062\n",
      "1.56802532227\n",
      "1.5684069247\n",
      "1.56865909055\n",
      "1.56815865452\n",
      "1.57159360438\n",
      "1.57230101666\n",
      "1.57346889363\n",
      "1.57048244666\n",
      "1.56956101031\n",
      "1.56791122053\n",
      "1.56901601102\n",
      "1.57089179015\n",
      "1.57278222493\n",
      "1.57449386528\n",
      "1.57255115593\n",
      "1.57221904802\n",
      "1.57031882899\n",
      "1.57134113431\n",
      "1.56687192882\n",
      "1.56805273444\n",
      "1.56838920259\n",
      "1.56666570205\n",
      "1.56667420953\n",
      "1.5712586417\n",
      "1.57256191763\n",
      "1.57497670504\n",
      "1.57191579996\n",
      "1.57102061454\n",
      "1.57044051903\n",
      "1.57175702368\n",
      "1.57140190465\n",
      "1.57220868309\n",
      "1.57341301432\n",
      "1.57202300955\n",
      "1.57252161933\n",
      "1.5727368628\n",
      "1.57258559616\n",
      "1.57045915948\n",
      "1.56738238267\n",
      "1.56779863968\n",
      "1.56668568577\n",
      "1.5666477376\n",
      "1.56922278212\n",
      "1.57103824003\n",
      "1.57462083475\n",
      "1.57216624511\n",
      "1.57253037564\n",
      "1.57187186658\n",
      "1.57320441205\n",
      "1.57392682658\n",
      "1.57494138118\n",
      "1.57389333814\n",
      "1.57143097108\n",
      "1.57142615668\n",
      "1.57219068728\n",
      "1.57286391616\n",
      "1.57286061048\n",
      "1.5736215961\n",
      "1.56771838714\n",
      "1.56600078518\n",
      "1.56604138326\n",
      "1.56922506227\n",
      "1.57099040348\n",
      "1.57254589269\n",
      "1.57061971211\n",
      "1.57216378923\n",
      "1.57210841111\n",
      "1.57471113786\n",
      "1.57535248742\n",
      "1.57637445816\n",
      "1.57641526423\n",
      "1.57416306601\n",
      "1.57189360944\n",
      "1.57158400049\n",
      "1.5717454844\n",
      "1.57227964938\n",
      "1.57386868527\n",
      "1.57219567658\n",
      "1.56633136418\n",
      "1.56594839468\n",
      "1.56850816918\n",
      "1.57034854804\n",
      "1.57253130254\n",
      "1.57056073225\n",
      "1.57006532827\n",
      "1.57053225397\n",
      "1.57432398611\n",
      "1.57557227944\n",
      "1.57787694355\n",
      "1.57783596453\n",
      "1.57558941603\n",
      "1.57441911361\n",
      "1.57431415404\n",
      "1.57218911476\n",
      "1.5716446973\n",
      "1.57272130009\n",
      "1.57159155708\n",
      "1.57356512423\n",
      "1.56589346145\n",
      "1.56882154518\n",
      "1.57022461899\n",
      "1.57178440323\n",
      "1.56989946666\n",
      "1.5700428448\n",
      "1.57045857649\n",
      "1.57218633092\n",
      "1.57396524103\n",
      "1.577467389\n",
      "1.57803886419\n",
      "1.57709177336\n",
      "1.57584030744\n",
      "1.57573430423\n",
      "1.57471467617\n",
      "1.5743712823\n",
      "1.5731341716\n",
      "1.57093773308\n",
      "1.57239541541\n",
      "1.57430459966\n",
      "1.56755318962\n",
      "1.57014719673\n",
      "1.57208117058\n",
      "1.56975936561\n",
      "1.56928012965\n",
      "1.56977191113\n",
      "1.57214742906\n",
      "1.57387456306\n",
      "1.57528786123\n",
      "1.57639954992\n",
      "1.57666710966\n",
      "1.57603579285\n",
      "1.57723576299\n",
      "1.57613323231\n",
      "1.57577957968\n",
      "1.57565866663\n",
      "1.57366310109\n",
      "1.57278557656\n",
      "1.57361770972\n",
      "1.57085962981\n",
      "1.5701854583\n",
      "1.57077988686\n",
      "1.569670227\n",
      "1.56956996162\n",
      "1.5696104972\n",
      "1.57135512941\n",
      "1.57315979205\n",
      "1.57523090522\n",
      "1.57629156824\n",
      "1.5744569564\n",
      "1.57437838086\n",
      "1.5767990947\n",
      "1.57631515942\n",
      "1.57727940351\n",
      "1.57707320166\n",
      "1.57506418437\n",
      "1.57531080023\n",
      "1.5763336157\n",
      "1.5712218228\n",
      "1.56581632103\n",
      "1.57270685217\n",
      "1.56969188733\n",
      "1.56825021184\n",
      "1.56950591263\n",
      "1.57162899113\n",
      "1.57297378873\n",
      "1.57440649778\n",
      "1.57554788071\n",
      "1.57438834691\n",
      "1.57426223308\n",
      "1.57456530857\n",
      "1.57462986814\n",
      "1.57681958894\n",
      "1.5772376581\n",
      "1.57656355372\n",
      "1.57672318797\n",
      "1.57771768519\n",
      "1.57374957805\n",
      "1.56854520194\n",
      "1.56676862513\n",
      "1.5702265417\n",
      "1.57017753581\n",
      "1.56950563281\n",
      "1.5702765489\n",
      "1.57285133432\n",
      "1.57466260826\n",
      "1.57533684556\n",
      "1.57354200015\n",
      "1.57350383203\n",
      "1.57448729251\n",
      "1.57449955196\n",
      "1.5745401577\n",
      "1.5755173626\n",
      "1.5760883302\n",
      "1.57687471557\n",
      "1.57921226484\n",
      "1.57516020743\n",
      "1.56993459478\n",
      "1.56930348812\n",
      "1.56836681134\n",
      "1.56942674843\n",
      "1.57002974891\n",
      "1.57219545241\n",
      "1.57282529478\n",
      "1.57327495481\n",
      "1.57519621593\n",
      "1.57378723198\n",
      "1.57328094734\n",
      "1.57362360862\n",
      "1.57371694161\n",
      "1.57444403162\n",
      "1.57536892997\n",
      "1.57377796374\n",
      "1.57512729994\n",
      "1.57870983198\n",
      "1.57529578328\n",
      "1.57143632856\n",
      "1.57071648093\n",
      "1.56974586198\n",
      "1.5685076348\n",
      "1.56904837649\n",
      "1.57142256257\n",
      "1.57333579953\n",
      "1.57518344854\n",
      "1.57514407582\n",
      "1.5723747659\n",
      "1.57313176103\n",
      "1.57385988778\n",
      "1.57347355426\n",
      "1.57354692854\n",
      "1.5745556122\n",
      "1.57366990877\n",
      "1.57496528939\n",
      "1.57634833065\n",
      "1.57351360028\n",
      "1.57092854485\n",
      "1.5708443577\n",
      "1.57124602246\n",
      "1.56991869349\n",
      "1.567629111\n",
      "1.57021432222\n",
      "1.57233111543\n",
      "1.57438666357\n",
      "1.57564109585\n",
      "1.57427993863\n",
      "1.57306765977\n",
      "1.57242803687\n",
      "1.57330950894\n",
      "1.57376600132\n",
      "1.57428602922\n",
      "1.57275050559\n",
      "1.57412863383\n",
      "1.57621846073\n",
      "1.57333465536\n",
      "1.56854992528\n",
      "1.56904067323\n",
      "1.57071843032\n",
      "1.570033746\n",
      "1.56912996232\n",
      "1.56804795816\n",
      "1.57173970362\n",
      "1.57315693554\n",
      "1.57461225015\n",
      "1.57346661067\n",
      "1.57355954055\n",
      "1.57432950516\n",
      "1.5732242404\n",
      "1.57229676823\n",
      "1.57410299226\n",
      "1.57295838916\n",
      "1.57383941577\n",
      "1.57526012284\n",
      "1.57246855113\n",
      "1.56841731995\n",
      "1.56885287842\n",
      "1.56830092695\n",
      "1.56820288322\n",
      "1.56858741641\n",
      "1.56815002779\n",
      "1.5717197195\n",
      "1.57359869425\n",
      "1.57400496441\n",
      "1.57222114387\n",
      "1.57251775774\n",
      "1.57350317567\n",
      "1.57370571484\n",
      "1.5741912486\n",
      "1.57399060163\n",
      "1.57146404618\n",
      "1.57364216099\n",
      "1.57544667729\n",
      "1.57215484582\n",
      "1.56745049464\n",
      "1.56797015391\n",
      "1.56815282145\n",
      "1.56800159625\n",
      "1.56613892646\n",
      "1.56629037049\n",
      "1.57114786293\n",
      "1.5696756309\n",
      "1.5747813541\n",
      "1.5726548933\n",
      "1.57190212571\n",
      "1.57224558361\n",
      "1.57264340224\n",
      "1.5733398655\n",
      "1.57445850984\n",
      "1.57335474876\n",
      "1.57350957111\n",
      "1.57390959533\n",
      "1.57193987953\n",
      "1.56763610342\n",
      "1.56764362359\n",
      "1.56715748664\n",
      "1.56709561534\n",
      "1.56597948729\n",
      "1.56607524627\n",
      "1.56864460487\n",
      "1.56777505186\n",
      "1.569167388\n"
     ]
    }
   ],
   "source": [
    "# detail        \n",
    "X = np.arange(-36, -31, 0.25)\n",
    "Y = np.arange(124, 129, 0.25)\n",
    "X, Y = np.meshgrid(X, Y)\n",
    "Z = np.sqrt(abs(X))\n",
    "for i in range(len(X[:,1])):\n",
    "    for j in range(len(Y[1])):\n",
    "        Z[i, j] = thresholdMassAMS(X[i, j], Y[i, j])\n",
    "        print(Z[i, j])"
   ]
  },
  {
   "cell_type": "code",
   "execution_count": 276,
   "metadata": {
    "collapsed": false,
    "scrolled": true
   },
   "outputs": [
    {
     "data": {
      "image/png": "[encoded data removed]",
      "text/plain": [
       "<matplotlib.figure.Figure at 0x4eefe1fb38>"
      ]
     },
     "metadata": {},
     "output_type": "display_data"
    }
   ],
   "source": [
    "fig = plt.figure()\n",
    "ax = fig.gca(projection='3d')\n",
    "surf = ax.plot_surface(X, Y, Z, rstride=1, cstride=1, cmap=cm.coolwarm,\n",
    "                       linewidth=0, antialiased=False)\n",
    "#ax.set_zlim(-1.01, 1.01)\n",
    "\n",
    "ax.zaxis.set_major_locator(LinearLocator(5))\n",
    "ax.zaxis.set_major_formatter(FormatStrFormatter('%.02f'))\n",
    "ax.xaxis.set_major_locator(LinearLocator(5))\n",
    "ax.yaxis.set_major_locator(LinearLocator(5))\n",
    "ax.set_xlabel(\"prag\", fontsize=12)\n",
    "ax.set_ylabel(\"$m_H$\", fontsize=12)\n",
    "ax.tick_params(axis='both', which='major', labelsize=8)\n",
    "\n",
    "fig.colorbar(surf, shrink=0.5, aspect=5)\n",
    "fig.savefig('sw_amslearn_2d_detail.pdf')"
   ]
  },
  {
   "cell_type": "markdown",
   "metadata": {},
   "source": [
    "### Contour plot"
   ]
  },
  {
   "cell_type": "code",
   "execution_count": 296,
   "metadata": {
    "collapsed": false
   },
   "outputs": [
    {
     "data": {
      "image/png": "[encoded data removed]",
      "text/plain": [
       "<matplotlib.figure.Figure at 0x4f0aa22668>"
      ]
     },
     "metadata": {},
     "output_type": "display_data"
    }
   ],
   "source": [
    "plt.figure()\n",
    "levels = np.linspace(1.568, 1.580, 8)\n",
    "CS = plt.contour(X, Y, Z, levels=levels)\n",
    "plt.clabel(CS, inline=1, fontsize=8)\n",
    "plt.savefig(\"sw_amslearn_2d_contour_detail.pdf\")\n",
    "# plt.savefig(\"sw_amslearn_2d_contour.pdf\")"
   ]
  },
  {
   "cell_type": "code",
   "execution_count": 302,
   "metadata": {
    "collapsed": false
   },
   "outputs": [
    {
     "data": {
      "text/plain": [
       "275"
      ]
     },
     "execution_count": 302,
     "metadata": {},
     "output_type": "execute_result"
    }
   ],
   "source": [
    "np.argmax(Z)"
   ]
  },
  {
   "cell_type": "code",
   "execution_count": 309,
   "metadata": {
    "collapsed": false
   },
   "outputs": [
    {
     "name": "stderr",
     "output_type": "stream",
     "text": [
      "C:\\Users\\kkenda\\Programs\\Anaconda3\\lib\\site-packages\\ipykernel\\__main__.py:1: DeprecationWarning: using a non-integer number instead of an integer will result in an error in the future\n",
      "  if __name__ == '__main__':\n"
     ]
    },
    {
     "data": {
      "text/plain": [
       "1.5792122648365183"
      ]
     },
     "execution_count": 309,
     "metadata": {},
     "output_type": "execute_result"
    }
   ],
   "source": [
    "Z[275/20, 15]"
   ]
  },
  {
   "cell_type": "code",
   "execution_count": 310,
   "metadata": {
    "collapsed": false
   },
   "outputs": [
    {
     "name": "stderr",
     "output_type": "stream",
     "text": [
      "C:\\Users\\kkenda\\Programs\\Anaconda3\\lib\\site-packages\\ipykernel\\__main__.py:1: DeprecationWarning: using a non-integer number instead of an integer will result in an error in the future\n",
      "  if __name__ == '__main__':\n"
     ]
    },
    {
     "data": {
      "text/plain": [
       "-32.25"
      ]
     },
     "execution_count": 310,
     "metadata": {},
     "output_type": "execute_result"
    }
   ],
   "source": [
    "X[275/20, 15]"
   ]
  },
  {
   "cell_type": "code",
   "execution_count": 311,
   "metadata": {
    "collapsed": false
   },
   "outputs": [
    {
     "name": "stderr",
     "output_type": "stream",
     "text": [
      "C:\\Users\\kkenda\\Programs\\Anaconda3\\lib\\site-packages\\ipykernel\\__main__.py:1: DeprecationWarning: using a non-integer number instead of an integer will result in an error in the future\n",
      "  if __name__ == '__main__':\n"
     ]
    },
    {
     "data": {
      "text/plain": [
       "127.25"
      ]
     },
     "execution_count": 311,
     "metadata": {},
     "output_type": "execute_result"
    }
   ],
   "source": [
    "Y[275/20, 15]"
   ]
  },
  {
   "cell_type": "code",
   "execution_count": 313,
   "metadata": {
    "collapsed": false
   },
   "outputs": [
    {
     "name": "stdout",
     "output_type": "stream",
     "text": [
      "TP:  0.2838\n",
      "TN:  0.43244\n",
      "FP:  0.2232\n",
      "FN:  0.06056\n",
      "Precision:  0.5597633136094674\n",
      "Recall:  0.8241375304913463\n",
      "Acc:  0.71624\n",
      "F1:  0.6666979890997933\n",
      "AMS:  1.5792122648365183\n"
     ]
    },
    {
     "data": {
      "text/plain": [
       "1.5792122648365183"
      ]
     },
     "execution_count": 313,
     "metadata": {},
     "output_type": "execute_result"
    }
   ],
   "source": [
    "thresholdMassAMS(-32.25, 127.25)"
   ]
  },
  {
   "cell_type": "markdown",
   "metadata": {},
   "source": [
    "### Export for Kaggle"
   ]
  },
  {
   "cell_type": "code",
   "execution_count": 315,
   "metadata": {
    "collapsed": false
   },
   "outputs": [
    {
     "name": "stdout",
     "output_type": "stream",
     "text": [
      "Sort on the score \n",
      "Final loop to write the submission file submission_simplest_2d.csv\n",
      " You can now submit  submission_simplest_2d.csv  to kaggle site\n"
     ]
    }
   ],
   "source": [
    "#recompute variable indices for safety \n",
    "immc = headertest.index(\"DER_mass_MMC\")\n",
    "injet = headertest.index(\"PRI_jet_num\")\n",
    "iid = headertest.index(\"EventId\")\n",
    "headertest += [\"myscore\"]\n",
    "threshold = -32.25\n",
    "for entry in alltest:\n",
    "    # turn all entries from string to float, except EventId and PRI_jet_num to int (there is no label)\n",
    "    for i in range(len(entry)):\n",
    "        if not i in [iid,injet]:\n",
    "            entry[i]=float(entry[i])\n",
    "        else:    \n",
    "            entry[i]=int(entry[i])\n",
    "    # add my score\n",
    "    myscore=-abs(entry[immc]-127.25)                                    \n",
    "    entry+=[myscore]\n",
    "\n",
    "iscore=headertest.index(\"myscore\")\n",
    "if iscore<0:\n",
    "    print(\"ERROR could not find variable myscore\")\n",
    "    raise Exception # should not happen\n",
    "\n",
    "print(\"Sort on the score \") \n",
    "# in the first version of the file, an auxilliary map was used, but this was useless\n",
    "alltestsorted=sorted(alltest,key=lambda entry: entry[iscore])\n",
    "# the RankOrder we want is now simply the entry number\n",
    "\n",
    "submissionfilename=\"submission_simplest_2d.csv\"\n",
    "print(\"Final loop to write the submission file\",submissionfilename)\n",
    "outputfile=open(submissionfilename,\"w\")\n",
    "outputfile.write(\"EventId,RankOrder,Class\\n\")\n",
    "iid=headertest.index(\"EventId\")\n",
    "if iid<0:\n",
    "    print(\"ERROR could not find variable EventId in test file\")\n",
    "    raise Exception # should not happen\n",
    "\n",
    "rank=1 # kaggle wants to start at 1\n",
    "for entry in alltestsorted:\n",
    "    # compute label \n",
    "    slabel=\"b\"\n",
    "    if entry[iscore]>threshold: # arbitrary threshold\n",
    "        slabel=\"s\"\n",
    "\n",
    "    outputfile.write(str(entry[iid])+\",\")\n",
    "    outputfile.write(str(rank)+\",\")\n",
    "    outputfile.write(slabel)            \n",
    "    outputfile.write(\"\\n\")\n",
    "    rank+=1\n",
    "\n",
    "\n",
    "outputfile.close()\n",
    "print(\" You can now submit \",submissionfilename,\" to kaggle site\")"
   ]
  },
  {
   "cell_type": "code",
   "execution_count": null,
   "metadata": {
    "collapsed": true
   },
   "outputs": [],
   "source": []
  }
 ],
 "metadata": {
  "kernelspec": {
   "display_name": "Python 3",
   "language": "python",
   "name": "python3"
  },
  "language_info": {
   "codemirror_mode": {
    "name": "ipython",
    "version": 3
   },
   "file_extension": ".py",
   "mimetype": "text/x-python",
   "name": "python",
   "nbconvert_exporter": "python",
   "pygments_lexer": "ipython3",
   "version": "3.5.1"
  }
 },
 "nbformat": 4,
 "nbformat_minor": 0
}
