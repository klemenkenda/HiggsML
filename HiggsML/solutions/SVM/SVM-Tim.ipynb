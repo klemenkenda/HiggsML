{
 "cells": [
  {
   "cell_type": "markdown",
   "metadata": {},
   "source": [
    "# Support Vector Machine\n",
    "## HiggsML Challenge"
   ]
  },
  {
   "cell_type": "code",
   "execution_count": 19,
   "metadata": {
    "collapsed": true
   },
   "outputs": [],
   "source": [
    "%matplotlib inline\n",
    "import numpy as np\n",
    "import pandas as pd\n",
    "import matplotlib.pyplot as plt"
   ]
  },
  {
   "cell_type": "markdown",
   "metadata": {},
   "source": [
    "## Loading the data"
   ]
  },
  {
   "cell_type": "code",
   "execution_count": 20,
   "metadata": {
    "collapsed": true
   },
   "outputs": [],
   "source": [
    "dirName = '../../data/'\n",
    "fileName = dirName + 'training.csv'\n",
    "data = pd.read_csv(fileName)"
   ]
  },
  {
   "cell_type": "markdown",
   "metadata": {},
   "source": [
    "## Add Physical Features\n",
    "by Tim Salimans"
   ]
  },
  {
   "cell_type": "code",
   "execution_count": 21,
   "metadata": {
    "collapsed": true
   },
   "outputs": [],
   "source": [
    "def addFeatures(df):\n",
    "    df['TIM_abs_eta_tau'] = np.abs(df.PRI_tau_eta)\n",
    "    df['TIM_abs_eta_lep'] = np.abs(df.PRI_lep_eta)   \n",
    "    df['TIM_abs_eta_jet1'] = np.abs(df.PRI_jet_leading_eta)   \n",
    "    df['TIM_abs_eta_jet2'] = np.abs(df.PRI_jet_subleading_eta)       \n",
    "    df['TIM_deltaeta_tau_lep'] = np.abs(df.PRI_tau_eta-df.PRI_lep_eta)\n",
    "    df['TIM_deltaeta_tau_jet1'] = np.abs(df.PRI_tau_eta-df.PRI_jet_leading_eta)\n",
    "    df['TIM_deltaeta_tau_jet2'] = np.abs(df.PRI_tau_eta-df.PRI_jet_subleading_eta)\n",
    "    df['TIM_deltaeta_lep_jet1'] = np.abs(df.PRI_lep_eta-df.PRI_jet_leading_eta)\n",
    "    df['TIM_deltaeta_lep_jet2'] = np.abs(df.PRI_lep_eta-df.PRI_jet_subleading_eta)\n",
    "    df['TIM_deltaeta_jet_jet'] = np.abs(df.PRI_jet_leading_eta-df.PRI_jet_subleading_eta)\n",
    "\n",
    "    df['TIM_prodeta_tau_lep'] = df.PRI_tau_eta*df.PRI_lep_eta\n",
    "    df['TIM_prodeta_tau_jet1'] = df.PRI_tau_eta*df.PRI_jet_leading_eta\n",
    "    df['TIM_prodeta_tau_jet2'] = df.PRI_tau_eta*df.PRI_jet_subleading_eta\n",
    "    df['TIM_prodeta_lep_jet1'] = df.PRI_lep_eta*df.PRI_jet_leading_eta\n",
    "    df['TIM_prodeta_lep_jet2'] = df.PRI_lep_eta*df.PRI_jet_subleading_eta\n",
    "    df['TIM_prodeta_jet_jet'] = df.PRI_jet_leading_eta*df.PRI_jet_subleading_eta\n",
    "    \n",
    "    TIM_deltaphi_tau_lep = np.abs(df.PRI_tau_phi-df.PRI_lep_phi)\n",
    "    TIM_deltaphi_tau_lep[TIM_deltaphi_tau_lep>np.pi] = 2*np.pi-TIM_deltaphi_tau_lep\n",
    "    TIM_deltaphi_tau_jet1 = np.abs(df.PRI_tau_phi-df.PRI_jet_leading_phi)\n",
    "    TIM_deltaphi_tau_jet1[TIM_deltaphi_tau_jet1>np.pi] = 2*np.pi-TIM_deltaphi_tau_jet1\n",
    "    TIM_deltaphi_tau_jet2 = np.abs(df.PRI_tau_phi-df.PRI_jet_subleading_phi)\n",
    "    TIM_deltaphi_tau_jet2[TIM_deltaphi_tau_jet2>np.pi] = 2*np.pi-TIM_deltaphi_tau_jet2\n",
    "    TIM_deltaphi_lep_jet1 = np.abs(df.PRI_lep_phi-df.PRI_jet_leading_phi)\n",
    "    TIM_deltaphi_lep_jet1[TIM_deltaphi_lep_jet1>np.pi] = 2*np.pi-TIM_deltaphi_lep_jet1\n",
    "    TIM_deltaphi_lep_jet2 = np.abs(df.PRI_lep_phi-df.PRI_jet_subleading_phi)\n",
    "    TIM_deltaphi_lep_jet2[TIM_deltaphi_lep_jet2>np.pi] = 2*np.pi-TIM_deltaphi_lep_jet2\n",
    "    TIM_deltaphi_jet_jet = np.abs(df.PRI_jet_leading_phi-df.PRI_jet_subleading_phi)\n",
    "    TIM_deltaphi_jet_jet[TIM_deltaphi_jet_jet>np.pi] = 2*np.pi-TIM_deltaphi_jet_jet\n",
    "    \n",
    "    df['TIM_deltar_tau_lep'] = np.sqrt(np.square(df.TIM_deltaeta_tau_lep)+np.square(TIM_deltaphi_tau_lep))\n",
    "    df['TIM_deltar_tau_jet1'] = np.sqrt(np.square(df.TIM_deltaeta_tau_jet1)+np.square(TIM_deltaphi_tau_jet1))\n",
    "    df['TIM_deltar_tau_jet2'] = np.sqrt(np.square(df.TIM_deltaeta_tau_jet2)+np.square(TIM_deltaphi_tau_jet2))\n",
    "    df['TIM_deltar_lep_jet1'] = np.sqrt(np.square(df.TIM_deltaeta_lep_jet1)+np.square(TIM_deltaphi_lep_jet1))\n",
    "    df['TIM_deltar_lep_jet2'] = np.sqrt(np.square(df.TIM_deltaeta_lep_jet2)+np.square(TIM_deltaphi_lep_jet2))\n",
    "    df['TIM_deltar_jet_jet'] = np.sqrt(np.square(df.TIM_deltaeta_jet_jet)+np.square(TIM_deltaphi_jet_jet))\n",
    "    \n",
    "    #d = np.sign(np.pi - np.abs(df.PRI_tau_phi - df.PRI_lep_phi))\n",
    "    d = df.PRI_tau_phi - df.PRI_lep_phi\n",
    "    d = 1.0 - 2.0*((d>np.pi)|((d<0) & (d>-np.pi)))\n",
    "    a = np.sin(df.PRI_met_phi-df.PRI_lep_phi)\n",
    "    b = np.sin(df.PRI_tau_phi-df.PRI_met_phi)\n",
    "    df['TIM_met_phi_centrality'] = d*(a+b)/np.sqrt(np.square(a)+np.square(b))\n",
    "    \n",
    "    df['TIM_lep_eta_centrality'] = np.exp(-4.0*np.square(df.PRI_lep_eta-(df.PRI_jet_leading_eta+df.PRI_jet_subleading_eta)/2)/np.square(df.PRI_jet_leading_eta-df.PRI_jet_subleading_eta))\n",
    "    df['TIM_tau_eta_centrality'] = np.exp(-4.0*np.square(df.PRI_tau_eta-(df.PRI_jet_leading_eta+df.PRI_jet_subleading_eta)/2)/np.square(df.PRI_jet_leading_eta-df.PRI_jet_subleading_eta))   \n",
    "    \n",
    "    df['TIM_pt2_met_tau'] = (np.square(df.PRI_met*np.cos(df.PRI_met_phi) + df.PRI_tau_pt*np.cos(df.PRI_tau_phi))\n",
    "        + np.square(df.PRI_met*np.sin(df.PRI_met_phi) + df.PRI_tau_pt*np.sin(df.PRI_tau_phi)))\n",
    "    df['TIM_pt2_met_lep'] = (np.square(df.PRI_met*np.cos(df.PRI_met_phi) + df.PRI_lep_pt*np.cos(df.PRI_lep_phi))\n",
    "        + np.square(df.PRI_met*np.sin(df.PRI_met_phi) + df.PRI_lep_pt*np.sin(df.PRI_lep_phi)))\n",
    "    df['TIM_pt2_met_jet1'] = (np.square(df.PRI_met*np.cos(df.PRI_met_phi) + df.PRI_jet_leading_pt*np.cos(df.PRI_jet_leading_phi))\n",
    "        + np.square(df.PRI_met*np.sin(df.PRI_met_phi) + df.PRI_jet_leading_pt*np.sin(df.PRI_jet_leading_phi)))\n",
    "    df['TIM_pt2_met_jet2'] = (np.square(df.PRI_met*np.cos(df.PRI_met_phi) + df.PRI_jet_subleading_pt*np.cos(df.PRI_jet_subleading_phi))\n",
    "        + np.square(df.PRI_met*np.sin(df.PRI_met_phi) + df.PRI_jet_subleading_pt*np.sin(df.PRI_jet_subleading_phi)))\n",
    "    df['TIM_pt2_tau_lep'] = (np.square(df.PRI_tau_pt*np.cos(df.PRI_tau_phi) + df.PRI_lep_pt*np.cos(df.PRI_lep_phi))\n",
    "        + np.square(df.PRI_tau_pt*np.sin(df.PRI_tau_phi) + df.PRI_lep_pt*np.sin(df.PRI_lep_phi)))\n",
    "    df['TIM_pt2_tau_jet1'] = (np.square(df.PRI_tau_pt*np.cos(df.PRI_tau_phi) + df.PRI_jet_leading_pt*np.cos(df.PRI_jet_leading_phi))\n",
    "        + np.square(df.PRI_tau_pt*np.sin(df.PRI_tau_phi) + df.PRI_jet_leading_pt*np.sin(df.PRI_jet_leading_phi)))\n",
    "    df['TIM_pt2_tau_jet2'] = (np.square(df.PRI_tau_pt*np.cos(df.PRI_tau_phi) + df.PRI_jet_subleading_pt*np.cos(df.PRI_jet_subleading_phi))\n",
    "        + np.square(df.PRI_tau_pt*np.sin(df.PRI_tau_phi) + df.PRI_jet_subleading_pt*np.sin(df.PRI_jet_subleading_phi)))    \n",
    "    df['TIM_pt2_lep_jet1'] = (np.square(df.PRI_lep_pt*np.cos(df.PRI_lep_phi) + df.PRI_jet_leading_pt*np.cos(df.PRI_jet_leading_phi))\n",
    "        + np.square(df.PRI_lep_pt*np.sin(df.PRI_lep_phi) + df.PRI_jet_leading_pt*np.sin(df.PRI_jet_leading_phi)))\n",
    "    df['TIM_pt2_lep_jet2'] = (np.square(df.PRI_lep_pt*np.cos(df.PRI_lep_phi) + df.PRI_jet_subleading_pt*np.cos(df.PRI_jet_subleading_phi))\n",
    "        + np.square(df.PRI_lep_pt*np.sin(df.PRI_lep_phi) + df.PRI_jet_subleading_pt*np.sin(df.PRI_jet_subleading_phi)))\n",
    "    df['TIM_pt2_jet_jet'] = (np.square(df.PRI_jet_leading_pt*np.cos(df.PRI_jet_leading_phi) + df.PRI_jet_subleading_pt*np.cos(df.PRI_jet_subleading_phi))\n",
    "        + np.square(df.PRI_jet_leading_pt*np.sin(df.PRI_jet_leading_phi) + df.PRI_jet_subleading_pt*np.sin(df.PRI_jet_subleading_phi)))    \n",
    "    \n",
    "    df['TIM_trans_mass_met_tau'] = np.sqrt(np.square(df.PRI_met+df.PRI_tau_pt)-df.TIM_pt2_met_tau)\n",
    "    df['TIM_trans_mass_met_lep'] = np.sqrt(np.square(df.PRI_met+df.PRI_lep_pt)-df.TIM_pt2_met_lep)\n",
    "    df['TIM_trans_mass_met_jet1'] = np.sqrt(np.square(df.PRI_met+df.PRI_jet_leading_pt)-df.TIM_pt2_met_jet1)\n",
    "    df['TIM_trans_mass_met_jet2'] = np.sqrt(np.square(df.PRI_met+df.PRI_jet_subleading_pt)-df.TIM_pt2_met_jet2)\n",
    "    df['TIM_trans_mass_tau_lep'] = np.sqrt(np.square(df.PRI_tau_pt+df.PRI_lep_pt)-df.TIM_pt2_tau_lep)\n",
    "    df['TIM_trans_mass_tau_jet1'] = np.sqrt(np.square(df.PRI_tau_pt+df.PRI_jet_leading_pt)-df.TIM_pt2_tau_jet1)\n",
    "    df['TIM_trans_mass_tau_jet2'] = np.sqrt(np.square(df.PRI_tau_pt+df.PRI_jet_subleading_pt)-df.TIM_pt2_tau_jet2)\n",
    "    df['TIM_trans_mass_lep_jet1'] = np.sqrt(np.square(df.PRI_lep_pt+df.PRI_jet_leading_pt)-df.TIM_pt2_lep_jet1)\n",
    "    df['TIM_trans_mass_lep_jet2'] = np.sqrt(np.square(df.PRI_lep_pt+df.PRI_jet_subleading_pt)-df.TIM_pt2_lep_jet2)\n",
    "    df['TIM_trans_mass_jet_jet'] = np.sqrt(np.square(df.PRI_jet_leading_pt+df.PRI_jet_subleading_pt)-df.TIM_pt2_jet_jet)\n",
    "\n",
    "    df['TIM_p2_tau_lep'] = df.TIM_pt2_tau_lep + np.square(df.PRI_tau_pt*np.sinh(df.PRI_tau_eta) + df.PRI_lep_pt*np.sinh(df.PRI_lep_eta))\n",
    "    df['TIM_p2_tau_jet1'] = df.TIM_pt2_tau_jet1 + np.square(df.PRI_tau_pt*np.sinh(df.PRI_tau_eta) + df.PRI_jet_leading_pt*np.sinh(df.PRI_jet_leading_eta))\n",
    "    df['TIM_p2_tau_jet2'] = df.TIM_pt2_tau_jet2 + np.square(df.PRI_tau_pt*np.sinh(df.PRI_tau_eta) + df.PRI_jet_subleading_pt*np.sinh(df.PRI_jet_subleading_eta))   \n",
    "    df['TIM_p2_lep_jet1'] = df.TIM_pt2_lep_jet1 + np.square(df.PRI_lep_pt*np.sinh(df.PRI_lep_eta) + df.PRI_jet_leading_pt*np.sinh(df.PRI_jet_leading_eta))\n",
    "    df['TIM_p2_lep_jet2'] = df.TIM_pt2_lep_jet2 + np.square(df.PRI_lep_pt*np.sinh(df.PRI_lep_eta) + df.PRI_jet_subleading_pt*np.sinh(df.PRI_jet_subleading_eta))\n",
    "    df['TIM_p2_jet_jet'] = df.TIM_pt2_jet_jet + np.square(df.PRI_jet_leading_pt*np.sinh(df.PRI_jet_leading_eta) + df.PRI_jet_subleading_pt*np.sinh(df.PRI_jet_subleading_eta))\n",
    "\n",
    "    df['E_tau'] = df.PRI_tau_pt*np.cosh(df.PRI_tau_eta)\n",
    "    df['E_lep'] = df.PRI_lep_pt*np.cosh(df.PRI_lep_eta)\n",
    "    df['E_jet1'] = df.PRI_jet_leading_pt*np.cosh(df.PRI_jet_leading_eta)\n",
    "    df['E_jet2'] = df.PRI_jet_subleading_pt*np.cosh(df.PRI_jet_subleading_eta)\n",
    "\n",
    "    df['TIM_mass_tau_lep'] = np.sqrt(np.square(df.E_tau+df.E_lep)-df.TIM_p2_tau_lep)\n",
    "    df['TIM_mass_tau_jet1'] = np.sqrt(np.square(df.E_tau+df.E_jet1)-df.TIM_p2_tau_jet1)\n",
    "    df['TIM_mass_tau_jet2'] = np.sqrt(np.square(df.E_tau+df.E_jet2)-df.TIM_p2_tau_jet2)\n",
    "    df['TIM_mass_lep_jet1'] = np.sqrt(np.square(df.E_lep+df.E_jet1)-df.TIM_p2_lep_jet1)\n",
    "    df['TIM_mass_lep_jet2'] = np.sqrt(np.square(df.E_lep+df.E_jet2)-df.TIM_p2_lep_jet2)\n",
    "    df['TIM_mass_jet_jet'] = np.sqrt(np.square(df.E_jet1+df.E_jet2)-df.TIM_p2_jet_jet)\n",
    "\n",
    "    sum_px = df.PRI_met*np.cos(df.PRI_met_phi) + df.PRI_tau_pt*np.cos(df.PRI_tau_phi) + df.PRI_lep_pt*np.cos(df.PRI_lep_phi)\n",
    "    sum_py = df.PRI_met*np.sin(df.PRI_met_phi) + df.PRI_tau_pt*np.sin(df.PRI_tau_phi) + df.PRI_lep_pt*np.sin(df.PRI_lep_phi)\n",
    "    df['TIM_pt_met_tau_lep'] = np.sqrt(np.square(sum_px) + np.square(sum_py))\n",
    "\n",
    "    sum_px_2 = sum_px + (df.PRI_jet_leading_pt*np.cos(df.PRI_jet_leading_phi)).fillna(0.0)\n",
    "    sum_py_2 = sum_py + (df.PRI_jet_leading_pt*np.sin(df.PRI_jet_leading_phi)).fillna(0.0)\n",
    "    df['TIM_pt_met_tau_lep_jet1'] = np.sqrt(np.square(sum_px_2) + np.square(sum_py_2))\n",
    "\n",
    "    sum_px_3 = sum_px_2 + (df.PRI_jet_subleading_pt*np.cos(df.PRI_jet_subleading_phi)).fillna(0.0)\n",
    "    sum_py_3 = sum_py_2 + (df.PRI_jet_subleading_pt*np.sin(df.PRI_jet_subleading_phi)).fillna(0.0)\n",
    "    df['TIM_pt_met_tau_lep_jet1_jet2'] = np.sqrt(np.square(sum_px_3) + np.square(sum_py_3))\n",
    "    \n",
    "    df['TIM_sum_pt_met_tau_lep'] = df.PRI_met + df.PRI_tau_pt + df.PRI_lep_pt\n",
    "    df['TIM_sum_pt_met_tau_lep_jet1'] = df.TIM_sum_pt_met_tau_lep + df.PRI_jet_leading_pt.fillna(0.0)\n",
    "    df['TIM_sum_pt_met_tau_lep_jet1_jet2'] = df.TIM_sum_pt_met_tau_lep_jet1 + df.PRI_jet_subleading_pt.fillna(0.0)\n",
    "    df['TIM_sum_pt_met_tau_lep_jet_all'] = df.TIM_sum_pt_met_tau_lep_jet1 + df.PRI_jet_all_pt\n",
    "    \n",
    "    df['TIM_sum_pt'] = df.PRI_tau_pt + df.PRI_lep_pt + df.PRI_jet_all_pt\n",
    "\n",
    "    df['TIM_pt_ratio_lep_tau'] = df.PRI_lep_pt/df.PRI_tau_pt\n",
    "\n",
    "    return df\n",
    "\n",
    "def delDER(df):\n",
    "    for col in df.columns.values:\n",
    "        if col[:3]==\"DER\" and col!=\"DER_mass_MMC\":\n",
    "            df = df.drop(col, axis=1)            \n",
    "    return df\n",
    "\n",
    "def delRawAngles(df):\n",
    "    for col in df.columns.values:\n",
    "        if col[len(col)-3:]==\"phi\" or col[len(col)-3:]==\"eta\":\n",
    "            df = df.drop(col, axis=1)\n",
    "    return df\n"
   ]
  },
  {
   "cell_type": "code",
   "execution_count": 22,
   "metadata": {
    "collapsed": true
   },
   "outputs": [],
   "source": [
    "data = addFeatures(data)\n",
    "data = delDER(data)\n",
    "data = delRawAngles(data)"
   ]
  },
  {
   "cell_type": "markdown",
   "metadata": {},
   "source": [
    "## Data Preprocessing"
   ]
  },
  {
   "cell_type": "code",
   "execution_count": 23,
   "metadata": {
    "collapsed": false
   },
   "outputs": [],
   "source": [
    "# replace missing values with NaN\n",
    "data = data.replace(-999.0, np.nan)\n",
    "\n",
    "# learning data\n",
    "X = data.copy()\n",
    "del X['EventId']\n",
    "del X['Weight']\n",
    "del X['Label']\n",
    "y = data['Label']\n",
    "w = data['Weight']"
   ]
  },
  {
   "cell_type": "code",
   "execution_count": 24,
   "metadata": {
    "collapsed": true
   },
   "outputs": [],
   "source": [
    "# handle missing values\n",
    "from sklearn.preprocessing import Imputer\n",
    "\n",
    "# replace missing values with NaN\n",
    "X = X.replace(-999.0, np.nan)\n",
    "\n",
    "# missing_values is the value of your placeholder, strategy is if you'd like mean, median or mode, and axis=0 means it calculates the imputation based on the other feature values for that sample\n",
    "imp = Imputer(missing_values='NaN', strategy='mean', axis=0)\n",
    "imp.fit(X)\n",
    "Imputer(axis=0, copy=True, missing_values='NaN', strategy='mean', verbose=0)\n",
    "missingX = imp.transform(X)"
   ]
  },
  {
   "cell_type": "code",
   "execution_count": 25,
   "metadata": {
    "collapsed": false
   },
   "outputs": [],
   "source": [
    "# scale the data for SVM\n",
    "from sklearn import preprocessing\n",
    "\n",
    "def scale():\n",
    "    scaler = preprocessing.StandardScaler()\n",
    "    missingX_scaled = scaler.fit_transform(missingX)\n",
    "    return missingX_scaled\n",
    "\n",
    "missingX_scaled = scale()"
   ]
  },
  {
   "cell_type": "code",
   "execution_count": 26,
   "metadata": {
    "collapsed": false
   },
   "outputs": [
    {
     "data": {
      "text/plain": [
       "(250000, 72)"
      ]
     },
     "execution_count": 26,
     "metadata": {},
     "output_type": "execute_result"
    }
   ],
   "source": [
    "# testing SVM\n",
    "missingX_scaled.shape"
   ]
  },
  {
   "cell_type": "markdown",
   "metadata": {},
   "source": [
    "## Splitting Training set to real training set and test set"
   ]
  },
  {
   "cell_type": "code",
   "execution_count": 27,
   "metadata": {
    "collapsed": true
   },
   "outputs": [],
   "source": [
    "Xtrain = missingX_scaled[1:225000]\n",
    "Xtest = missingX_scaled[-25000:]\n",
    "ytrain = y[1:225000]\n",
    "ytest = y[-25000:]\n",
    "wtrain = w[1:225000]\n",
    "wtest = w[-25000:]"
   ]
  },
  {
   "cell_type": "code",
   "execution_count": 28,
   "metadata": {
    "collapsed": false
   },
   "outputs": [],
   "source": [
    "# minimal subset for faster learning of SVM.fit\n",
    "Xtrain = missingX_scaled[1:25000]\n",
    "ytrain = y[1:25000]\n",
    "wtrain = w[1:25000]\n",
    "ytrainVals = ytrain.replace(to_replace=['s','b'],value=[1,0])"
   ]
  },
  {
   "cell_type": "markdown",
   "metadata": {},
   "source": [
    "## SVM"
   ]
  },
  {
   "cell_type": "code",
   "execution_count": 29,
   "metadata": {
    "collapsed": true
   },
   "outputs": [],
   "source": [
    "# import\n",
    "from sklearn import svm\n",
    "from sklearn.ensemble import GradientBoostingClassifier as GBC"
   ]
  },
  {
   "cell_type": "code",
   "execution_count": 30,
   "metadata": {
    "collapsed": false
   },
   "outputs": [],
   "source": [
    "C = 1.0 "
   ]
  },
  {
   "cell_type": "code",
   "execution_count": 38,
   "metadata": {
    "collapsed": false
   },
   "outputs": [
    {
     "name": "stdout",
     "output_type": "stream",
     "text": [
      "[LibSVM]"
     ]
    },
    {
     "data": {
      "text/plain": [
       "SVC(C=1.0, cache_size=200, class_weight=None, coef0=0.0,\n",
       "  decision_function_shape=None, degree=3, gamma='auto', kernel='linear',\n",
       "  max_iter=-1, probability=False, random_state=None, shrinking=True,\n",
       "  tol=0.001, verbose=1)"
      ]
     },
     "execution_count": 38,
     "metadata": {},
     "output_type": "execute_result"
    }
   ],
   "source": [
    "# SVM linear\n",
    "clf = svm.SVC(kernel='linear',verbose=1) # probability=True, \n",
    "clf.fit(Xtrain, ytrainVals)"
   ]
  },
  {
   "cell_type": "code",
   "execution_count": 36,
   "metadata": {
    "collapsed": false
   },
   "outputs": [
    {
     "name": "stdout",
     "output_type": "stream",
     "text": [
      "[LibSVM]"
     ]
    },
    {
     "data": {
      "text/plain": [
       "SVC(C=1.0, cache_size=200, class_weight=None, coef0=1.0,\n",
       "  decision_function_shape=None, degree=3, gamma='auto', kernel='poly',\n",
       "  max_iter=-1, probability=False, random_state=None, shrinking=True,\n",
       "  tol=0.001, verbose=1)"
      ]
     },
     "execution_count": 36,
     "metadata": {},
     "output_type": "execute_result"
    }
   ],
   "source": [
    "# SVM polynomial\n",
    "clf = svm.SVC(kernel='poly', degree=3, coef0=1.0,verbose=1)\n",
    "clf.fit(Xtrain, ytrainVals)"
   ]
  },
  {
   "cell_type": "code",
   "execution_count": 31,
   "metadata": {
    "collapsed": false
   },
   "outputs": [
    {
     "name": "stdout",
     "output_type": "stream",
     "text": [
      "[LibSVM]"
     ]
    },
    {
     "data": {
      "text/plain": [
       "SVC(C=1.0, cache_size=200, class_weight=None, coef0=0.0,\n",
       "  decision_function_shape=None, degree=3, gamma='auto', kernel='rbf',\n",
       "  max_iter=-1, probability=False, random_state=None, shrinking=True,\n",
       "  tol=0.001, verbose=1)"
      ]
     },
     "execution_count": 31,
     "metadata": {},
     "output_type": "execute_result"
    }
   ],
   "source": [
    "# SVM RBF\n",
    "clf = svm.SVC(verbose=1)\n",
    "clf.fit(Xtrain, ytrainVals)"
   ]
  },
  {
   "cell_type": "code",
   "execution_count": 34,
   "metadata": {
    "collapsed": false
   },
   "outputs": [
    {
     "name": "stdout",
     "output_type": "stream",
     "text": [
      "[LibSVM]"
     ]
    },
    {
     "data": {
      "text/plain": [
       "SVC(C=1.0, cache_size=200, class_weight=None, coef0=0.0,\n",
       "  decision_function_shape=None, degree=3, gamma='auto', kernel='sigmoid',\n",
       "  max_iter=-1, probability=True, random_state=None, shrinking=True,\n",
       "  tol=0.001, verbose=1)"
      ]
     },
     "execution_count": 34,
     "metadata": {},
     "output_type": "execute_result"
    }
   ],
   "source": [
    "# SVM sigmoid\n",
    "clf = svm.SVC(kernel='sigmoid', probability=True, verbose=1)\n",
    "clf.fit(Xtrain, ytrainVals)"
   ]
  },
  {
   "cell_type": "code",
   "execution_count": 88,
   "metadata": {
    "collapsed": false
   },
   "outputs": [
    {
     "name": "stdout",
     "output_type": "stream",
     "text": [
      "      Iter       Train Loss   Remaining Time \n",
      "         1           1.2128           31.48s\n",
      "         2           1.1659           30.14s\n",
      "         3           1.1184           29.40s\n",
      "         4           1.0764           28.68s\n",
      "         5           1.0441           28.32s\n",
      "         6           1.0134           27.54s\n",
      "         7           0.9870           26.84s\n",
      "         8           0.9666           26.09s\n",
      "         9           0.9436           25.47s\n",
      "        10           0.9248           24.79s\n",
      "        20           0.8184           18.46s\n",
      "        30           0.7757           12.11s\n",
      "        40           0.7536            5.99s\n",
      "        50           0.7396            0.00s\n"
     ]
    },
    {
     "data": {
      "text/plain": [
       "GradientBoostingClassifier(init=None, learning_rate=0.1, loss='deviance',\n",
       "              max_depth=5, max_features=10, max_leaf_nodes=None,\n",
       "              min_samples_leaf=200, min_samples_split=2,\n",
       "              min_weight_fraction_leaf=0.0, n_estimators=50,\n",
       "              presort='auto', random_state=None, subsample=1.0, verbose=1,\n",
       "              warm_start=False)"
      ]
     },
     "execution_count": 88,
     "metadata": {},
     "output_type": "execute_result"
    }
   ],
   "source": [
    "# Gradint Boosting to test WTF is wrong\n",
    "clf = GBC(n_estimators=50, max_depth=5,min_samples_leaf=200,max_features=10,verbose=1)\n",
    "clf.fit(Xtrain,ytrainVals) "
   ]
  },
  {
   "cell_type": "markdown",
   "metadata": {},
   "source": [
    "## Validation"
   ]
  },
  {
   "cell_type": "code",
   "execution_count": 32,
   "metadata": {
    "collapsed": true
   },
   "outputs": [],
   "source": [
    "# compute AMS\n",
    "def ams(s, b):\n",
    "    from math import sqrt,log\n",
    "    if b==0:\n",
    "        return 0\n",
    "\n",
    "    return sqrt(2*((s+b+10)*log(1+float(s)/(b+10))-s))"
   ]
  },
  {
   "cell_type": "code",
   "execution_count": 33,
   "metadata": {
    "collapsed": true
   },
   "outputs": [],
   "source": [
    "# compute all measures\n",
    "def validate(predicted, real, weights):\n",
    "    sumsig = 0.\n",
    "    sumbkg = 0.\n",
    "    tp = 0.\n",
    "    tn = 0.\n",
    "    fp = 0.\n",
    "    fn = 0.\n",
    "    precision = 0.\n",
    "    recall = 0.\n",
    "    acc = 0.\n",
    "    \n",
    "    if (predicted.shape[0] != real.shape[0]):\n",
    "        raise Exception\n",
    "    \n",
    "    for i in range(predicted.shape[0]):\n",
    "        if predicted[i] == \"s\":\n",
    "            if real[i] == \"s\":\n",
    "                sumsig += weights[i]\n",
    "                tp += 1\n",
    "            else:\n",
    "                sumbkg += weights[i]\n",
    "                fp += 1\n",
    "        else:\n",
    "            if real[i] == \"s\":\n",
    "                fn += 1\n",
    "            else:\n",
    "                tn += 1\n",
    "    \n",
    "    print(tp, fp, fn, tn)\n",
    "    \n",
    "    # calculate scores\n",
    "    amsscore = ams(sumsig * 10, sumbkg * 10)\n",
    "    precision = tp / (tp + fp)\n",
    "    recall = tp / (tp + fn)\n",
    "    acc = (tp + tn) / (tp + fp + tn + fn)\n",
    "    f1score = (2 * precision * recall)/(precision + recall)\n",
    "\n",
    "    printScores(tp, tn, fp, fn, precision, recall, acc, f1score, amsscore)\n",
    "    \n",
    "    return amsscore"
   ]
  },
  {
   "cell_type": "code",
   "execution_count": 34,
   "metadata": {
    "collapsed": true
   },
   "outputs": [],
   "source": [
    "def printScores(tp, tn, fp, fn, precision, recall, acc, f1score, amsscore):\n",
    "    all = tp + tn + fp + fn\n",
    "    print(\"TP: \", tp/all)\n",
    "    print(\"TN: \", tn/all)\n",
    "    print(\"FP: \", fp/all)\n",
    "    print(\"FN: \", fn/all)\n",
    "    print(\"Precision: \", precision)\n",
    "    print(\"Recall: \", recall)\n",
    "    print(\"Acc: \", acc)\n",
    "    print(\"F1: \", f1score)\n",
    "    print(\"AMS: \", amsscore)"
   ]
  },
  {
   "cell_type": "code",
   "execution_count": 39,
   "metadata": {
    "collapsed": false
   },
   "outputs": [
    {
     "name": "stdout",
     "output_type": "stream",
     "text": [
      "5029.0 2216.0 3580.0 14175.0\n",
      "TP:  0.20116\n",
      "TN:  0.567\n",
      "FP:  0.08864\n",
      "FN:  0.1432\n",
      "Precision:  0.6941338854382333\n",
      "Recall:  0.5841561156928795\n",
      "Acc:  0.76816\n",
      "F1:  0.6344140280055507\n",
      "AMS:  2.2014912620675777\n"
     ]
    },
    {
     "data": {
      "text/plain": [
       "2.2014912620675777"
      ]
     },
     "execution_count": 39,
     "metadata": {},
     "output_type": "execute_result"
    }
   ],
   "source": [
    "# validation\n",
    "predicted = clf.predict(Xtest)\n",
    "predictedV = pd.Series(predicted).map({1: 's', 0: 'b'})\n",
    "validate(predictedV, np.array(ytest), np.array(wtest))"
   ]
  },
  {
   "cell_type": "markdown",
   "metadata": {},
   "source": [
    "## Explore features with Linear SVM"
   ]
  },
  {
   "cell_type": "code",
   "execution_count": 570,
   "metadata": {
    "collapsed": false
   },
   "outputs": [],
   "source": [
    "def plotWeights():\n",
    "    barX = list(abs(clf.coef_[0]))[30:]\n",
    "    barV = additionalNames\n",
    "    cols = clf.coef_[0].shape[0] - 30\n",
    "    ind = np.arange(cols)\n",
    "    fig = plt.figure(figsize=(10,6)) \n",
    "    ax = fig.add_subplot(111)\n",
    "    rects1 = ax.bar(ind, barX, width=0.6, align='center', color='b')\n",
    "    #plt.yscale('log')\n",
    "    ax.set_xticklabels(barV)\n",
    "    labels = ax.get_xticklabels()\n",
    "    plt.setp(labels, rotation=90, fontsize=9)\n",
    "    plt.xticks(range(cols))\n",
    "    plt.tick_params(\n",
    "        axis='x',          # changes apply to the x-axis\n",
    "        which='both',      # both major and minor ticks are affected\n",
    "        bottom='off',      # ticks along the bottom edge are off\n",
    "        top='off',         # ticks along the top edge are off\n",
    "        labelbottom='on') # labels along the bottom edge are off\n",
    "    #ax.xaxis.set_major_locator(1)\n",
    "    plt.xlim([-1,cols])\n",
    "    plt.ylabel('Utež logistične regresije')\n",
    "    plt.tight_layout()\n",
    "    plt.savefig('svm_weights_miss-sqrt.pdf')"
   ]
  },
  {
   "cell_type": "code",
   "execution_count": 698,
   "metadata": {
    "collapsed": false
   },
   "outputs": [
    {
     "data": {
      "image/png": "[encoded data removed]",
      "text/plain": [
       "<matplotlib.figure.Figure at 0x50a137cc18>"
      ]
     },
     "metadata": {},
     "output_type": "display_data"
    }
   ],
   "source": [
    "plotWeights()"
   ]
  },
  {
   "cell_type": "code",
   "execution_count": 526,
   "metadata": {
    "collapsed": false
   },
   "outputs": [],
   "source": [
    "def selectFeatures(n, threshold):\n",
    "    barX = list(abs(clf.coef_[0]))[n:]\n",
    "    cols = clf.coef_[0].shape[0] - n\n",
    "    names = additionalNames[(n - 30):]\n",
    "    selNames = []\n",
    "    for i in range(cols):\n",
    "        if (barX[i] > threshold):\n",
    "            selNames.append(names[i])\n",
    "    return(selNames)"
   ]
  },
  {
   "cell_type": "code",
   "execution_count": 699,
   "metadata": {
    "collapsed": false
   },
   "outputs": [
    {
     "data": {
      "text/plain": [
       "['$\\\\sqrt{x}$ - PRI_met',\n",
       " '$\\\\log{x}$ - DER_mass_MMC',\n",
       " '$\\\\log{x}$ - DER_prodeta_jet_jet',\n",
       " '$\\\\log{x}$ - PRI_jet_subleading_phi']"
      ]
     },
     "execution_count": 699,
     "metadata": {},
     "output_type": "execute_result"
    }
   ],
   "source": [
    "selectFeatures(40, 1)"
   ]
  },
  {
   "cell_type": "markdown",
   "metadata": {
    "collapsed": true
   },
   "source": [
    "## Explore Features with Logistic Regression"
   ]
  },
  {
   "cell_type": "code",
   "execution_count": 255,
   "metadata": {
    "collapsed": false
   },
   "outputs": [],
   "source": [
    "# imports\n",
    "from sklearn import linear_model"
   ]
  },
  {
   "cell_type": "code",
   "execution_count": 359,
   "metadata": {
    "collapsed": false
   },
   "outputs": [
    {
     "data": {
      "text/plain": [
       "LogisticRegression(C=100000.0, class_weight=None, dual=False,\n",
       "          fit_intercept=True, intercept_scaling=1, max_iter=100,\n",
       "          multi_class='ovr', n_jobs=1, penalty='l2', random_state=None,\n",
       "          solver='liblinear', tol=0.0001, verbose=0, warm_start=False)"
      ]
     },
     "execution_count": 359,
     "metadata": {},
     "output_type": "execute_result"
    }
   ],
   "source": [
    "# model & fit\n",
    "logistic = linear_model.LogisticRegression(C=1e5)\n",
    "logistic.fit(Xtrain, ytrainVals)"
   ]
  },
  {
   "cell_type": "code",
   "execution_count": 360,
   "metadata": {
    "collapsed": false
   },
   "outputs": [
    {
     "name": "stdout",
     "output_type": "stream",
     "text": [
      "5583.0 1987.0 3026.0 14404.0\n",
      "TP:  0.22332\n",
      "TN:  0.57616\n",
      "FP:  0.07948\n",
      "FN:  0.12104\n",
      "Precision:  0.7375165125495377\n",
      "Recall:  0.6485073760018585\n",
      "Acc:  0.79948\n",
      "F1:  0.690153903207862\n",
      "AMS:  2.454486555742746\n"
     ]
    },
    {
     "data": {
      "text/plain": [
       "2.454486555742746"
      ]
     },
     "execution_count": 360,
     "metadata": {},
     "output_type": "execute_result"
    }
   ],
   "source": [
    "# validation\n",
    "predicted = logistic.predict(Xtest)\n",
    "predictedV = pd.Series(predicted).map({1: 's', 0: 'b'})\n",
    "validate(predictedV, np.array(ytest), np.array(wtest))"
   ]
  },
  {
   "cell_type": "code",
   "execution_count": 361,
   "metadata": {
    "collapsed": false
   },
   "outputs": [],
   "source": [
    "def plotWeights():\n",
    "    barX = list(abs(logistic.coef_[0]))[30:]\n",
    "    barV = additionalNames\n",
    "    cols = logistic.coef_[0].shape[0] - 30\n",
    "    ind = np.arange(cols)\n",
    "    fig = plt.figure(figsize=(10,6)) \n",
    "    ax = fig.add_subplot(111)\n",
    "    rects1 = ax.bar(ind, barX, width=0.6, align='center', color='b')\n",
    "    #plt.yscale('log')\n",
    "    ax.set_xticklabels(barV)\n",
    "    labels = ax.get_xticklabels()\n",
    "    plt.setp(labels, rotation=90, fontsize=9)\n",
    "    plt.xticks(range(cols))\n",
    "    plt.tick_params(\n",
    "        axis='x',          # changes apply to the x-axis\n",
    "        which='both',      # both major and minor ticks are affected\n",
    "        bottom='off',      # ticks along the bottom edge are off\n",
    "        top='off',         # ticks along the top edge are off\n",
    "        labelbottom='on') # labels along the bottom edge are off\n",
    "    #ax.xaxis.set_major_locator(1)\n",
    "    plt.xlim([-1,cols])\n",
    "    plt.ylabel('Utež logistične regresije')\n",
    "    plt.tight_layout()\n",
    "    plt.savefig('lr_weights_x3x3.pdf')"
   ]
  },
  {
   "cell_type": "code",
   "execution_count": 362,
   "metadata": {
    "collapsed": false
   },
   "outputs": [
    {
     "data": {
      "image/png": "[encoded data removed]",
      "text/plain": [
       "<matplotlib.figure.Figure at 0x50a14991d0>"
      ]
     },
     "metadata": {},
     "output_type": "display_data"
    }
   ],
   "source": [
    "plotWeights()"
   ]
  },
  {
   "cell_type": "markdown",
   "metadata": {},
   "source": [
    "## Expand Original feature set"
   ]
  },
  {
   "cell_type": "code",
   "execution_count": 42,
   "metadata": {
    "collapsed": true
   },
   "outputs": [],
   "source": [
    "# 1 - take original missingX\n",
    "# 2 - add features based on X and missingX\n",
    "# 3 - perform scaling\n",
    "# 4 - use original code above (make sets + SVM)\n",
    "\n",
    "# remember original missingX\n",
    "originalMissingX = missingX.copy()"
   ]
  },
  {
   "cell_type": "code",
   "execution_count": 43,
   "metadata": {
    "collapsed": false
   },
   "outputs": [],
   "source": [
    "# add missing value information (1 present, 0 missing)\n",
    "# functions\n",
    "def hasNaN(name):\n",
    "    values = list(np.isnan(X[name]).values)\n",
    "    for i in values:\n",
    "        if (i == True):\n",
    "            return True\n",
    "    return False\n",
    "\n",
    "def addMissing():\n",
    "    missX = missingX.copy()\n",
    "    cols = list(X.columns.values)\n",
    "    for col in cols:\n",
    "        if hasNaN(col):\n",
    "            print('Adding additional feature - missing value:', col)\n",
    "            myCol = np.isnan(X[col]).map({True: 1, False: 0})\n",
    "            missX = np.c_[missX, myCol]\n",
    "            additionalNames.append(\"Manjkajoči \" + col)\n",
    "    return(missX)"
   ]
  },
  {
   "cell_type": "code",
   "execution_count": 47,
   "metadata": {
    "collapsed": false
   },
   "outputs": [
    {
     "name": "stdout",
     "output_type": "stream",
     "text": [
      "Adding additional feature - missing value: DER_mass_MMC\n",
      "Adding additional feature - missing value: DER_deltaeta_jet_jet\n",
      "Adding additional feature - missing value: DER_mass_jet_jet\n",
      "Adding additional feature - missing value: DER_prodeta_jet_jet\n",
      "Adding additional feature - missing value: DER_lep_eta_centrality\n",
      "Adding additional feature - missing value: PRI_jet_leading_pt\n",
      "Adding additional feature - missing value: PRI_jet_leading_eta\n",
      "Adding additional feature - missing value: PRI_jet_leading_phi\n",
      "Adding additional feature - missing value: PRI_jet_subleading_pt\n",
      "Adding additional feature - missing value: PRI_jet_subleading_eta\n",
      "Adding additional feature - missing value: PRI_jet_subleading_phi\n"
     ]
    }
   ],
   "source": [
    "missingX = originalMissingX.copy();\n",
    "# add columns with missing number\n",
    "additionalNames = [];\n",
    "missX = addMissing()"
   ]
  },
  {
   "cell_type": "code",
   "execution_count": 757,
   "metadata": {
    "collapsed": true
   },
   "outputs": [],
   "source": [
    "# write to the table\n",
    "missingX = missX.copy()"
   ]
  },
  {
   "cell_type": "code",
   "execution_count": 719,
   "metadata": {
    "collapsed": true
   },
   "outputs": [],
   "source": [
    "def filterMissing(relevantMissing):\n",
    "    missX = missingX.copy()\n",
    "    newAdditionalNames = []\n",
    "    deletedN = 0\n",
    "    for x in additionalNames:\n",
    "        if not (x in relevantMissing):\n",
    "            nIndex = additionalNames.index(x) - deletedN\n",
    "            aIndex = nIndex + 30 # we are keeping original features\n",
    "            print(x)\n",
    "            \n",
    "            # remove column\n",
    "            missX = np.delete(missX, aIndex, 1)\n",
    "            deletedN = deletedN + 1\n",
    "        else:\n",
    "            newAdditionalNames.append(x)\n",
    "                \n",
    "    return(missX, newAdditionalNames)"
   ]
  },
  {
   "cell_type": "code",
   "execution_count": 720,
   "metadata": {
    "collapsed": false
   },
   "outputs": [
    {
     "name": "stdout",
     "output_type": "stream",
     "text": [
      "Manjkajoči DER_deltaeta_jet_jet\n",
      "Manjkajoči DER_mass_jet_jet\n",
      "Manjkajoči DER_prodeta_jet_jet\n",
      "Manjkajoči DER_lep_eta_centrality\n",
      "Manjkajoči PRI_jet_leading_pt\n",
      "Manjkajoči PRI_jet_leading_eta\n",
      "Manjkajoči PRI_jet_leading_phi\n",
      "Manjkajoči PRI_jet_subleading_pt\n",
      "Manjkajoči PRI_jet_subleading_eta\n",
      "Manjkajoči PRI_jet_subleading_phi\n"
     ]
    }
   ],
   "source": [
    "# filter only relevant features\n",
    "relevantMissing = ['Manjkajoči DER_mass_MMC']\n",
    "missingX, additionalNames = filterMissing(relevantMissing)"
   ]
  },
  {
   "cell_type": "code",
   "execution_count": 721,
   "metadata": {
    "collapsed": false
   },
   "outputs": [],
   "source": [
    "# add columns with x^2\n",
    "def x2kernel(x):\n",
    "    return(x*x)"
   ]
  },
  {
   "cell_type": "code",
   "execution_count": 722,
   "metadata": {
    "collapsed": false
   },
   "outputs": [],
   "source": [
    "def addOneX(name, kernel):\n",
    "    missX = missingX.copy()\n",
    "    cols = list(X.columns.values)\n",
    "    i = 0\n",
    "    for col in cols:\n",
    "        myCol = kernel(missingX[:,i])\n",
    "        print(name + ' ' + col)\n",
    "        missX = np.c_[missX, myCol]\n",
    "        additionalNames.append(name + \" - \" + col)\n",
    "        i = i + 1\n",
    "    return(missX)\n",
    "\n",
    "def addOneXNormalized(name, kernel):\n",
    "    missX = missingX.copy()\n",
    "    cols = list(X.columns.values)\n",
    "    i = 0\n",
    "    for col in cols:\n",
    "        myCol = kernel(missingX_scaled[:,i])\n",
    "        print(name + ' ' + col)\n",
    "        missX = np.c_[missX, myCol]\n",
    "        additionalNames.append(name + \" - \" + col)\n",
    "        i = i + 1\n",
    "    return(missX)"
   ]
  },
  {
   "cell_type": "code",
   "execution_count": 758,
   "metadata": {
    "collapsed": false
   },
   "outputs": [
    {
     "name": "stdout",
     "output_type": "stream",
     "text": [
      "$x^2$ DER_mass_MMC\n",
      "$x^2$ DER_mass_transverse_met_lep\n",
      "$x^2$ DER_mass_vis\n",
      "$x^2$ DER_pt_h\n",
      "$x^2$ DER_deltaeta_jet_jet\n",
      "$x^2$ DER_mass_jet_jet\n",
      "$x^2$ DER_prodeta_jet_jet\n",
      "$x^2$ DER_deltar_tau_lep\n",
      "$x^2$ DER_pt_tot\n",
      "$x^2$ DER_sum_pt\n",
      "$x^2$ DER_pt_ratio_lep_tau\n",
      "$x^2$ DER_met_phi_centrality\n",
      "$x^2$ DER_lep_eta_centrality\n",
      "$x^2$ PRI_tau_pt\n",
      "$x^2$ PRI_tau_eta\n",
      "$x^2$ PRI_tau_phi\n",
      "$x^2$ PRI_lep_pt\n",
      "$x^2$ PRI_lep_eta\n",
      "$x^2$ PRI_lep_phi\n",
      "$x^2$ PRI_met\n",
      "$x^2$ PRI_met_phi\n",
      "$x^2$ PRI_met_sumet\n",
      "$x^2$ PRI_jet_num\n",
      "$x^2$ PRI_jet_leading_pt\n",
      "$x^2$ PRI_jet_leading_eta\n",
      "$x^2$ PRI_jet_leading_phi\n",
      "$x^2$ PRI_jet_subleading_pt\n",
      "$x^2$ PRI_jet_subleading_eta\n",
      "$x^2$ PRI_jet_subleading_phi\n",
      "$x^2$ PRI_jet_all_pt\n"
     ]
    }
   ],
   "source": [
    "missX = addOneX('$x^2$', x2kernel)"
   ]
  },
  {
   "cell_type": "code",
   "execution_count": 759,
   "metadata": {
    "collapsed": false
   },
   "outputs": [],
   "source": [
    "missingX = missX.copy()"
   ]
  },
  {
   "cell_type": "code",
   "execution_count": 725,
   "metadata": {
    "collapsed": false
   },
   "outputs": [
    {
     "name": "stdout",
     "output_type": "stream",
     "text": [
      "$x^2$ - DER_mass_transverse_met_lep\n",
      "$x^2$ - DER_pt_h\n",
      "$x^2$ - DER_deltaeta_jet_jet\n",
      "$x^2$ - DER_mass_jet_jet\n",
      "$x^2$ - DER_prodeta_jet_jet\n",
      "$x^2$ - DER_sum_pt\n",
      "$x^2$ - DER_pt_ratio_lep_tau\n",
      "$x^2$ - DER_met_phi_centrality\n",
      "$x^2$ - DER_lep_eta_centrality\n",
      "$x^2$ - PRI_tau_pt\n",
      "$x^2$ - PRI_tau_eta\n",
      "$x^2$ - PRI_tau_phi\n",
      "$x^2$ - PRI_lep_pt\n",
      "$x^2$ - PRI_lep_eta\n",
      "$x^2$ - PRI_lep_phi\n",
      "$x^2$ - PRI_met_phi\n",
      "$x^2$ - PRI_met_sumet\n",
      "$x^2$ - PRI_jet_num\n",
      "$x^2$ - PRI_jet_leading_pt\n",
      "$x^2$ - PRI_jet_leading_eta\n",
      "$x^2$ - PRI_jet_leading_phi\n",
      "$x^2$ - PRI_jet_subleading_pt\n",
      "$x^2$ - PRI_jet_subleading_eta\n",
      "$x^2$ - PRI_jet_subleading_phi\n",
      "$x^2$ - PRI_jet_all_pt\n"
     ]
    }
   ],
   "source": [
    "# filter only relevant features\n",
    "relevantMissing = relevantMissing + ['$x^2$ - DER_mass_MMC',\n",
    " '$x^2$ - DER_mass_vis',\n",
    " '$x^2$ - DER_deltar_tau_lep',\n",
    " '$x^2$ - DER_pt_tot',\n",
    " '$x^2$ - PRI_met']\n",
    "missingX, additionalNames = filterMissing(relevantMissing)"
   ]
  },
  {
   "cell_type": "code",
   "execution_count": 760,
   "metadata": {
    "collapsed": false
   },
   "outputs": [
    {
     "name": "stdout",
     "output_type": "stream",
     "text": [
      "$x^3$ DER_mass_MMC\n",
      "$x^3$ DER_mass_transverse_met_lep\n",
      "$x^3$ DER_mass_vis\n",
      "$x^3$ DER_pt_h\n",
      "$x^3$ DER_deltaeta_jet_jet\n",
      "$x^3$ DER_mass_jet_jet\n",
      "$x^3$ DER_prodeta_jet_jet\n",
      "$x^3$ DER_deltar_tau_lep\n",
      "$x^3$ DER_pt_tot\n",
      "$x^3$ DER_sum_pt\n",
      "$x^3$ DER_pt_ratio_lep_tau\n",
      "$x^3$ DER_met_phi_centrality\n",
      "$x^3$ DER_lep_eta_centrality\n",
      "$x^3$ PRI_tau_pt\n",
      "$x^3$ PRI_tau_eta\n",
      "$x^3$ PRI_tau_phi\n",
      "$x^3$ PRI_lep_pt\n",
      "$x^3$ PRI_lep_eta\n",
      "$x^3$ PRI_lep_phi\n",
      "$x^3$ PRI_met\n",
      "$x^3$ PRI_met_phi\n",
      "$x^3$ PRI_met_sumet\n",
      "$x^3$ PRI_jet_num\n",
      "$x^3$ PRI_jet_leading_pt\n",
      "$x^3$ PRI_jet_leading_eta\n",
      "$x^3$ PRI_jet_leading_phi\n",
      "$x^3$ PRI_jet_subleading_pt\n",
      "$x^3$ PRI_jet_subleading_eta\n",
      "$x^3$ PRI_jet_subleading_phi\n",
      "$x^3$ PRI_jet_all_pt\n"
     ]
    }
   ],
   "source": [
    "# add columns with x^3\n",
    "def x3kernel(x):\n",
    "    return(x*x*x)\n",
    "missX = addOneX('$x^3$', x3kernel)"
   ]
  },
  {
   "cell_type": "code",
   "execution_count": 761,
   "metadata": {
    "collapsed": true
   },
   "outputs": [],
   "source": [
    "missingX = missX.copy()"
   ]
  },
  {
   "cell_type": "code",
   "execution_count": 674,
   "metadata": {
    "collapsed": false
   },
   "outputs": [
    {
     "name": "stdout",
     "output_type": "stream",
     "text": [
      "$x^3$ - DER_mass_transverse_met_lep\n",
      "$x^3$ - DER_pt_h\n",
      "$x^3$ - DER_deltaeta_jet_jet\n",
      "$x^3$ - DER_mass_jet_jet\n",
      "$x^3$ - DER_prodeta_jet_jet\n",
      "$x^3$ - DER_pt_tot\n",
      "$x^3$ - DER_sum_pt\n",
      "$x^3$ - DER_pt_ratio_lep_tau\n",
      "$x^3$ - DER_met_phi_centrality\n",
      "$x^3$ - DER_lep_eta_centrality\n",
      "$x^3$ - PRI_tau_pt\n",
      "$x^3$ - PRI_tau_eta\n",
      "$x^3$ - PRI_tau_phi\n",
      "$x^3$ - PRI_lep_pt\n",
      "$x^3$ - PRI_lep_eta\n",
      "$x^3$ - PRI_lep_phi\n",
      "$x^3$ - PRI_met_phi\n",
      "$x^3$ - PRI_met_sumet\n",
      "$x^3$ - PRI_jet_num\n",
      "$x^3$ - PRI_jet_leading_pt\n",
      "$x^3$ - PRI_jet_leading_eta\n",
      "$x^3$ - PRI_jet_leading_phi\n",
      "$x^3$ - PRI_jet_subleading_pt\n",
      "$x^3$ - PRI_jet_subleading_eta\n",
      "$x^3$ - PRI_jet_subleading_phi\n",
      "$x^3$ - PRI_jet_all_pt\n"
     ]
    }
   ],
   "source": [
    "# filter only relevant features\n",
    "relevantMissing = relevantMissing + ['$x^3$ - DER_mass_MMC',\n",
    " '$x^3$ - DER_mass_vis',\n",
    " '$x^3$ - DER_deltar_tau_lep',\n",
    " '$x^3$ - PRI_met']\n",
    "missingX, additionalNames = filterMissing(relevantMissing)\n"
   ]
  },
  {
   "cell_type": "code",
   "execution_count": 762,
   "metadata": {
    "collapsed": false
   },
   "outputs": [
    {
     "name": "stdout",
     "output_type": "stream",
     "text": [
      "$e^x$ DER_mass_MMC\n",
      "$e^x$ DER_mass_transverse_met_lep\n",
      "$e^x$ DER_mass_vis\n",
      "$e^x$ DER_pt_h\n",
      "$e^x$ DER_deltaeta_jet_jet\n",
      "$e^x$ DER_mass_jet_jet\n",
      "$e^x$ DER_prodeta_jet_jet\n",
      "$e^x$ DER_deltar_tau_lep\n",
      "$e^x$ DER_pt_tot\n",
      "$e^x$ DER_sum_pt\n",
      "$e^x$ DER_pt_ratio_lep_tau\n",
      "$e^x$ DER_met_phi_centrality\n",
      "$e^x$ DER_lep_eta_centrality\n",
      "$e^x$ PRI_tau_pt\n",
      "$e^x$ PRI_tau_eta\n",
      "$e^x$ PRI_tau_phi\n",
      "$e^x$ PRI_lep_pt\n",
      "$e^x$ PRI_lep_eta\n",
      "$e^x$ PRI_lep_phi\n",
      "$e^x$ PRI_met\n",
      "$e^x$ PRI_met_phi\n",
      "$e^x$ PRI_met_sumet\n",
      "$e^x$ PRI_jet_num\n",
      "$e^x$ PRI_jet_leading_pt\n",
      "$e^x$ PRI_jet_leading_eta\n",
      "$e^x$ PRI_jet_leading_phi\n",
      "$e^x$ PRI_jet_subleading_pt\n",
      "$e^x$ PRI_jet_subleading_eta\n",
      "$e^x$ PRI_jet_subleading_phi\n",
      "$e^x$ PRI_jet_all_pt\n"
     ]
    }
   ],
   "source": [
    "# add columns with e^x\n",
    "def exkernel(x):\n",
    "    return(np.exp(x))\n",
    "missX = addOneXNormalized('$e^x$', exkernel)"
   ]
  },
  {
   "cell_type": "code",
   "execution_count": 763,
   "metadata": {
    "collapsed": false
   },
   "outputs": [],
   "source": [
    "missingX = missX.copy()"
   ]
  },
  {
   "cell_type": "code",
   "execution_count": 728,
   "metadata": {
    "collapsed": false
   },
   "outputs": [
    {
     "name": "stdout",
     "output_type": "stream",
     "text": [
      "$e^x$ - DER_mass_MMC\n",
      "$e^x$ - DER_mass_transverse_met_lep\n",
      "$e^x$ - DER_mass_vis\n",
      "$e^x$ - DER_pt_h\n",
      "$e^x$ - DER_deltaeta_jet_jet\n",
      "$e^x$ - DER_mass_jet_jet\n",
      "$e^x$ - DER_prodeta_jet_jet\n",
      "$e^x$ - DER_deltar_tau_lep\n",
      "$e^x$ - DER_pt_tot\n",
      "$e^x$ - DER_pt_ratio_lep_tau\n",
      "$e^x$ - DER_met_phi_centrality\n",
      "$e^x$ - DER_lep_eta_centrality\n",
      "$e^x$ - PRI_tau_pt\n",
      "$e^x$ - PRI_tau_eta\n",
      "$e^x$ - PRI_tau_phi\n",
      "$e^x$ - PRI_lep_pt\n",
      "$e^x$ - PRI_lep_eta\n",
      "$e^x$ - PRI_lep_phi\n",
      "$e^x$ - PRI_met\n",
      "$e^x$ - PRI_met_phi\n",
      "$e^x$ - PRI_jet_num\n",
      "$e^x$ - PRI_jet_leading_pt\n",
      "$e^x$ - PRI_jet_leading_eta\n",
      "$e^x$ - PRI_jet_leading_phi\n",
      "$e^x$ - PRI_jet_subleading_pt\n",
      "$e^x$ - PRI_jet_subleading_eta\n",
      "$e^x$ - PRI_jet_subleading_phi\n",
      "$e^x$ - PRI_jet_all_pt\n"
     ]
    }
   ],
   "source": [
    "# filter only relevant features\n",
    "relevantMissing = relevantMissing + ['$e^x$ - DER_sum_pt', '$e^x$ - PRI_met_sumet']\n",
    "missingX, additionalNames = filterMissing(relevantMissing)"
   ]
  },
  {
   "cell_type": "code",
   "execution_count": 764,
   "metadata": {
    "collapsed": false
   },
   "outputs": [
    {
     "name": "stdout",
     "output_type": "stream",
     "text": [
      "$\\sqrt{x}$ DER_mass_MMC\n",
      "$\\sqrt{x}$ DER_mass_transverse_met_lep\n",
      "$\\sqrt{x}$ DER_mass_vis\n",
      "$\\sqrt{x}$ DER_pt_h\n",
      "$\\sqrt{x}$ DER_deltaeta_jet_jet\n",
      "$\\sqrt{x}$ DER_mass_jet_jet\n",
      "$\\sqrt{x}$ DER_prodeta_jet_jet\n",
      "$\\sqrt{x}$ DER_deltar_tau_lep\n",
      "$\\sqrt{x}$ DER_pt_tot\n",
      "$\\sqrt{x}$ DER_sum_pt\n",
      "$\\sqrt{x}$ DER_pt_ratio_lep_tau\n",
      "$\\sqrt{x}$ DER_met_phi_centrality\n",
      "$\\sqrt{x}$ DER_lep_eta_centrality\n",
      "$\\sqrt{x}$ PRI_tau_pt\n",
      "$\\sqrt{x}$ PRI_tau_eta\n",
      "$\\sqrt{x}$ PRI_tau_phi\n",
      "$\\sqrt{x}$ PRI_lep_pt\n",
      "$\\sqrt{x}$ PRI_lep_eta\n",
      "$\\sqrt{x}$ PRI_lep_phi\n",
      "$\\sqrt{x}$ PRI_met\n",
      "$\\sqrt{x}$ PRI_met_phi\n",
      "$\\sqrt{x}$ PRI_met_sumet\n",
      "$\\sqrt{x}$ PRI_jet_num\n",
      "$\\sqrt{x}$ PRI_jet_leading_pt\n",
      "$\\sqrt{x}$ PRI_jet_leading_eta\n",
      "$\\sqrt{x}$ PRI_jet_leading_phi\n",
      "$\\sqrt{x}$ PRI_jet_subleading_pt\n",
      "$\\sqrt{x}$ PRI_jet_subleading_eta\n",
      "$\\sqrt{x}$ PRI_jet_subleading_phi\n",
      "$\\sqrt{x}$ PRI_jet_all_pt\n"
     ]
    }
   ],
   "source": [
    "# add columns with sqrt(x)\n",
    "def sqrtkernel(x):\n",
    "    xArray = []\n",
    "    for val in x:\n",
    "        if (val > 0):\n",
    "            xArray.append(np.sqrt(val))\n",
    "        else:\n",
    "            xArray.append(-np.sqrt(-val))\n",
    "    return xArray;\n",
    "missX = addOneX('$\\sqrt{x}$', sqrtkernel)"
   ]
  },
  {
   "cell_type": "code",
   "execution_count": 765,
   "metadata": {
    "collapsed": true
   },
   "outputs": [],
   "source": [
    "missingX = missX.copy()"
   ]
  },
  {
   "cell_type": "code",
   "execution_count": 731,
   "metadata": {
    "collapsed": false
   },
   "outputs": [
    {
     "name": "stdout",
     "output_type": "stream",
     "text": [
      "$\\sqrt{x}$ - DER_mass_transverse_met_lep\n",
      "$\\sqrt{x}$ - DER_pt_h\n",
      "$\\sqrt{x}$ - DER_deltaeta_jet_jet\n",
      "$\\sqrt{x}$ - DER_mass_jet_jet\n",
      "$\\sqrt{x}$ - DER_prodeta_jet_jet\n",
      "$\\sqrt{x}$ - DER_pt_tot\n",
      "$\\sqrt{x}$ - DER_sum_pt\n",
      "$\\sqrt{x}$ - DER_met_phi_centrality\n",
      "$\\sqrt{x}$ - DER_lep_eta_centrality\n",
      "$\\sqrt{x}$ - PRI_tau_pt\n",
      "$\\sqrt{x}$ - PRI_tau_eta\n",
      "$\\sqrt{x}$ - PRI_tau_phi\n",
      "$\\sqrt{x}$ - PRI_lep_pt\n",
      "$\\sqrt{x}$ - PRI_lep_eta\n",
      "$\\sqrt{x}$ - PRI_lep_phi\n",
      "$\\sqrt{x}$ - PRI_met_phi\n",
      "$\\sqrt{x}$ - PRI_met_sumet\n",
      "$\\sqrt{x}$ - PRI_jet_num\n",
      "$\\sqrt{x}$ - PRI_jet_leading_pt\n",
      "$\\sqrt{x}$ - PRI_jet_leading_eta\n",
      "$\\sqrt{x}$ - PRI_jet_leading_phi\n",
      "$\\sqrt{x}$ - PRI_jet_subleading_pt\n",
      "$\\sqrt{x}$ - PRI_jet_subleading_eta\n",
      "$\\sqrt{x}$ - PRI_jet_subleading_phi\n",
      "$\\sqrt{x}$ - PRI_jet_all_pt\n"
     ]
    }
   ],
   "source": [
    "# filter only relevant features\n",
    "relevantMissing = relevantMissing + ['$\\\\sqrt{x}$ - DER_mass_MMC',\n",
    " '$\\\\sqrt{x}$ - DER_mass_vis',\n",
    " '$\\\\sqrt{x}$ - DER_deltar_tau_lep',\n",
    " '$\\\\sqrt{x}$ - DER_pt_ratio_lep_tau',\n",
    " '$\\\\sqrt{x}$ - PRI_met']\n",
    "missingX, additionalNames = filterMissing(relevantMissing)"
   ]
  },
  {
   "cell_type": "code",
   "execution_count": 766,
   "metadata": {
    "collapsed": false
   },
   "outputs": [
    {
     "name": "stdout",
     "output_type": "stream",
     "text": [
      "$\\log{x}$ DER_mass_MMC\n",
      "$\\log{x}$ DER_mass_transverse_met_lep\n",
      "$\\log{x}$ DER_mass_vis\n",
      "$\\log{x}$ DER_pt_h\n",
      "$\\log{x}$ DER_deltaeta_jet_jet\n",
      "$\\log{x}$ DER_mass_jet_jet\n",
      "$\\log{x}$ DER_prodeta_jet_jet\n",
      "$\\log{x}$ DER_deltar_tau_lep\n",
      "$\\log{x}$ DER_pt_tot\n",
      "$\\log{x}$ DER_sum_pt\n",
      "$\\log{x}$ DER_pt_ratio_lep_tau\n",
      "$\\log{x}$ DER_met_phi_centrality\n",
      "$\\log{x}$ DER_lep_eta_centrality\n",
      "$\\log{x}$ PRI_tau_pt\n",
      "$\\log{x}$ PRI_tau_eta\n",
      "$\\log{x}$ PRI_tau_phi\n",
      "$\\log{x}$ PRI_lep_pt\n",
      "$\\log{x}$ PRI_lep_eta\n",
      "$\\log{x}$ PRI_lep_phi\n",
      "$\\log{x}$ PRI_met\n",
      "$\\log{x}$ PRI_met_phi\n",
      "$\\log{x}$ PRI_met_sumet\n",
      "$\\log{x}$ PRI_jet_num\n",
      "$\\log{x}$ PRI_jet_leading_pt\n",
      "$\\log{x}$ PRI_jet_leading_eta\n",
      "$\\log{x}$ PRI_jet_leading_phi\n",
      "$\\log{x}$ PRI_jet_subleading_pt\n",
      "$\\log{x}$ PRI_jet_subleading_eta\n",
      "$\\log{x}$ PRI_jet_subleading_phi\n",
      "$\\log{x}$ PRI_jet_all_pt\n"
     ]
    }
   ],
   "source": [
    "# add columns with log(x)\n",
    "def logkernel(x):\n",
    "    xArray = []\n",
    "    for val in x:\n",
    "        if (val > 0):\n",
    "            xArray.append(np.log(val))\n",
    "        elif (val == 0):\n",
    "            xArray.append(0.0)\n",
    "        else:\n",
    "            xArray.append(-np.log(-val))\n",
    "    return xArray;\n",
    "missX = addOneX('$\\log{x}$', logkernel)"
   ]
  },
  {
   "cell_type": "code",
   "execution_count": 767,
   "metadata": {
    "collapsed": true
   },
   "outputs": [],
   "source": [
    "missingX = missX.copy()"
   ]
  },
  {
   "cell_type": "code",
   "execution_count": 700,
   "metadata": {
    "collapsed": false
   },
   "outputs": [
    {
     "name": "stdout",
     "output_type": "stream",
     "text": [
      "$\\log{x}$ - DER_mass_transverse_met_lep\n",
      "$\\log{x}$ - DER_mass_vis\n",
      "$\\log{x}$ - DER_pt_h\n",
      "$\\log{x}$ - DER_deltaeta_jet_jet\n",
      "$\\log{x}$ - DER_mass_jet_jet\n",
      "$\\log{x}$ - DER_deltar_tau_lep\n",
      "$\\log{x}$ - DER_pt_tot\n",
      "$\\log{x}$ - DER_sum_pt\n",
      "$\\log{x}$ - DER_pt_ratio_lep_tau\n",
      "$\\log{x}$ - DER_met_phi_centrality\n",
      "$\\log{x}$ - DER_lep_eta_centrality\n",
      "$\\log{x}$ - PRI_tau_pt\n",
      "$\\log{x}$ - PRI_tau_eta\n",
      "$\\log{x}$ - PRI_tau_phi\n",
      "$\\log{x}$ - PRI_lep_pt\n",
      "$\\log{x}$ - PRI_lep_eta\n",
      "$\\log{x}$ - PRI_lep_phi\n",
      "$\\log{x}$ - PRI_met\n",
      "$\\log{x}$ - PRI_met_phi\n",
      "$\\log{x}$ - PRI_met_sumet\n",
      "$\\log{x}$ - PRI_jet_num\n",
      "$\\log{x}$ - PRI_jet_leading_pt\n",
      "$\\log{x}$ - PRI_jet_leading_eta\n",
      "$\\log{x}$ - PRI_jet_leading_phi\n",
      "$\\log{x}$ - PRI_jet_subleading_pt\n",
      "$\\log{x}$ - PRI_jet_subleading_eta\n",
      "$\\log{x}$ - PRI_jet_all_pt\n"
     ]
    },
    {
     "ename": "IndexError",
     "evalue": "index 51 is out of bounds for axis 1 with size 51",
     "output_type": "error",
     "traceback": [
      "\u001b[1;31m---------------------------------------------------------------------------\u001b[0m",
      "\u001b[1;31mIndexError\u001b[0m                                Traceback (most recent call last)",
      "\u001b[1;32m<ipython-input-700-ef40b0cc9917>\u001b[0m in \u001b[0;36m<module>\u001b[1;34m()\u001b[0m\n\u001b[0;32m      3\u001b[0m  \u001b[1;34m'$\\\\log{x}$ - DER_prodeta_jet_jet'\u001b[0m\u001b[1;33m,\u001b[0m\u001b[1;33m\u001b[0m\u001b[0m\n\u001b[0;32m      4\u001b[0m  '$\\\\log{x}$ - PRI_jet_subleading_phi']\n\u001b[1;32m----> 5\u001b[1;33m \u001b[0mmissingX\u001b[0m\u001b[1;33m,\u001b[0m \u001b[0madditionalNames\u001b[0m \u001b[1;33m=\u001b[0m \u001b[0mfilterMissing\u001b[0m\u001b[1;33m(\u001b[0m\u001b[0mrelevantMissing\u001b[0m\u001b[1;33m)\u001b[0m\u001b[1;33m\u001b[0m\u001b[0m\n\u001b[0m",
      "\u001b[1;32m<ipython-input-665-77d716917716>\u001b[0m in \u001b[0;36mfilterMissing\u001b[1;34m(relevantMissing)\u001b[0m\n\u001b[0;32m     10\u001b[0m \u001b[1;33m\u001b[0m\u001b[0m\n\u001b[0;32m     11\u001b[0m             \u001b[1;31m# remove column\u001b[0m\u001b[1;33m\u001b[0m\u001b[1;33m\u001b[0m\u001b[0m\n\u001b[1;32m---> 12\u001b[1;33m             \u001b[0mmissX\u001b[0m \u001b[1;33m=\u001b[0m \u001b[0mnp\u001b[0m\u001b[1;33m.\u001b[0m\u001b[0mdelete\u001b[0m\u001b[1;33m(\u001b[0m\u001b[0mmissX\u001b[0m\u001b[1;33m,\u001b[0m \u001b[0maIndex\u001b[0m\u001b[1;33m,\u001b[0m \u001b[1;36m1\u001b[0m\u001b[1;33m)\u001b[0m\u001b[1;33m\u001b[0m\u001b[0m\n\u001b[0m\u001b[0;32m     13\u001b[0m             \u001b[0mdeletedN\u001b[0m \u001b[1;33m=\u001b[0m \u001b[0mdeletedN\u001b[0m \u001b[1;33m+\u001b[0m \u001b[1;36m1\u001b[0m\u001b[1;33m\u001b[0m\u001b[0m\n\u001b[0;32m     14\u001b[0m         \u001b[1;32melse\u001b[0m\u001b[1;33m:\u001b[0m\u001b[1;33m\u001b[0m\u001b[0m\n",
      "\u001b[1;32mC:\\Users\\kkenda\\Programs\\Anaconda3\\lib\\site-packages\\numpy\\lib\\function_base.py\u001b[0m in \u001b[0;36mdelete\u001b[1;34m(arr, obj, axis)\u001b[0m\n\u001b[0;32m   3836\u001b[0m             raise IndexError(\n\u001b[0;32m   3837\u001b[0m                 \u001b[1;34m\"index %i is out of bounds for axis %i with \"\u001b[0m\u001b[1;33m\u001b[0m\u001b[0m\n\u001b[1;32m-> 3838\u001b[1;33m                 \"size %i\" % (obj, axis, N))\n\u001b[0m\u001b[0;32m   3839\u001b[0m         \u001b[1;32mif\u001b[0m \u001b[1;33m(\u001b[0m\u001b[0mobj\u001b[0m \u001b[1;33m<\u001b[0m \u001b[1;36m0\u001b[0m\u001b[1;33m)\u001b[0m\u001b[1;33m:\u001b[0m\u001b[1;33m\u001b[0m\u001b[0m\n\u001b[0;32m   3840\u001b[0m             \u001b[0mobj\u001b[0m \u001b[1;33m+=\u001b[0m \u001b[0mN\u001b[0m\u001b[1;33m\u001b[0m\u001b[0m\n",
      "\u001b[1;31mIndexError\u001b[0m: index 51 is out of bounds for axis 1 with size 51"
     ]
    }
   ],
   "source": [
    "# filter only relevant features\n",
    "relevantMissing = relevantMissing + ['$\\\\log{x}$ - DER_mass_MMC',\n",
    " '$\\\\log{x}$ - DER_prodeta_jet_jet',\n",
    " '$\\\\log{x}$ - PRI_jet_subleading_phi']\n",
    "missingX, additionalNames = filterMissing(relevantMissing)"
   ]
  },
  {
   "cell_type": "code",
   "execution_count": 48,
   "metadata": {
    "collapsed": true
   },
   "outputs": [],
   "source": [
    "def addTwoX(name, kernel):\n",
    "    missX = missingX.copy()\n",
    "    cols = list(X.columns.values)\n",
    "    colsN = X.columns.values.shape[0]\n",
    "    i = 0\n",
    "    for i in range(colsN):\n",
    "        for j in range(i):\n",
    "            name1 = cols[i]\n",
    "            name2 = cols[j]\n",
    "            colsName = name1 + '-' + name2\n",
    "            print(name + ' ' + colsName)\n",
    "            col1 = missingX_scaled[:,i]\n",
    "            col2 = missingX_scaled[:,j]\n",
    "            myCol = col1 * col2\n",
    "            missX = np.c_[missX, myCol]\n",
    "            additionalNames.append(name + \" - \" + colsName)            \n",
    "    return(missX)\n",
    "\n",
    "def dMultiKernel(x1, x2):\n",
    "    return x1 * x2;"
   ]
  },
  {
   "cell_type": "code",
   "execution_count": 50,
   "metadata": {
    "collapsed": false
   },
   "outputs": [
    {
     "name": "stdout",
     "output_type": "stream",
     "text": [
      "Multi DER_mass_transverse_met_lep-DER_mass_MMC\n",
      "Multi DER_mass_vis-DER_mass_MMC\n",
      "Multi DER_mass_vis-DER_mass_transverse_met_lep\n",
      "Multi DER_pt_h-DER_mass_MMC\n",
      "Multi DER_pt_h-DER_mass_transverse_met_lep\n",
      "Multi DER_pt_h-DER_mass_vis\n",
      "Multi DER_deltaeta_jet_jet-DER_mass_MMC\n",
      "Multi DER_deltaeta_jet_jet-DER_mass_transverse_met_lep\n",
      "Multi DER_deltaeta_jet_jet-DER_mass_vis\n",
      "Multi DER_deltaeta_jet_jet-DER_pt_h\n",
      "Multi DER_mass_jet_jet-DER_mass_MMC\n",
      "Multi DER_mass_jet_jet-DER_mass_transverse_met_lep\n",
      "Multi DER_mass_jet_jet-DER_mass_vis\n",
      "Multi DER_mass_jet_jet-DER_pt_h\n",
      "Multi DER_mass_jet_jet-DER_deltaeta_jet_jet\n",
      "Multi DER_prodeta_jet_jet-DER_mass_MMC\n",
      "Multi DER_prodeta_jet_jet-DER_mass_transverse_met_lep\n",
      "Multi DER_prodeta_jet_jet-DER_mass_vis\n",
      "Multi DER_prodeta_jet_jet-DER_pt_h\n",
      "Multi DER_prodeta_jet_jet-DER_deltaeta_jet_jet\n",
      "Multi DER_prodeta_jet_jet-DER_mass_jet_jet\n",
      "Multi DER_deltar_tau_lep-DER_mass_MMC\n",
      "Multi DER_deltar_tau_lep-DER_mass_transverse_met_lep\n",
      "Multi DER_deltar_tau_lep-DER_mass_vis\n",
      "Multi DER_deltar_tau_lep-DER_pt_h\n",
      "Multi DER_deltar_tau_lep-DER_deltaeta_jet_jet\n",
      "Multi DER_deltar_tau_lep-DER_mass_jet_jet\n",
      "Multi DER_deltar_tau_lep-DER_prodeta_jet_jet\n",
      "Multi DER_pt_tot-DER_mass_MMC\n",
      "Multi DER_pt_tot-DER_mass_transverse_met_lep\n",
      "Multi DER_pt_tot-DER_mass_vis\n",
      "Multi DER_pt_tot-DER_pt_h\n",
      "Multi DER_pt_tot-DER_deltaeta_jet_jet\n",
      "Multi DER_pt_tot-DER_mass_jet_jet\n",
      "Multi DER_pt_tot-DER_prodeta_jet_jet\n",
      "Multi DER_pt_tot-DER_deltar_tau_lep\n",
      "Multi DER_sum_pt-DER_mass_MMC\n",
      "Multi DER_sum_pt-DER_mass_transverse_met_lep\n",
      "Multi DER_sum_pt-DER_mass_vis\n",
      "Multi DER_sum_pt-DER_pt_h\n",
      "Multi DER_sum_pt-DER_deltaeta_jet_jet\n",
      "Multi DER_sum_pt-DER_mass_jet_jet\n",
      "Multi DER_sum_pt-DER_prodeta_jet_jet\n",
      "Multi DER_sum_pt-DER_deltar_tau_lep\n",
      "Multi DER_sum_pt-DER_pt_tot\n",
      "Multi DER_pt_ratio_lep_tau-DER_mass_MMC\n",
      "Multi DER_pt_ratio_lep_tau-DER_mass_transverse_met_lep\n",
      "Multi DER_pt_ratio_lep_tau-DER_mass_vis\n",
      "Multi DER_pt_ratio_lep_tau-DER_pt_h\n",
      "Multi DER_pt_ratio_lep_tau-DER_deltaeta_jet_jet\n",
      "Multi DER_pt_ratio_lep_tau-DER_mass_jet_jet\n",
      "Multi DER_pt_ratio_lep_tau-DER_prodeta_jet_jet\n",
      "Multi DER_pt_ratio_lep_tau-DER_deltar_tau_lep\n",
      "Multi DER_pt_ratio_lep_tau-DER_pt_tot\n",
      "Multi DER_pt_ratio_lep_tau-DER_sum_pt\n",
      "Multi DER_met_phi_centrality-DER_mass_MMC\n",
      "Multi DER_met_phi_centrality-DER_mass_transverse_met_lep\n",
      "Multi DER_met_phi_centrality-DER_mass_vis\n",
      "Multi DER_met_phi_centrality-DER_pt_h\n",
      "Multi DER_met_phi_centrality-DER_deltaeta_jet_jet\n",
      "Multi DER_met_phi_centrality-DER_mass_jet_jet\n",
      "Multi DER_met_phi_centrality-DER_prodeta_jet_jet\n",
      "Multi DER_met_phi_centrality-DER_deltar_tau_lep\n",
      "Multi DER_met_phi_centrality-DER_pt_tot\n",
      "Multi DER_met_phi_centrality-DER_sum_pt\n",
      "Multi DER_met_phi_centrality-DER_pt_ratio_lep_tau\n",
      "Multi DER_lep_eta_centrality-DER_mass_MMC\n",
      "Multi DER_lep_eta_centrality-DER_mass_transverse_met_lep\n",
      "Multi DER_lep_eta_centrality-DER_mass_vis\n",
      "Multi DER_lep_eta_centrality-DER_pt_h\n",
      "Multi DER_lep_eta_centrality-DER_deltaeta_jet_jet\n",
      "Multi DER_lep_eta_centrality-DER_mass_jet_jet\n",
      "Multi DER_lep_eta_centrality-DER_prodeta_jet_jet\n",
      "Multi DER_lep_eta_centrality-DER_deltar_tau_lep\n",
      "Multi DER_lep_eta_centrality-DER_pt_tot\n",
      "Multi DER_lep_eta_centrality-DER_sum_pt\n",
      "Multi DER_lep_eta_centrality-DER_pt_ratio_lep_tau\n",
      "Multi DER_lep_eta_centrality-DER_met_phi_centrality\n",
      "Multi PRI_tau_pt-DER_mass_MMC\n",
      "Multi PRI_tau_pt-DER_mass_transverse_met_lep\n",
      "Multi PRI_tau_pt-DER_mass_vis\n",
      "Multi PRI_tau_pt-DER_pt_h\n",
      "Multi PRI_tau_pt-DER_deltaeta_jet_jet\n",
      "Multi PRI_tau_pt-DER_mass_jet_jet\n",
      "Multi PRI_tau_pt-DER_prodeta_jet_jet\n",
      "Multi PRI_tau_pt-DER_deltar_tau_lep\n",
      "Multi PRI_tau_pt-DER_pt_tot\n",
      "Multi PRI_tau_pt-DER_sum_pt\n",
      "Multi PRI_tau_pt-DER_pt_ratio_lep_tau\n",
      "Multi PRI_tau_pt-DER_met_phi_centrality\n",
      "Multi PRI_tau_pt-DER_lep_eta_centrality\n",
      "Multi PRI_tau_eta-DER_mass_MMC\n",
      "Multi PRI_tau_eta-DER_mass_transverse_met_lep\n",
      "Multi PRI_tau_eta-DER_mass_vis\n",
      "Multi PRI_tau_eta-DER_pt_h\n",
      "Multi PRI_tau_eta-DER_deltaeta_jet_jet\n",
      "Multi PRI_tau_eta-DER_mass_jet_jet\n",
      "Multi PRI_tau_eta-DER_prodeta_jet_jet\n",
      "Multi PRI_tau_eta-DER_deltar_tau_lep\n",
      "Multi PRI_tau_eta-DER_pt_tot\n",
      "Multi PRI_tau_eta-DER_sum_pt\n",
      "Multi PRI_tau_eta-DER_pt_ratio_lep_tau\n",
      "Multi PRI_tau_eta-DER_met_phi_centrality\n",
      "Multi PRI_tau_eta-DER_lep_eta_centrality\n",
      "Multi PRI_tau_eta-PRI_tau_pt\n",
      "Multi PRI_tau_phi-DER_mass_MMC\n",
      "Multi PRI_tau_phi-DER_mass_transverse_met_lep\n",
      "Multi PRI_tau_phi-DER_mass_vis\n",
      "Multi PRI_tau_phi-DER_pt_h\n",
      "Multi PRI_tau_phi-DER_deltaeta_jet_jet\n",
      "Multi PRI_tau_phi-DER_mass_jet_jet\n",
      "Multi PRI_tau_phi-DER_prodeta_jet_jet\n",
      "Multi PRI_tau_phi-DER_deltar_tau_lep\n",
      "Multi PRI_tau_phi-DER_pt_tot\n",
      "Multi PRI_tau_phi-DER_sum_pt\n",
      "Multi PRI_tau_phi-DER_pt_ratio_lep_tau\n",
      "Multi PRI_tau_phi-DER_met_phi_centrality\n",
      "Multi PRI_tau_phi-DER_lep_eta_centrality\n",
      "Multi PRI_tau_phi-PRI_tau_pt\n",
      "Multi PRI_tau_phi-PRI_tau_eta\n",
      "Multi PRI_lep_pt-DER_mass_MMC\n",
      "Multi PRI_lep_pt-DER_mass_transverse_met_lep\n",
      "Multi PRI_lep_pt-DER_mass_vis\n",
      "Multi PRI_lep_pt-DER_pt_h\n",
      "Multi PRI_lep_pt-DER_deltaeta_jet_jet\n",
      "Multi PRI_lep_pt-DER_mass_jet_jet\n",
      "Multi PRI_lep_pt-DER_prodeta_jet_jet\n",
      "Multi PRI_lep_pt-DER_deltar_tau_lep\n",
      "Multi PRI_lep_pt-DER_pt_tot\n",
      "Multi PRI_lep_pt-DER_sum_pt\n",
      "Multi PRI_lep_pt-DER_pt_ratio_lep_tau\n",
      "Multi PRI_lep_pt-DER_met_phi_centrality\n",
      "Multi PRI_lep_pt-DER_lep_eta_centrality\n",
      "Multi PRI_lep_pt-PRI_tau_pt\n",
      "Multi PRI_lep_pt-PRI_tau_eta\n",
      "Multi PRI_lep_pt-PRI_tau_phi\n",
      "Multi PRI_lep_eta-DER_mass_MMC\n",
      "Multi PRI_lep_eta-DER_mass_transverse_met_lep\n",
      "Multi PRI_lep_eta-DER_mass_vis\n",
      "Multi PRI_lep_eta-DER_pt_h\n",
      "Multi PRI_lep_eta-DER_deltaeta_jet_jet\n",
      "Multi PRI_lep_eta-DER_mass_jet_jet\n",
      "Multi PRI_lep_eta-DER_prodeta_jet_jet\n",
      "Multi PRI_lep_eta-DER_deltar_tau_lep\n",
      "Multi PRI_lep_eta-DER_pt_tot\n",
      "Multi PRI_lep_eta-DER_sum_pt\n",
      "Multi PRI_lep_eta-DER_pt_ratio_lep_tau\n",
      "Multi PRI_lep_eta-DER_met_phi_centrality\n",
      "Multi PRI_lep_eta-DER_lep_eta_centrality\n",
      "Multi PRI_lep_eta-PRI_tau_pt\n",
      "Multi PRI_lep_eta-PRI_tau_eta\n",
      "Multi PRI_lep_eta-PRI_tau_phi\n",
      "Multi PRI_lep_eta-PRI_lep_pt\n",
      "Multi PRI_lep_phi-DER_mass_MMC\n",
      "Multi PRI_lep_phi-DER_mass_transverse_met_lep\n",
      "Multi PRI_lep_phi-DER_mass_vis\n",
      "Multi PRI_lep_phi-DER_pt_h\n",
      "Multi PRI_lep_phi-DER_deltaeta_jet_jet\n",
      "Multi PRI_lep_phi-DER_mass_jet_jet\n",
      "Multi PRI_lep_phi-DER_prodeta_jet_jet\n",
      "Multi PRI_lep_phi-DER_deltar_tau_lep\n",
      "Multi PRI_lep_phi-DER_pt_tot\n",
      "Multi PRI_lep_phi-DER_sum_pt\n",
      "Multi PRI_lep_phi-DER_pt_ratio_lep_tau\n",
      "Multi PRI_lep_phi-DER_met_phi_centrality\n",
      "Multi PRI_lep_phi-DER_lep_eta_centrality\n",
      "Multi PRI_lep_phi-PRI_tau_pt\n",
      "Multi PRI_lep_phi-PRI_tau_eta\n",
      "Multi PRI_lep_phi-PRI_tau_phi\n",
      "Multi PRI_lep_phi-PRI_lep_pt\n",
      "Multi PRI_lep_phi-PRI_lep_eta\n",
      "Multi PRI_met-DER_mass_MMC\n",
      "Multi PRI_met-DER_mass_transverse_met_lep\n",
      "Multi PRI_met-DER_mass_vis\n",
      "Multi PRI_met-DER_pt_h\n",
      "Multi PRI_met-DER_deltaeta_jet_jet\n",
      "Multi PRI_met-DER_mass_jet_jet\n",
      "Multi PRI_met-DER_prodeta_jet_jet\n",
      "Multi PRI_met-DER_deltar_tau_lep\n",
      "Multi PRI_met-DER_pt_tot\n",
      "Multi PRI_met-DER_sum_pt\n",
      "Multi PRI_met-DER_pt_ratio_lep_tau\n",
      "Multi PRI_met-DER_met_phi_centrality\n",
      "Multi PRI_met-DER_lep_eta_centrality\n",
      "Multi PRI_met-PRI_tau_pt\n",
      "Multi PRI_met-PRI_tau_eta\n",
      "Multi PRI_met-PRI_tau_phi\n",
      "Multi PRI_met-PRI_lep_pt\n",
      "Multi PRI_met-PRI_lep_eta\n",
      "Multi PRI_met-PRI_lep_phi\n",
      "Multi PRI_met_phi-DER_mass_MMC\n",
      "Multi PRI_met_phi-DER_mass_transverse_met_lep\n",
      "Multi PRI_met_phi-DER_mass_vis\n",
      "Multi PRI_met_phi-DER_pt_h\n",
      "Multi PRI_met_phi-DER_deltaeta_jet_jet\n",
      "Multi PRI_met_phi-DER_mass_jet_jet\n",
      "Multi PRI_met_phi-DER_prodeta_jet_jet\n",
      "Multi PRI_met_phi-DER_deltar_tau_lep\n",
      "Multi PRI_met_phi-DER_pt_tot\n",
      "Multi PRI_met_phi-DER_sum_pt\n",
      "Multi PRI_met_phi-DER_pt_ratio_lep_tau\n",
      "Multi PRI_met_phi-DER_met_phi_centrality\n",
      "Multi PRI_met_phi-DER_lep_eta_centrality\n",
      "Multi PRI_met_phi-PRI_tau_pt\n",
      "Multi PRI_met_phi-PRI_tau_eta\n",
      "Multi PRI_met_phi-PRI_tau_phi\n",
      "Multi PRI_met_phi-PRI_lep_pt\n",
      "Multi PRI_met_phi-PRI_lep_eta\n",
      "Multi PRI_met_phi-PRI_lep_phi\n",
      "Multi PRI_met_phi-PRI_met\n",
      "Multi PRI_met_sumet-DER_mass_MMC\n",
      "Multi PRI_met_sumet-DER_mass_transverse_met_lep\n",
      "Multi PRI_met_sumet-DER_mass_vis\n",
      "Multi PRI_met_sumet-DER_pt_h\n",
      "Multi PRI_met_sumet-DER_deltaeta_jet_jet\n",
      "Multi PRI_met_sumet-DER_mass_jet_jet\n",
      "Multi PRI_met_sumet-DER_prodeta_jet_jet\n",
      "Multi PRI_met_sumet-DER_deltar_tau_lep\n",
      "Multi PRI_met_sumet-DER_pt_tot\n",
      "Multi PRI_met_sumet-DER_sum_pt\n",
      "Multi PRI_met_sumet-DER_pt_ratio_lep_tau\n",
      "Multi PRI_met_sumet-DER_met_phi_centrality\n",
      "Multi PRI_met_sumet-DER_lep_eta_centrality\n",
      "Multi PRI_met_sumet-PRI_tau_pt\n",
      "Multi PRI_met_sumet-PRI_tau_eta\n",
      "Multi PRI_met_sumet-PRI_tau_phi\n",
      "Multi PRI_met_sumet-PRI_lep_pt\n",
      "Multi PRI_met_sumet-PRI_lep_eta\n",
      "Multi PRI_met_sumet-PRI_lep_phi\n",
      "Multi PRI_met_sumet-PRI_met\n",
      "Multi PRI_met_sumet-PRI_met_phi\n",
      "Multi PRI_jet_num-DER_mass_MMC\n",
      "Multi PRI_jet_num-DER_mass_transverse_met_lep\n",
      "Multi PRI_jet_num-DER_mass_vis\n",
      "Multi PRI_jet_num-DER_pt_h\n",
      "Multi PRI_jet_num-DER_deltaeta_jet_jet\n",
      "Multi PRI_jet_num-DER_mass_jet_jet\n",
      "Multi PRI_jet_num-DER_prodeta_jet_jet\n",
      "Multi PRI_jet_num-DER_deltar_tau_lep\n",
      "Multi PRI_jet_num-DER_pt_tot\n",
      "Multi PRI_jet_num-DER_sum_pt\n",
      "Multi PRI_jet_num-DER_pt_ratio_lep_tau\n",
      "Multi PRI_jet_num-DER_met_phi_centrality\n",
      "Multi PRI_jet_num-DER_lep_eta_centrality\n",
      "Multi PRI_jet_num-PRI_tau_pt\n",
      "Multi PRI_jet_num-PRI_tau_eta\n",
      "Multi PRI_jet_num-PRI_tau_phi\n",
      "Multi PRI_jet_num-PRI_lep_pt\n",
      "Multi PRI_jet_num-PRI_lep_eta\n",
      "Multi PRI_jet_num-PRI_lep_phi\n",
      "Multi PRI_jet_num-PRI_met\n",
      "Multi PRI_jet_num-PRI_met_phi\n",
      "Multi PRI_jet_num-PRI_met_sumet\n",
      "Multi PRI_jet_leading_pt-DER_mass_MMC\n",
      "Multi PRI_jet_leading_pt-DER_mass_transverse_met_lep\n",
      "Multi PRI_jet_leading_pt-DER_mass_vis\n",
      "Multi PRI_jet_leading_pt-DER_pt_h\n",
      "Multi PRI_jet_leading_pt-DER_deltaeta_jet_jet\n",
      "Multi PRI_jet_leading_pt-DER_mass_jet_jet\n",
      "Multi PRI_jet_leading_pt-DER_prodeta_jet_jet\n",
      "Multi PRI_jet_leading_pt-DER_deltar_tau_lep\n",
      "Multi PRI_jet_leading_pt-DER_pt_tot\n",
      "Multi PRI_jet_leading_pt-DER_sum_pt\n",
      "Multi PRI_jet_leading_pt-DER_pt_ratio_lep_tau\n",
      "Multi PRI_jet_leading_pt-DER_met_phi_centrality\n",
      "Multi PRI_jet_leading_pt-DER_lep_eta_centrality\n",
      "Multi PRI_jet_leading_pt-PRI_tau_pt\n",
      "Multi PRI_jet_leading_pt-PRI_tau_eta\n",
      "Multi PRI_jet_leading_pt-PRI_tau_phi\n",
      "Multi PRI_jet_leading_pt-PRI_lep_pt\n",
      "Multi PRI_jet_leading_pt-PRI_lep_eta\n",
      "Multi PRI_jet_leading_pt-PRI_lep_phi\n",
      "Multi PRI_jet_leading_pt-PRI_met\n",
      "Multi PRI_jet_leading_pt-PRI_met_phi\n",
      "Multi PRI_jet_leading_pt-PRI_met_sumet\n",
      "Multi PRI_jet_leading_pt-PRI_jet_num\n",
      "Multi PRI_jet_leading_eta-DER_mass_MMC\n",
      "Multi PRI_jet_leading_eta-DER_mass_transverse_met_lep\n",
      "Multi PRI_jet_leading_eta-DER_mass_vis\n",
      "Multi PRI_jet_leading_eta-DER_pt_h\n",
      "Multi PRI_jet_leading_eta-DER_deltaeta_jet_jet\n",
      "Multi PRI_jet_leading_eta-DER_mass_jet_jet\n",
      "Multi PRI_jet_leading_eta-DER_prodeta_jet_jet\n",
      "Multi PRI_jet_leading_eta-DER_deltar_tau_lep\n",
      "Multi PRI_jet_leading_eta-DER_pt_tot\n",
      "Multi PRI_jet_leading_eta-DER_sum_pt\n",
      "Multi PRI_jet_leading_eta-DER_pt_ratio_lep_tau\n",
      "Multi PRI_jet_leading_eta-DER_met_phi_centrality\n",
      "Multi PRI_jet_leading_eta-DER_lep_eta_centrality\n",
      "Multi PRI_jet_leading_eta-PRI_tau_pt\n",
      "Multi PRI_jet_leading_eta-PRI_tau_eta\n",
      "Multi PRI_jet_leading_eta-PRI_tau_phi\n",
      "Multi PRI_jet_leading_eta-PRI_lep_pt\n",
      "Multi PRI_jet_leading_eta-PRI_lep_eta\n",
      "Multi PRI_jet_leading_eta-PRI_lep_phi\n",
      "Multi PRI_jet_leading_eta-PRI_met\n",
      "Multi PRI_jet_leading_eta-PRI_met_phi\n",
      "Multi PRI_jet_leading_eta-PRI_met_sumet\n",
      "Multi PRI_jet_leading_eta-PRI_jet_num\n",
      "Multi PRI_jet_leading_eta-PRI_jet_leading_pt\n",
      "Multi PRI_jet_leading_phi-DER_mass_MMC\n",
      "Multi PRI_jet_leading_phi-DER_mass_transverse_met_lep\n",
      "Multi PRI_jet_leading_phi-DER_mass_vis\n",
      "Multi PRI_jet_leading_phi-DER_pt_h\n",
      "Multi PRI_jet_leading_phi-DER_deltaeta_jet_jet\n",
      "Multi PRI_jet_leading_phi-DER_mass_jet_jet\n",
      "Multi PRI_jet_leading_phi-DER_prodeta_jet_jet\n",
      "Multi PRI_jet_leading_phi-DER_deltar_tau_lep\n",
      "Multi PRI_jet_leading_phi-DER_pt_tot\n",
      "Multi PRI_jet_leading_phi-DER_sum_pt\n",
      "Multi PRI_jet_leading_phi-DER_pt_ratio_lep_tau\n",
      "Multi PRI_jet_leading_phi-DER_met_phi_centrality\n",
      "Multi PRI_jet_leading_phi-DER_lep_eta_centrality\n",
      "Multi PRI_jet_leading_phi-PRI_tau_pt\n",
      "Multi PRI_jet_leading_phi-PRI_tau_eta\n",
      "Multi PRI_jet_leading_phi-PRI_tau_phi\n",
      "Multi PRI_jet_leading_phi-PRI_lep_pt\n",
      "Multi PRI_jet_leading_phi-PRI_lep_eta\n",
      "Multi PRI_jet_leading_phi-PRI_lep_phi\n",
      "Multi PRI_jet_leading_phi-PRI_met\n",
      "Multi PRI_jet_leading_phi-PRI_met_phi\n",
      "Multi PRI_jet_leading_phi-PRI_met_sumet\n",
      "Multi PRI_jet_leading_phi-PRI_jet_num\n",
      "Multi PRI_jet_leading_phi-PRI_jet_leading_pt\n",
      "Multi PRI_jet_leading_phi-PRI_jet_leading_eta\n",
      "Multi PRI_jet_subleading_pt-DER_mass_MMC\n",
      "Multi PRI_jet_subleading_pt-DER_mass_transverse_met_lep\n",
      "Multi PRI_jet_subleading_pt-DER_mass_vis\n",
      "Multi PRI_jet_subleading_pt-DER_pt_h\n",
      "Multi PRI_jet_subleading_pt-DER_deltaeta_jet_jet\n",
      "Multi PRI_jet_subleading_pt-DER_mass_jet_jet\n",
      "Multi PRI_jet_subleading_pt-DER_prodeta_jet_jet\n",
      "Multi PRI_jet_subleading_pt-DER_deltar_tau_lep\n",
      "Multi PRI_jet_subleading_pt-DER_pt_tot\n",
      "Multi PRI_jet_subleading_pt-DER_sum_pt\n",
      "Multi PRI_jet_subleading_pt-DER_pt_ratio_lep_tau\n",
      "Multi PRI_jet_subleading_pt-DER_met_phi_centrality\n",
      "Multi PRI_jet_subleading_pt-DER_lep_eta_centrality\n",
      "Multi PRI_jet_subleading_pt-PRI_tau_pt\n",
      "Multi PRI_jet_subleading_pt-PRI_tau_eta\n",
      "Multi PRI_jet_subleading_pt-PRI_tau_phi\n",
      "Multi PRI_jet_subleading_pt-PRI_lep_pt\n",
      "Multi PRI_jet_subleading_pt-PRI_lep_eta\n",
      "Multi PRI_jet_subleading_pt-PRI_lep_phi\n",
      "Multi PRI_jet_subleading_pt-PRI_met\n",
      "Multi PRI_jet_subleading_pt-PRI_met_phi\n",
      "Multi PRI_jet_subleading_pt-PRI_met_sumet\n",
      "Multi PRI_jet_subleading_pt-PRI_jet_num\n",
      "Multi PRI_jet_subleading_pt-PRI_jet_leading_pt\n",
      "Multi PRI_jet_subleading_pt-PRI_jet_leading_eta\n",
      "Multi PRI_jet_subleading_pt-PRI_jet_leading_phi\n",
      "Multi PRI_jet_subleading_eta-DER_mass_MMC\n",
      "Multi PRI_jet_subleading_eta-DER_mass_transverse_met_lep\n",
      "Multi PRI_jet_subleading_eta-DER_mass_vis\n",
      "Multi PRI_jet_subleading_eta-DER_pt_h\n",
      "Multi PRI_jet_subleading_eta-DER_deltaeta_jet_jet\n",
      "Multi PRI_jet_subleading_eta-DER_mass_jet_jet\n",
      "Multi PRI_jet_subleading_eta-DER_prodeta_jet_jet\n",
      "Multi PRI_jet_subleading_eta-DER_deltar_tau_lep\n",
      "Multi PRI_jet_subleading_eta-DER_pt_tot\n",
      "Multi PRI_jet_subleading_eta-DER_sum_pt\n",
      "Multi PRI_jet_subleading_eta-DER_pt_ratio_lep_tau\n",
      "Multi PRI_jet_subleading_eta-DER_met_phi_centrality\n",
      "Multi PRI_jet_subleading_eta-DER_lep_eta_centrality\n",
      "Multi PRI_jet_subleading_eta-PRI_tau_pt\n",
      "Multi PRI_jet_subleading_eta-PRI_tau_eta\n",
      "Multi PRI_jet_subleading_eta-PRI_tau_phi\n",
      "Multi PRI_jet_subleading_eta-PRI_lep_pt\n",
      "Multi PRI_jet_subleading_eta-PRI_lep_eta\n",
      "Multi PRI_jet_subleading_eta-PRI_lep_phi\n",
      "Multi PRI_jet_subleading_eta-PRI_met\n",
      "Multi PRI_jet_subleading_eta-PRI_met_phi\n",
      "Multi PRI_jet_subleading_eta-PRI_met_sumet\n",
      "Multi PRI_jet_subleading_eta-PRI_jet_num\n",
      "Multi PRI_jet_subleading_eta-PRI_jet_leading_pt\n",
      "Multi PRI_jet_subleading_eta-PRI_jet_leading_eta\n",
      "Multi PRI_jet_subleading_eta-PRI_jet_leading_phi\n",
      "Multi PRI_jet_subleading_eta-PRI_jet_subleading_pt\n",
      "Multi PRI_jet_subleading_phi-DER_mass_MMC\n",
      "Multi PRI_jet_subleading_phi-DER_mass_transverse_met_lep\n",
      "Multi PRI_jet_subleading_phi-DER_mass_vis\n",
      "Multi PRI_jet_subleading_phi-DER_pt_h\n",
      "Multi PRI_jet_subleading_phi-DER_deltaeta_jet_jet\n",
      "Multi PRI_jet_subleading_phi-DER_mass_jet_jet\n",
      "Multi PRI_jet_subleading_phi-DER_prodeta_jet_jet\n",
      "Multi PRI_jet_subleading_phi-DER_deltar_tau_lep\n",
      "Multi PRI_jet_subleading_phi-DER_pt_tot\n",
      "Multi PRI_jet_subleading_phi-DER_sum_pt\n",
      "Multi PRI_jet_subleading_phi-DER_pt_ratio_lep_tau\n",
      "Multi PRI_jet_subleading_phi-DER_met_phi_centrality\n",
      "Multi PRI_jet_subleading_phi-DER_lep_eta_centrality\n",
      "Multi PRI_jet_subleading_phi-PRI_tau_pt\n",
      "Multi PRI_jet_subleading_phi-PRI_tau_eta\n",
      "Multi PRI_jet_subleading_phi-PRI_tau_phi\n",
      "Multi PRI_jet_subleading_phi-PRI_lep_pt\n",
      "Multi PRI_jet_subleading_phi-PRI_lep_eta\n",
      "Multi PRI_jet_subleading_phi-PRI_lep_phi\n",
      "Multi PRI_jet_subleading_phi-PRI_met\n",
      "Multi PRI_jet_subleading_phi-PRI_met_phi\n",
      "Multi PRI_jet_subleading_phi-PRI_met_sumet\n",
      "Multi PRI_jet_subleading_phi-PRI_jet_num\n",
      "Multi PRI_jet_subleading_phi-PRI_jet_leading_pt\n",
      "Multi PRI_jet_subleading_phi-PRI_jet_leading_eta\n",
      "Multi PRI_jet_subleading_phi-PRI_jet_leading_phi\n",
      "Multi PRI_jet_subleading_phi-PRI_jet_subleading_pt\n",
      "Multi PRI_jet_subleading_phi-PRI_jet_subleading_eta\n",
      "Multi PRI_jet_all_pt-DER_mass_MMC\n",
      "Multi PRI_jet_all_pt-DER_mass_transverse_met_lep\n",
      "Multi PRI_jet_all_pt-DER_mass_vis\n",
      "Multi PRI_jet_all_pt-DER_pt_h\n",
      "Multi PRI_jet_all_pt-DER_deltaeta_jet_jet\n",
      "Multi PRI_jet_all_pt-DER_mass_jet_jet\n",
      "Multi PRI_jet_all_pt-DER_prodeta_jet_jet\n",
      "Multi PRI_jet_all_pt-DER_deltar_tau_lep\n",
      "Multi PRI_jet_all_pt-DER_pt_tot\n",
      "Multi PRI_jet_all_pt-DER_sum_pt\n",
      "Multi PRI_jet_all_pt-DER_pt_ratio_lep_tau\n",
      "Multi PRI_jet_all_pt-DER_met_phi_centrality\n",
      "Multi PRI_jet_all_pt-DER_lep_eta_centrality\n",
      "Multi PRI_jet_all_pt-PRI_tau_pt\n",
      "Multi PRI_jet_all_pt-PRI_tau_eta\n",
      "Multi PRI_jet_all_pt-PRI_tau_phi\n",
      "Multi PRI_jet_all_pt-PRI_lep_pt\n",
      "Multi PRI_jet_all_pt-PRI_lep_eta\n",
      "Multi PRI_jet_all_pt-PRI_lep_phi\n",
      "Multi PRI_jet_all_pt-PRI_met\n",
      "Multi PRI_jet_all_pt-PRI_met_phi\n",
      "Multi PRI_jet_all_pt-PRI_met_sumet\n",
      "Multi PRI_jet_all_pt-PRI_jet_num\n",
      "Multi PRI_jet_all_pt-PRI_jet_leading_pt\n",
      "Multi PRI_jet_all_pt-PRI_jet_leading_eta\n",
      "Multi PRI_jet_all_pt-PRI_jet_leading_phi\n",
      "Multi PRI_jet_all_pt-PRI_jet_subleading_pt\n",
      "Multi PRI_jet_all_pt-PRI_jet_subleading_eta\n",
      "Multi PRI_jet_all_pt-PRI_jet_subleading_phi\n"
     ]
    }
   ],
   "source": [
    "missX = addTwoX('Multi', dMultiKernel)"
   ]
  },
  {
   "cell_type": "code",
   "execution_count": 51,
   "metadata": {
    "collapsed": false
   },
   "outputs": [],
   "source": [
    "missingX = missX.copy()"
   ]
  },
  {
   "cell_type": "code",
   "execution_count": 52,
   "metadata": {
    "collapsed": false
   },
   "outputs": [
    {
     "data": {
      "text/plain": [
       "(250000, 465)"
      ]
     },
     "execution_count": 52,
     "metadata": {},
     "output_type": "execute_result"
    }
   ],
   "source": [
    "missingX.shape"
   ]
  },
  {
   "cell_type": "code",
   "execution_count": 33,
   "metadata": {
    "collapsed": false
   },
   "outputs": [],
   "source": [
    "col1 = missingX_scaled[:,0]\n",
    "col2 = missingX_scaled[:,1]\n",
    "myCol = col1 * col2"
   ]
  },
  {
   "cell_type": "code",
   "execution_count": 34,
   "metadata": {
    "collapsed": false
   },
   "outputs": [
    {
     "data": {
      "text/plain": [
       "array([ 0.31491066,  0.74082703,  0.        , ..., -0.31093067,\n",
       "       -0.51009733,  0.        ])"
      ]
     },
     "execution_count": 34,
     "metadata": {},
     "output_type": "execute_result"
    }
   ],
   "source": [
    "col1"
   ]
  },
  {
   "cell_type": "code",
   "execution_count": 35,
   "metadata": {
    "collapsed": false
   },
   "outputs": [
    {
     "data": {
      "text/plain": [
       "array([ 0.06833197,  0.55250482,  3.19515553, ...,  0.31931645,\n",
       "       -0.84532397,  0.66533608])"
      ]
     },
     "execution_count": 35,
     "metadata": {},
     "output_type": "execute_result"
    }
   ],
   "source": [
    "col2"
   ]
  },
  {
   "cell_type": "code",
   "execution_count": 36,
   "metadata": {
    "collapsed": false
   },
   "outputs": [
    {
     "data": {
      "text/plain": [
       "array([ 0.02151846,  0.40931051,  0.        , ..., -0.09928528,\n",
       "        0.4311975 ,  0.        ])"
      ]
     },
     "execution_count": 36,
     "metadata": {},
     "output_type": "execute_result"
    }
   ],
   "source": [
    "myCol"
   ]
  },
  {
   "cell_type": "code",
   "execution_count": null,
   "metadata": {
    "collapsed": true
   },
   "outputs": [],
   "source": []
  }
 ],
 "metadata": {
  "kernelspec": {
   "display_name": "Python 3",
   "language": "python",
   "name": "python3"
  },
  "language_info": {
   "codemirror_mode": {
    "name": "ipython",
    "version": 3
   },
   "file_extension": ".py",
   "mimetype": "text/x-python",
   "name": "python",
   "nbconvert_exporter": "python",
   "pygments_lexer": "ipython3",
   "version": "3.5.1"
  }
 },
 "nbformat": 4,
 "nbformat_minor": 0
}
