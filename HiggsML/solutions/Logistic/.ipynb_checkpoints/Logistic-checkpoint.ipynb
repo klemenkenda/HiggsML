{
 "cells": [
  {
   "cell_type": "markdown",
   "metadata": {},
   "source": [
    "# Logistic Regression"
   ]
  },
  {
   "cell_type": "code",
   "execution_count": 90,
   "metadata": {
    "collapsed": true
   },
   "outputs": [],
   "source": [
    "%matplotlib inline\n",
    "import numpy as np\n",
    "import pandas as pd\n",
    "import matplotlib.pyplot as plt"
   ]
  },
  {
   "cell_type": "markdown",
   "metadata": {},
   "source": [
    "## Loading the data"
   ]
  },
  {
   "cell_type": "code",
   "execution_count": 104,
   "metadata": {
    "collapsed": false
   },
   "outputs": [],
   "source": [
    "dirName = '../../data/'\n",
    "fileName = dirName + 'training.csv'\n",
    "data = pd.read_csv(fileName)"
   ]
  },
  {
   "cell_type": "markdown",
   "metadata": {},
   "source": [
    "## Data Preprocessing"
   ]
  },
  {
   "cell_type": "code",
   "execution_count": 119,
   "metadata": {
    "collapsed": false
   },
   "outputs": [],
   "source": [
    "# replace missing values with NaN\n",
    "# data = data.replace(-999.0, np.nan)\n",
    "\n",
    "# learning data\n",
    "X = data.copy()\n",
    "del X['EventId']\n",
    "del X['Weight']\n",
    "del X['Label']\n",
    "y = data['Label']\n",
    "w = data['Weight']"
   ]
  },
  {
   "cell_type": "markdown",
   "metadata": {},
   "source": [
    "### Splitting training set to - real training and training test"
   ]
  },
  {
   "cell_type": "code",
   "execution_count": 120,
   "metadata": {
    "collapsed": true
   },
   "outputs": [],
   "source": [
    "Xtrain = X[1:225000]\n",
    "Xtest = X[-25000:]\n",
    "ytrain = y[1:225000]\n",
    "ytest = y[-25000:]\n",
    "wtrain = w[1:225000]\n",
    "wtest = w[-25000:]"
   ]
  },
  {
   "cell_type": "markdown",
   "metadata": {},
   "source": [
    "## Logistic Regression"
   ]
  },
  {
   "cell_type": "markdown",
   "metadata": {},
   "source": [
    "### Training"
   ]
  },
  {
   "cell_type": "code",
   "execution_count": 107,
   "metadata": {
    "collapsed": true
   },
   "outputs": [],
   "source": [
    "# imports\n",
    "import numpy as np\n",
    "from sklearn import linear_model"
   ]
  },
  {
   "cell_type": "code",
   "execution_count": 108,
   "metadata": {
    "collapsed": false
   },
   "outputs": [],
   "source": [
    "# model\n",
    "logistic = linear_model.LogisticRegression(C=1e5)"
   ]
  },
  {
   "cell_type": "code",
   "execution_count": 109,
   "metadata": {
    "collapsed": false
   },
   "outputs": [
    {
     "data": {
      "text/plain": [
       "LogisticRegression(C=100000.0, class_weight=None, dual=False,\n",
       "          fit_intercept=True, intercept_scaling=1, max_iter=100,\n",
       "          multi_class='ovr', n_jobs=1, penalty='l2', random_state=None,\n",
       "          solver='liblinear', tol=0.0001, verbose=0, warm_start=False)"
      ]
     },
     "execution_count": 109,
     "metadata": {},
     "output_type": "execute_result"
    }
   ],
   "source": [
    "# fit\n",
    "logistic.fit(Xtrain, ytrain)"
   ]
  },
  {
   "cell_type": "markdown",
   "metadata": {},
   "source": [
    "## Validation"
   ]
  },
  {
   "cell_type": "code",
   "execution_count": 111,
   "metadata": {
    "collapsed": false
   },
   "outputs": [],
   "source": [
    "# validation\n",
    "predicted = logistic.predict(Xtest)"
   ]
  },
  {
   "cell_type": "code",
   "execution_count": 113,
   "metadata": {
    "collapsed": false
   },
   "outputs": [],
   "source": [
    "# compute AMS\n",
    "def ams(s, b):\n",
    "    from math import sqrt,log\n",
    "    if b==0:\n",
    "        return 0\n",
    "\n",
    "    return sqrt(2*((s+b+10)*log(1+float(s)/(b+10))-s))"
   ]
  },
  {
   "cell_type": "code",
   "execution_count": 139,
   "metadata": {
    "collapsed": false
   },
   "outputs": [],
   "source": [
    "# compute all measures\n",
    "def validate(predicted, real, weights):\n",
    "    sumsig = 0.\n",
    "    sumbkg = 0.\n",
    "    tp = 0.\n",
    "    tn = 0.\n",
    "    fp = 0.\n",
    "    fn = 0.\n",
    "    precision = 0.\n",
    "    recall = 0.\n",
    "    acc = 0.\n",
    "    \n",
    "    if (predicted.shape[0] != real.shape[0]):\n",
    "        raise Exception\n",
    "    \n",
    "    for i in range(predicted.shape[0]):\n",
    "        if predicted[i] == \"s\":\n",
    "            if real[i] == \"s\":\n",
    "                sumsig += weights[i]\n",
    "                tp += 1\n",
    "            else:\n",
    "                sumbkg += weights[i]\n",
    "                fp += 1\n",
    "        else:\n",
    "            if real[i] == \"s\":\n",
    "                fn += 1\n",
    "            else:\n",
    "                tn += 1\n",
    "    \n",
    "    # calculate scores\n",
    "    amsscore = ams(sumsig * 10, sumbkg * 10)\n",
    "    precision = tp / (tp + fp)\n",
    "    recall = tp / (tp + fn)\n",
    "    acc = (tp + tn) / (tp + fp + tn + fn)\n",
    "    f1score = (2 * precision * recall)/(precision + recall)\n",
    "\n",
    "    printScores(tp, tn, fp, fn, precision, recall, acc, f1score, amsscore)\n",
    "    \n",
    "    return amsscore"
   ]
  },
  {
   "cell_type": "code",
   "execution_count": 122,
   "metadata": {
    "collapsed": true
   },
   "outputs": [],
   "source": [
    "def printScores(tp, tn, fp, fn, precision, recall, acc, f1score, amsscore):\n",
    "    all = tp + tn + fp + fn\n",
    "    print(\"TP: \", tp/all)\n",
    "    print(\"TN: \", tn/all)\n",
    "    print(\"FP: \", fp/all)\n",
    "    print(\"FN: \", fn/all)\n",
    "    print(\"Precision: \", precision)\n",
    "    print(\"Recall: \", recall)\n",
    "    print(\"Acc: \", acc)\n",
    "    print(\"F1: \", f1score)\n",
    "    print(\"AMS: \", amsscore)"
   ]
  },
  {
   "cell_type": "code",
   "execution_count": 140,
   "metadata": {
    "collapsed": false,
    "scrolled": true
   },
   "outputs": [
    {
     "name": "stdout",
     "output_type": "stream",
     "text": [
      "TP:  0.1844\n",
      "TN:  0.56416\n",
      "FP:  0.09148\n",
      "FN:  0.15996\n",
      "Precision:  0.6684065535740177\n",
      "Recall:  0.5354861191776048\n",
      "Acc:  0.74856\n",
      "F1:  0.5946085386302076\n",
      "AMS:  2.0147979285683175\n"
     ]
    },
    {
     "data": {
      "text/plain": [
       "2.0147979285683175"
      ]
     },
     "execution_count": 140,
     "metadata": {},
     "output_type": "execute_result"
    }
   ],
   "source": [
    "validate(predicted, np.array(ytest), np.array(wtest))"
   ]
  },
  {
   "cell_type": "code",
   "execution_count": 276,
   "metadata": {
    "collapsed": false
   },
   "outputs": [],
   "source": [
    "barX = list(abs(logistic.coef_[0]))"
   ]
  },
  {
   "cell_type": "code",
   "execution_count": 277,
   "metadata": {
    "collapsed": false
   },
   "outputs": [],
   "source": [
    "barV = list(X.columns.values)\n",
    "ind = np.arange(30)"
   ]
  },
  {
   "cell_type": "code",
   "execution_count": 317,
   "metadata": {
    "collapsed": false
   },
   "outputs": [
    {
     "data": {
      "text/plain": [
       "([<matplotlib.axis.XTick at 0xc707fa0a20>,\n",
       "  <matplotlib.axis.XTick at 0xc707824908>,\n",
       "  <matplotlib.axis.XTick at 0xc707343d30>,\n",
       "  <matplotlib.axis.XTick at 0xc706d4de80>,\n",
       "  <matplotlib.axis.XTick at 0xc706d248d0>,\n",
       "  <matplotlib.axis.XTick at 0xc707327e48>,\n",
       "  <matplotlib.axis.XTick at 0xc7076d0cc0>,\n",
       "  <matplotlib.axis.XTick at 0xc706d24f98>,\n",
       "  <matplotlib.axis.XTick at 0xc706f749b0>,\n",
       "  <matplotlib.axis.XTick at 0xc7073436d8>,\n",
       "  <matplotlib.axis.XTick at 0xc706d10c18>,\n",
       "  <matplotlib.axis.XTick at 0xc706d40668>,\n",
       "  <matplotlib.axis.XTick at 0xc706d270b8>,\n",
       "  <matplotlib.axis.XTick at 0xc706d102e8>,\n",
       "  <matplotlib.axis.XTick at 0xc706d27a90>,\n",
       "  <matplotlib.axis.XTick at 0xc706d124a8>,\n",
       "  <matplotlib.axis.XTick at 0xc706d12eb8>,\n",
       "  <matplotlib.axis.XTick at 0xc706d8c908>,\n",
       "  <matplotlib.axis.XTick at 0xc706d87358>,\n",
       "  <matplotlib.axis.XTick at 0xc706d87d68>,\n",
       "  <matplotlib.axis.XTick at 0xc706d817b8>,\n",
       "  <matplotlib.axis.XTick at 0xc706d7a208>,\n",
       "  <matplotlib.axis.XTick at 0xc706d7ac18>,\n",
       "  <matplotlib.axis.XTick at 0xc706d73668>,\n",
       "  <matplotlib.axis.XTick at 0xc706d640b8>,\n",
       "  <matplotlib.axis.XTick at 0xc706d64ac8>,\n",
       "  <matplotlib.axis.XTick at 0xc706d5e518>,\n",
       "  <matplotlib.axis.XTick at 0xc706d5ef28>,\n",
       "  <matplotlib.axis.XTick at 0xc706d51978>,\n",
       "  <matplotlib.axis.XTick at 0xc706d543c8>],\n",
       " <a list of 30 Text xticklabel objects>)"
      ]
     },
     "execution_count": 317,
     "metadata": {},
     "output_type": "execute_result"
    },
    {
     "data": {
      "image/png": "[encoded data removed]",
      "text/plain": [
       "<matplotlib.figure.Figure at 0xc707749f28>"
      ]
     },
     "metadata": {},
     "output_type": "display_data"
    }
   ],
   "source": [
    "fig = plt.figure(figsize=(10,5)) \n",
    "ax = fig.add_subplot(111)\n",
    "rects1 = ax.bar(ind, barX, align='center', color='r')\n",
    "plt.yscale('log')\n",
    "ax.set_xticklabels(barV)\n",
    "labels = ax.get_xticklabels()\n",
    "plt.setp(labels, rotation=90, fontsize=9)\n",
    "plt.xticks(range(30))\n",
    "#ax.xaxis.set_major_locator(1)"
   ]
  },
  {
   "cell_type": "markdown",
   "metadata": {},
   "source": [
    "## Export for Kaggle"
   ]
  },
  {
   "cell_type": "code",
   "execution_count": 167,
   "metadata": {
    "collapsed": true
   },
   "outputs": [],
   "source": [
    "dirName = '../../data/'\n",
    "fileName = dirName + 'test.csv'\n",
    "dataRealTest = pd.read_csv(fileName)\n",
    "\n",
    "# learning data\n",
    "Xrealtest = dataRealTest.copy()\n",
    "EventId = np.array(Xrealtest['EventId'])\n",
    "del Xrealtest['EventId']"
   ]
  },
  {
   "cell_type": "code",
   "execution_count": 154,
   "metadata": {
    "collapsed": true
   },
   "outputs": [],
   "source": [
    "# prediction\n",
    "predictedTest = logistic.predict(Xrealtest)\n",
    "predictedP = logistic.predict_proba(Xrealtest)\n",
    "predictedP = predictedP[:,0]"
   ]
  },
  {
   "cell_type": "code",
   "execution_count": 155,
   "metadata": {
    "collapsed": false
   },
   "outputs": [],
   "source": [
    "# make matrix\n",
    "for i in range(len(predictedP)):\n",
    "    "
   ]
  },
  {
   "cell_type": "code",
   "execution_count": 185,
   "metadata": {
    "collapsed": false
   },
   "outputs": [],
   "source": [
    "resultM = np.concatenate((np.matrix(EventId).T, np.matrix(predictedTest).T, np.matrix(predictedP).T), axis=1)"
   ]
  },
  {
   "cell_type": "code",
   "execution_count": 214,
   "metadata": {
    "collapsed": false
   },
   "outputs": [],
   "source": [
    "dt = np.dtype([('EventId', np.str_, 16), ('Label', np.str_, 2), ('Weight', np.float_, (4,))])\n",
    "resultA = np.array(resultM);"
   ]
  },
  {
   "cell_type": "code",
   "execution_count": 204,
   "metadata": {
    "collapsed": false
   },
   "outputs": [
    {
     "ename": "TypeError",
     "evalue": "Cannot change data-type for object array.",
     "output_type": "error",
     "traceback": [
      "\u001b[1;31m---------------------------------------------------------------------------\u001b[0m",
      "\u001b[1;31mTypeError\u001b[0m                                 Traceback (most recent call last)",
      "\u001b[1;32m<ipython-input-204-0fa42649dbd5>\u001b[0m in \u001b[0;36m<module>\u001b[1;34m()\u001b[0m\n\u001b[1;32m----> 1\u001b[1;33m \u001b[0mresultA\u001b[0m\u001b[1;33m.\u001b[0m\u001b[0mview\u001b[0m\u001b[1;33m(\u001b[0m\u001b[1;34m'S10,S10,f8'\u001b[0m\u001b[1;33m)\u001b[0m\u001b[1;33m\u001b[0m\u001b[0m\n\u001b[0m",
      "\u001b[1;32mC:\\Users\\kkenda\\Programs\\Anaconda3\\lib\\site-packages\\numpy\\core\\_internal.py\u001b[0m in \u001b[0;36m_view_is_safe\u001b[1;34m(oldtype, newtype)\u001b[0m\n\u001b[0;32m    361\u001b[0m \u001b[1;33m\u001b[0m\u001b[0m\n\u001b[0;32m    362\u001b[0m     \u001b[1;32mif\u001b[0m \u001b[0mnewtype\u001b[0m\u001b[1;33m.\u001b[0m\u001b[0mhasobject\u001b[0m \u001b[1;32mor\u001b[0m \u001b[0moldtype\u001b[0m\u001b[1;33m.\u001b[0m\u001b[0mhasobject\u001b[0m\u001b[1;33m:\u001b[0m\u001b[1;33m\u001b[0m\u001b[0m\n\u001b[1;32m--> 363\u001b[1;33m         \u001b[1;32mraise\u001b[0m \u001b[0mTypeError\u001b[0m\u001b[1;33m(\u001b[0m\u001b[1;34m\"Cannot change data-type for object array.\"\u001b[0m\u001b[1;33m)\u001b[0m\u001b[1;33m\u001b[0m\u001b[0m\n\u001b[0m\u001b[0;32m    364\u001b[0m     \u001b[1;32mreturn\u001b[0m\u001b[1;33m\u001b[0m\u001b[0m\n\u001b[0;32m    365\u001b[0m \u001b[1;33m\u001b[0m\u001b[0m\n",
      "\u001b[1;31mTypeError\u001b[0m: Cannot change data-type for object array."
     ]
    }
   ],
   "source": [
    "resultA.view('S10,S10,f8')"
   ]
  },
  {
   "cell_type": "code",
   "execution_count": 224,
   "metadata": {
    "collapsed": false
   },
   "outputs": [],
   "source": [
    "alltestsorted = sorted(resultA, key=lambda entry: entry[2])"
   ]
  },
  {
   "cell_type": "code",
   "execution_count": 227,
   "metadata": {
    "collapsed": false
   },
   "outputs": [
    {
     "name": "stdout",
     "output_type": "stream",
     "text": [
      "Final loop to write the submission file submission_logistic.csv\n",
      " You can now submit  submission_logistic.csv  to kaggle site\n"
     ]
    }
   ],
   "source": [
    "submissionfilename=\"submission_logistic.csv\"\n",
    "print(\"Final loop to write the submission file\",submissionfilename)\n",
    "outputfile=open(submissionfilename,\"w\")\n",
    "outputfile.write(\"EventId,RankOrder,Class\\n\")\n",
    "iid=headertest.index(\"EventId\")\n",
    "if iid<0:\n",
    "    print(\"ERROR could not find variable EventId in test file\")\n",
    "    raise Exception # should not happen\n",
    "\n",
    "rank=1 # kaggle wants to start at 1\n",
    "for entry in alltestsorted:\n",
    "    slabel = entry[1]\n",
    "\n",
    "    outputfile.write(str(entry[iid])+\",\")\n",
    "    outputfile.write(str(rank)+\",\")\n",
    "    outputfile.write(slabel)            \n",
    "    outputfile.write(\"\\n\")\n",
    "    rank+=1\n",
    "\n",
    "\n",
    "outputfile.close()\n",
    "print(\" You can now submit \",submissionfilename,\" to kaggle site\")"
   ]
  },
  {
   "cell_type": "markdown",
   "metadata": {},
   "source": [
    "Kaggle score AMS = 1.998"
   ]
  }
 ],
 "metadata": {
  "kernelspec": {
   "display_name": "Python 3",
   "language": "python",
   "name": "python3"
  },
  "language_info": {
   "codemirror_mode": {
    "name": "ipython",
    "version": 3
   },
   "file_extension": ".py",
   "mimetype": "text/x-python",
   "name": "python",
   "nbconvert_exporter": "python",
   "pygments_lexer": "ipython3",
   "version": "3.5.1"
  }
 },
 "nbformat": 4,
 "nbformat_minor": 0
}
