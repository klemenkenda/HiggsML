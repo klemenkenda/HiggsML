{
 "cells": [
  {
   "cell_type": "markdown",
   "metadata": {},
   "source": [
    "# Support graphics for diplomma\n",
    "## SVM"
   ]
  },
  {
   "cell_type": "code",
   "execution_count": 23,
   "metadata": {
    "collapsed": true
   },
   "outputs": [],
   "source": [
    "%matplotlib inline\n",
    "import numpy as np\n",
    "import matplotlib.pyplot as plt"
   ]
  },
  {
   "cell_type": "code",
   "execution_count": 41,
   "metadata": {
    "collapsed": false
   },
   "outputs": [],
   "source": [
    "# many hyperplanes\n",
    "N = 100\n",
    "c1 = np.random.rand(N, 2)\n",
    "l = np.zeros(N)\n",
    "\n",
    "for i in range(0, N):\n",
    "    if (c1[i, 0] - c1[i, 1]) < -0.3:\n",
    "        l[i] = 1\n",
    "    elif (c1[i, 0] - c1[i, 1]) > 0.3:\n",
    "        l[i] = 2\n",
    "    else:\n",
    "        l[i] = 0"
   ]
  },
  {
   "cell_type": "code",
   "execution_count": 42,
   "metadata": {
    "collapsed": false
   },
   "outputs": [],
   "source": [
    "# positive and negative examples\n",
    "positive = c1[l == 1]\n",
    "negative = c1[l == 2]"
   ]
  },
  {
   "cell_type": "code",
   "execution_count": 76,
   "metadata": {
    "collapsed": false
   },
   "outputs": [
    {
     "data": {
      "image/png": "[encoded data removed]",
      "text/plain": [
       "<matplotlib.figure.Figure at 0xb5dd4afeb8>"
      ]
     },
     "metadata": {},
     "output_type": "display_data"
    }
   ],
   "source": [
    "# scatter plot 1\n",
    "plt.figure(figsize=(4,4));\n",
    "plt.scatter(positive[:,0], positive[:,1], c=\"green\", alpha=0.5)\n",
    "plt.scatter(negative[:,0], negative[:,1], c=\"red\", alpha=0.5)\n",
    "plt.plot([-0,1], [-0,1], 'k-', lw=2)\n",
    "plt.axes().set_aspect('equal')\n",
    "plt.gca().axes.get_xaxis().set_visible(False)\n",
    "plt.gca().axes.get_yaxis().set_visible(False)\n",
    "plt.savefig('svm_axes_1.pdf')"
   ]
  },
  {
   "cell_type": "code",
   "execution_count": 77,
   "metadata": {
    "collapsed": false
   },
   "outputs": [
    {
     "data": {
      "image/png": "[encoded data removed]",
      "text/plain": [
       "<matplotlib.figure.Figure at 0xb5dc1a7f60>"
      ]
     },
     "metadata": {},
     "output_type": "display_data"
    }
   ],
   "source": [
    "# scatter plot 2\n",
    "plt.figure(figsize=(4,4));\n",
    "plt.scatter(positive[:,0], positive[:,1], c=\"green\", alpha=0.5)\n",
    "plt.scatter(negative[:,0], negative[:,1], c=\"red\", alpha=0.5)\n",
    "plt.plot([0.3,0.7], [-0,1], 'k-', lw=2)\n",
    "plt.axes().set_aspect('equal')\n",
    "plt.gca().axes.get_xaxis().set_visible(False)\n",
    "plt.gca().axes.get_yaxis().set_visible(False)\n",
    "plt.savefig('svm_axes_2.pdf')"
   ]
  },
  {
   "cell_type": "code",
   "execution_count": 78,
   "metadata": {
    "collapsed": false
   },
   "outputs": [
    {
     "data": {
      "image/png": "[encoded data removed]",
      "text/plain": [
       "<matplotlib.figure.Figure at 0xb5dd382828>"
      ]
     },
     "metadata": {},
     "output_type": "display_data"
    }
   ],
   "source": [
    "# scatter plot 2\n",
    "plt.figure(figsize=(4,4));\n",
    "plt.scatter(positive[:,0], positive[:,1], c=\"green\", alpha=0.5)\n",
    "plt.scatter(negative[:,0], negative[:,1], c=\"red\", alpha=0.5)\n",
    "plt.plot([0,1], [0.3,0.7], 'k-', lw=2)\n",
    "plt.axes().set_aspect('equal')\n",
    "plt.gca().axes.get_xaxis().set_visible(False)\n",
    "plt.gca().axes.get_yaxis().set_visible(False)\n",
    "plt.savefig('svm_axes_3.pdf')"
   ]
  },
  {
   "cell_type": "code",
   "execution_count": null,
   "metadata": {
    "collapsed": true
   },
   "outputs": [],
   "source": []
  }
 ],
 "metadata": {
  "kernelspec": {
   "display_name": "Python 3",
   "language": "python",
   "name": "python3"
  },
  "language_info": {
   "codemirror_mode": {
    "name": "ipython",
    "version": 3
   },
   "file_extension": ".py",
   "mimetype": "text/x-python",
   "name": "python",
   "nbconvert_exporter": "python",
   "pygments_lexer": "ipython3",
   "version": "3.5.1"
  }
 },
 "nbformat": 4,
 "nbformat_minor": 0
}
